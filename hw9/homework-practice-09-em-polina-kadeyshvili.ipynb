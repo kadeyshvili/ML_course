{
 "cells": [
  {
   "cell_type": "markdown",
   "metadata": {
    "pycharm": {
     "name": "#%% md\n"
    }
   },
   "source": [
    "# Машинное обучение, ФКН ВШЭ\n",
    "\n",
    "# Практическое задание 9. EM-алгоритм\n",
    "\n",
    "## Общая информация\n",
    "\n",
    "Дата выдачи: 28.02.2024\n",
    "\n",
    "Мягкий дедлайн: 19.03.2024 23:59 MSK\n",
    "\n",
    "Жёсткий дедлайн: 25.03.2024 23:59 MSK\n",
    "\n",
    "## Оценивание и штрафы\n",
    "Каждая из задач имеет определенную «стоимость» (указана в скобках около задачи). Максимальная оценка за работу (без учёта бонусов) — 15 баллов.\n",
    "\n",
    "Сдавать задание после указанного жёсткого срока сдачи нельзя. При выставлении неполного балла за задание в связи с наличием ошибок на усмотрение проверяющего предусмотрена возможность исправить работу на указанных в ответном письме условиях.\n",
    "\n",
    "Задание выполняется самостоятельно. «Похожие» решения считаются плагиатом и все задействованные студенты (в том числе те, у кого списали) не могут получить за него больше 0 баллов (подробнее о плагиате см. на странице курса). Если вы нашли решение какого-то из заданий (или его часть) в открытом источнике, необходимо указать ссылку на этот источник в отдельном блоке в конце вашей работы (скорее всего вы будете не единственным, кто это нашел, поэтому чтобы исключить подозрение в плагиате, необходима ссылка на источник).\n",
    "\n",
    "Неэффективная реализация кода может негативно отразиться на оценке.\n",
    "\n",
    "## Формат сдачи\n",
    "Задания сдаются через систему anytask. Посылка должна содержать:\n",
    "* Ноутбук homework-practice-09-em-Username.ipynb\n",
    "* Модули preprocessing.py, metrics.py, models.py, содержащие написанный вами код\n",
    "* Ссылки на посылки в Яндекс.Контест для всех функций и классов, которые вы реализовали\n",
    "\n",
    "Ссылка на Яндекс.Контест: https://contest.yandex.ru/contest/60281\n",
    "\n",
    "Username — ваша фамилия и имя на латинице именно в таком порядке"
   ]
  },
  {
   "cell_type": "markdown",
   "metadata": {},
   "source": [
    "Успешные посылки:\n",
    "\n",
    "https://contest.yandex.ru/contest/60281/run-report/110498697/\n",
    "\n",
    "https://contest.yandex.ru/contest/60281/run-report/110765434/"
   ]
  },
  {
   "cell_type": "markdown",
   "metadata": {
    "pycharm": {
     "name": "#%% md\n"
    }
   },
   "source": [
    "# Generative model of Labels, Abilities, and Difficulties (GLAD)\n",
    "\n",
    "В [семинаре 16](https://github.com/esokolov/ml-course-hse/blob/master/2022-spring/seminars/sem16-em.pdf) мы рассмотрели задачу восстановления истинной разметки по меткам от экспертов (которым мы не можем доверять в полной мере, более того, их предсказания могут расходиться).\n",
    "\n",
    "Рассмотрим следующую вероятностную модель:\n",
    "\n",
    "$$ p(L, Z | \\alpha, \\beta) = \\prod_{i=1}^{n} \\prod_{j=1}^m \\sigma(\\alpha_j\\beta_i)^{[l_{ij}=z_i]}\\sigma(-\\alpha_j\\beta_i)^{1-[l_{ij}=z_i]} p(z_j)$$\n",
    "\n",
    "где $l_{ij} -$ ответ $j$-го эксперта на задачу $i$, $z_j -$ истинная разметка, $\\alpha_i, \\beta_j-$ уровень экспертизы и сложность задачи соответственно. Для более подробного описания модели можно прочитать материалы семинара, а также [оригинальную статью](http://papers.nips.cc/paper/3644-whose-vote-should-count-more-optimal-integration-of-labels-from-labelers-of-unknown-expertise.pdf). Априорное распределение положим равномерным: $p(z_i) = 0.5$."
   ]
  },
  {
   "cell_type": "code",
   "execution_count": 1,
   "metadata": {
    "pycharm": {
     "name": "#%%\n"
    }
   },
   "outputs": [],
   "source": [
    "import numpy as np\n",
    "seed = 0xDEADF00D\n",
    "np.random.seed(seed)"
   ]
  },
  {
   "cell_type": "code",
   "execution_count": 2,
   "metadata": {
    "pycharm": {
     "name": "#%%\n"
    }
   },
   "outputs": [],
   "source": [
    "L = np.load('L.npy')\n",
    "n, m = L.shape"
   ]
  },
  {
   "cell_type": "markdown",
   "metadata": {
    "pycharm": {
     "name": "#%% md\n"
    }
   },
   "source": [
    "**Задание 1. (2 балла)** Реализуйте EM-алгоритм для заданной выше модели. Вы можете воспользоваться предложенными шаблонами или написать свои. \n",
    "\n",
    "Обратите внимание, что правдоподобие моделирует не вероятность метки $l_{ij}$ принять значение 1 или 0, а вероятность того, что она равна скрытой переменной $z_i$, т.е. $p(l_{ij} = z_j|z_j, \\alpha_j, \\beta_i) \\neq p(l_{ij} = 1|\\alpha_j, \\beta_i) $. При этом заранее неизвестно, какая из скрытых переменных соответствует метке 1. Не забывайте, что параметры $\\beta_i$ должны быть неотрицательными; для этого оптимизируйте $\\log \\beta$. На M-шаге можете использовать как один шаг градиентного спуска, так и несколько: разумные результаты у вас должны получаться вне зависимости от числа итераций.\n",
    "\n",
    "Также при работе с вероятностями не забывайте о точности:\n",
    "1. Используйте логарифмы вероятностей.\n",
    "2. $\\log \\sigma(a)$ лучше преобразовать в $\\log \\sigma(a) = -\\log(1 + \\exp(-a)) = -\\mathrm{softplus}(-a) $\n",
    "3. Ещё полезные функции: `scipy.special.expit`, `scipy.special.logsumexp`, `np.log1p`\n",
    "\n",
    "Для отладки может быть полезно проверить градиент с помощью `scipy.optimize.check_grad`."
   ]
  },
  {
   "cell_type": "code",
   "execution_count": 3,
   "metadata": {
    "pycharm": {
     "name": "#%%\n"
    }
   },
   "outputs": [],
   "source": [
    "def softplus(x):\n",
    "    '''stable version of log(1 + exp(x))'''\n",
    "    c = (x > 20) * 1.\n",
    "    return np.log1p(np.exp(x * (1-c)) * (1-c)) + x * c"
   ]
  },
  {
   "cell_type": "markdown",
   "metadata": {},
   "source": [
    "Итак, формулы:\n",
    "\n",
    "E - шаг:\n",
    "\n",
    "$$loglikelihood = \\log(P(l_i = z_i| z_i, \\alpha_j, \\beta_i)) = \\log(\\sigma(\\alpha_j, \\beta_i)) = \\log \\left(\\frac{1}{1 + exp(-\\alpha_j \\beta_i)} \\right) = -softplus(-\\alpha_j \\beta_i)$$\n",
    "\n",
    "Posterior:\n",
    "\n",
    "$$q^{*}_i  = p(z_i | l_i, \\alpha, \\beta_i) = \\frac{\\mathbb{P}(z_i, l_i|\\alpha, \\beta_i)}{\\mathbb{P}(l_i | \\alpha, \\beta_i)} = \\frac{p(z_i)\\prod\\limits_{j}\\left(\\sigma(\\alpha_j\\cdot\\beta_i)^{[l_{i, j} = z_i]}\\cdot\\sigma(-\\alpha_j\\cdot\\beta_i)^{[l_{i, j} \\neq z_i]}\\right)}{\\sum\\limits_{k\\in\\{0, 1\\}}p(z_i=k)\\cdot\\prod\\limits_{j}\\left(\\sigma(\\alpha_j\\cdot\\beta_i)^{[l_{i, j} = z_i]}\\cdot\\sigma(-\\alpha_j\\cdot\\beta_i)^{[l_{i, j} \\neq z_i]}\\right)}$$\n",
    "\n",
    "\n",
    "\n",
    "$$\\gamma^{k}_{i} = \\log p(k, l_i | \\alpha, \\beta_i) = \\log p(k) + \\sum_{j} \\bigg([l_{ij} = k]\\log \\sigma (\\alpha_j \\beta_i) + [l_{ij} \\ne k]\\log \\sigma(-\\alpha_j \\beta_i) \\bigg) \\\\\n",
    "        q^*_i(z_i) = \\frac{\\exp(\\gamma_i^{z_i})}{\\sum \\limits_{k \\in \\{0, 1\\}} \\exp(\\gamma_i^k)}$$\n",
    "\n",
    "M - шаг:\n",
    "\n",
    "$$Q_i = \\sum \\limits_{ k \\in {\\{0, 1\\}}}q^{*}_i(z_i = k) \\left[[l_{ij} = z_{i}] \\log \\sigma(\\alpha_j \\beta_i)+ [l_{ij} \\neq z_i] \\log \\sigma(-\\alpha_j \\beta_i) \\right]$$\n",
    "\n",
    "$$\\sum \\limits_{i}Q_i \\rightarrow  \\underset{\\alpha, \\beta}{max}$$\n",
    "\n",
    "\n",
    "\n"
   ]
  },
  {
   "cell_type": "markdown",
   "metadata": {},
   "source": [
    " $$g_{ij}(t) = [l_{ij}=t]\\sigma(-\\alpha_j\\beta_i) - [l_{ij}\\neq t]\\sigma(\\alpha_j\\beta_i)$$\n",
    "\n",
    "$$ \\frac{\\partial}{\\partial \\alpha_j} \\mathbb{E}_{q^*} \\log p(z, l | \\alpha, \\beta) = \\sum_i \\sum_{k \\in \\{0, 1\\}} q_i^*(k) \\beta_i \\Big([l_{ij} = k]  \\sigma (- \\alpha_j \\beta_i) - [l_{ij} \\ne k] \\sigma(\\alpha_j \\beta_i) \\Big) \\\\\n",
    "        \\frac{\\partial}{\\partial \\beta_i} \\mathbb{E}_{q^*} \\log p(z, l | \\alpha, \\beta) = \\sum_j \\sum_{k \\in \\{0, 1\\}} q_i^*(k) \\alpha_j \\Big([l_{ij} = k] \\, \\sigma (-\\alpha_j \\beta_i) - [l_{ij} \\ne k] \\sigma(\\alpha_j \\beta_i) \\Big)\n",
    "$$"
   ]
  },
  {
   "cell_type": "code",
   "execution_count": 4,
   "metadata": {},
   "outputs": [],
   "source": [
    "import numpy as np\n",
    "from scipy.special import expit, logsumexp\n",
    "\n",
    "def softmax(x, axis=-1):\n",
    "    exp_x = np.exp(x - np.max(x, axis=axis, keepdims=True))\n",
    "    return exp_x / np.sum(exp_x, axis=axis, keepdims=True)\n",
    "\n",
    "def f(l, t, alpha, beta):\n",
    "    return np.where(l == t, -softplus(-alpha * beta), -softplus(alpha * beta))\n",
    "\n",
    "def make_gamma(alpha, beta, L):\n",
    "    F0, F1 = [f(L, t, alpha.reshape(1, -1), beta.reshape(-1, 1)) for t in [0, 1]]\n",
    "    return np.vstack((F0.sum(axis=1), F1.sum(axis=1))).T - np.log(2)\n",
    "\n",
    "def posterior(gamma):\n",
    "    return [softmax(gamma, axis=1), gamma - logsumexp(gamma, axis=1).reshape(-1, 1)]\n",
    "\n",
    "def lower_bound(gamma, log_post, q):\n",
    "    return np.sum(q * (gamma - log_post))\n",
    "\n",
    "def loglikelihood(gamma):\n",
    "    return np.sum(logsumexp(gamma, axis=1))\n",
    "\n",
    "def g(l, t, alpha, beta):\n",
    "    return np.where(l == t, expit(-alpha * beta), -expit(alpha * beta))\n",
    "\n",
    "def make_G(alpha, beta, L):\n",
    "    return [g(L, t, alpha.reshape(1, -1), beta.reshape(-1, 1)) for t in [0, 1]]\n",
    "\n",
    "def alpha_grad(G0, G1, q, beta):\n",
    "    return np.sum(beta.reshape(-1, 1) * (G0 * q[:, 0].reshape(-1, 1) + G1 * q[:, 1].reshape(-1, 1)), axis=0)\n",
    "\n",
    "def logbeta_grad(G0, G1, q, alpha, beta):\n",
    "    return np.sum(alpha.reshape(1, -1) * beta.reshape(-1, 1) * (G0 * q[:, 0].reshape(-1, 1) + G1 * q[:, 1].reshape(-1, 1)), axis=1)\n",
    "\n",
    "def em(L, n_steps=100, lr=1e-3):\n",
    "    alpha, logbeta = np.random.randn(L.shape[1]), np.random.randn(L.shape[0])\n",
    "    lb_hist = []\n",
    "    ll_hist = []\n",
    "\n",
    "    for _ in range(n_steps):\n",
    "        beta = np.exp(logbeta)\n",
    "        gamma = make_gamma(alpha, beta, L)\n",
    "        q, log_post = posterior(gamma)\n",
    "\n",
    "        lb = lower_bound(gamma, log_post, q)\n",
    "        ll = loglikelihood(gamma)\n",
    "        lb_hist.append(lb)\n",
    "        ll_hist.append(ll)\n",
    "\n",
    "        G0, G1 = make_G(alpha, beta, L)\n",
    "        nabla_alpha = alpha_grad(G0, G1, q, beta)\n",
    "        nabla_logbeta = logbeta_grad(G0, G1, q, alpha, beta)\n",
    "\n",
    "        alpha += lr * nabla_alpha\n",
    "        logbeta += lr * nabla_logbeta\n",
    "\n",
    "    return alpha, np.exp(logbeta), q, lb_hist, ll_hist\n",
    "\n",
    "alpha_hat, beta_hat, q, lb_hist, ll_hist = em(L, n_steps=100, lr=1e-3)\n"
   ]
  },
  {
   "cell_type": "code",
   "execution_count": 5,
   "metadata": {},
   "outputs": [
    {
     "data": {
      "image/png": "[encoded data removed]",
      "text/plain": [
       "<Figure size 800x400 with 1 Axes>"
      ]
     },
     "metadata": {},
     "output_type": "display_data"
    }
   ],
   "source": [
    "import matplotlib.pyplot as plt\n",
    "plt.figure(figsize=(8, 4), dpi=100)\n",
    "\n",
    "plt.plot(np.arange(100), lb_hist, '.--')\n",
    "plt.plot(np.arange(100), ll_hist, '.')\n",
    "plt.xlabel('итерация')\n",
    "plt.ylabel('неполное правдоподобие');"
   ]
  },
  {
   "cell_type": "markdown",
   "metadata": {
    "pycharm": {
     "name": "#%% md\n"
    }
   },
   "source": [
    "**Задание 2. (1 балл)** Загрузите настоящую разметку. Посчитайте `accuracy` разметки, полученной с помощью обычного голосования по большинству среди экспертов, и сравните его с качеством, полученным с помощью EM-алгоритма. Помните, что алгоритму не важно, какая метка 0, а какая 1, поэтому если получите качество <0.5, то просто поменяйте метки классов (не забудьте также поменять знак у $\\alpha$). "
   ]
  },
  {
   "cell_type": "code",
   "execution_count": 6,
   "metadata": {
    "pycharm": {
     "name": "#%%\n"
    }
   },
   "outputs": [
    {
     "name": "stdout",
     "output_type": "stream",
     "text": [
      "Голосование большинством: 0.904\n",
      "EM-алгоритм: 0.955\n"
     ]
    }
   ],
   "source": [
    "from sklearn.metrics import accuracy_score\n",
    "\n",
    "y = np.load('y.npy')\n",
    "vote = np.mean(L, axis=1).round()\n",
    "em_scores = q[:, 0].round()\n",
    "\n",
    "print(f'Голосование большинством: {accuracy_score(y, vote):.3f}')\n",
    "print(f'EM-алгоритм: {accuracy_score(y, em_scores):.3f}')"
   ]
  },
  {
   "cell_type": "markdown",
   "metadata": {
    "pycharm": {
     "name": "#%% md\n"
    }
   },
   "source": [
    "**Задание 3. (0.5 балла)** Попробуйте проинтерпретировать полученные коэфициенты $\\alpha$. Есть ли в выборке эксперты, которые намеренно голосуют неверно? Как это можно понять по альфам? Продемонстрируйте, что эксперты действительно чаще голосуют за неверный класс. Постройте график зависимости доли врено размеченных экспертом объектов от коэффициента $\\alpha$. Прокомментируйте результаты."
   ]
  },
  {
   "cell_type": "code",
   "execution_count": 7,
   "metadata": {
    "pycharm": {
     "name": "#%%\n"
    }
   },
   "outputs": [
    {
     "name": "stdout",
     "output_type": "stream",
     "text": [
      "Estimated alpha: [-0.49444763 -0.47654769 -2.62613721 -0.39078875 -0.45091793 -2.56873344\n",
      " -0.43979523 -2.48269197  2.69694786 -0.49781545  2.73384126  2.55749545\n",
      " -2.58150739 -0.42081909 -0.45414005 -0.40314522 -0.4827954  -2.46374921\n",
      "  2.4500121  -2.48361385]\n"
     ]
    }
   ],
   "source": [
    "print(\"Estimated alpha:\", alpha_hat)"
   ]
  },
  {
   "cell_type": "code",
   "execution_count": 8,
   "metadata": {},
   "outputs": [
    {
     "data": {
      "text/plain": [
       "<BarContainer object of 20 artists>"
      ]
     },
     "execution_count": 8,
     "metadata": {},
     "output_type": "execute_result"
    },
    {
     "data": {
      "image/png": "[encoded data removed]",
      "text/plain": [
       "<Figure size 640x480 with 1 Axes>"
      ]
     },
     "metadata": {},
     "output_type": "display_data"
    }
   ],
   "source": [
    "plt.bar(np.arange(20), np.sort(-alpha_hat))"
   ]
  },
  {
   "cell_type": "code",
   "execution_count": 9,
   "metadata": {},
   "outputs": [
    {
     "name": "stdout",
     "output_type": "stream",
     "text": [
      "Доля вредных экспертов 0.2\n"
     ]
    },
    {
     "data": {
      "image/png": "[encoded data removed]",
      "text/plain": [
       "<Figure size 640x480 with 1 Axes>"
      ]
     },
     "metadata": {},
     "output_type": "display_data"
    }
   ],
   "source": [
    "print(\"Доля вредных экспертов\", (-alpha_hat < 0).sum() / len(-alpha_hat))\n",
    "\n",
    "plt.scatter(-alpha_hat, (L == y[:, None]).mean(axis=0))\n",
    "plt.title(\"Зависимость доли верных ответов эксперта от alpha\")\n",
    "plt.xlabel(\"alpha\")\n",
    "plt.ylabel(\"доля верных ответов\");"
   ]
  },
  {
   "cell_type": "markdown",
   "metadata": {},
   "source": [
    "4 человека размечают специально неправильно, так как чем меньше альфа, тем меньше веротяность, что человек правильно разметит задачу. 10 человек чаще ошибаются, чем не ошибаются и только 6 человек размечают в основном правильно"
   ]
  },
  {
   "cell_type": "markdown",
   "metadata": {
    "pycharm": {
     "name": "#%% md\n"
    }
   },
   "source": [
    "**Задание 4. (бонус, 2 балла)**  Как уже было замечено выше, модели не важно, какой класс 1, а какой 0. Скажем, если все эксперты оказались максимально противными и ставят метку с точностью наоборот, то у вас будет полная согласованность между экспертами, при этом невозможно понять правильно они разметили выборку или нет, смотря только на такую разметку. Чтобы избежать этого, можно включать в выборку вопрос с заведомо известным ответом, тогда вы сможете определить, ставит ли эксперт специально неверные метки.\n",
    "\n",
    "Чтобы обощить данную модель на случай заданий с заведомо известной меткой, достоточно не делать для них E-шаг, а всегда полагать апостериорное распределение вырожденным в истинном классе. Реализуйте данную модель и используйте истинную разметку *для нескольких* задач из обучения. Проинтерпретируйте полученные результаты."
   ]
  },
  {
   "cell_type": "markdown",
   "metadata": {
    "pycharm": {
     "name": "#%% md\n"
    }
   },
   "source": [
    "# Выравнивание слов (Word Alignment)"
   ]
  },
  {
   "cell_type": "markdown",
   "metadata": {
    "pycharm": {
     "name": "#%% md\n"
    }
   },
   "source": [
    "EM-алгоритм также применяют на практике для настройки параметров модели выравнивания слов, более сложные модификации которой используются в статистическом машинном переводе. Мы не будем подробно обсуждать применение word alignment для перевода и ограничимся следующей целью: пусть у нас есть параллельный корпус из предложений на исходном языке и их переводов на целевой язык (в этом задании используются английский и чешский соответственно). \n",
    "\n",
    "Первая задача — определить с помощью этого корпуса, как переводится каждое отдельное слово на целевом языке. Вторая задача — для произвольной пары из предложения и его перевода установить, переводом какого слова в исходном предложении является каждое слово в целевом предложении. Оказывается, у обеих задач существует элегантное и эффективное решение при введении правильной вероятностной модели: в этой части задания вам предстоит его реализовать и оценить результаты работы. Но обо всём по порядку :)\n",
    "\n",
    "---\n",
    "\n",
    "Перед тем, как заниматься машинным обучением, давайте разберёмся с данными и метриками в интересующей нас задаче. В ячейке ниже загружается и разархивируется параллельный английско-чешский корпус, в котором есть разметка выравнивания слов. Нетрудно заметить, что формат XML-файла, использованный его авторами, не вполне стандартный: нет готовой команды , которая позволила бы получить список пар предложений вместе с выравниваниями. Это значит, что нужно разобраться с форматом и написать парсер самостоятельно, используя встроенные средства Python, например, модуль [xml](https://docs.python.org/3.7/library/xml.html)."
   ]
  },
  {
   "cell_type": "code",
   "execution_count": 10,
   "metadata": {
    "pycharm": {
     "name": "#%%\n"
    }
   },
   "outputs": [],
   "source": [
    "%%bash\n",
    "# wget -q https://lindat.mff.cuni.cz/repository/xmlui/bitstream/handle/11234/1-1804/CzEnAli_1.0.tar.gz -O CzEnAli_1.0.tar.gz\n",
    "# mkdir -p data\n",
    "# tar -xzf CzEnAli_1.0.tar.gz -C data/\n",
    "# ls data/\n",
    "# head -n 20 data/merged_data/project_syndicate/project_syndicate_bacchetta1.wa"
   ]
  },
  {
   "cell_type": "markdown",
   "metadata": {
    "pycharm": {
     "name": "#%% md\n"
    }
   },
   "source": [
    "**Задание -2. (0.5 балла)** Реализуйте функцию `extract_sentences`, которая принимает на вход путь к файлу с XML-разметкой, используемой в этом датасете, и возвращает список параллельных предложений, а также список из «уверенных» (sure) и «возможных» (possible) пар выравниваний. Отправьте вашу реализацию в Яндекс.Контест, чтобы убедиться в её корректности; в следующей ячейке ноутбука соберите все пары размеченных предложений из датасета в два списка `all_sentences` (список `SentencePair`) и `all_targets` (список LabeledAlignment).\n",
    "\n",
    "Здесь и далее соблюдайте сигнатуры функций и пользуйтесь объявленными в модуле `preprocessing.py` классами для организации данных. Стоит заметить, что предложения уже токенизированы (даже отделена пунктуация), поэтому предобработку текстов совершать не нужно. Обратите внимание на формат хранения выравниваний: нумерация начинается с 1 (в таком виде и нужно сохранять), первым в паре идёт слово из англоязычного предложения."
   ]
  },
  {
   "cell_type": "code",
   "execution_count": 11,
   "metadata": {},
   "outputs": [],
   "source": [
    "%load_ext autoreload\n",
    "%autoreload 2\n"
   ]
  },
  {
   "cell_type": "code",
   "execution_count": 12,
   "metadata": {
    "pycharm": {
     "name": "#%%\n"
    }
   },
   "outputs": [],
   "source": [
    "import glob\n",
    "from preprocessing import extract_sentences\n",
    "\n",
    "all_sentences = []\n",
    "all_targets = []\n",
    "\n",
    "for filename in list(glob.glob(\"data/merged_data/*/*.wa\")):\n",
    " \n",
    "    sentence, target = extract_sentences(filename)\n",
    "    all_sentences += sentence\n",
    "    all_targets += target\n"
   ]
  },
  {
   "cell_type": "markdown",
   "metadata": {
    "pycharm": {
     "name": "#%% md\n"
    }
   },
   "source": [
    "**Задание -1. (0.5 балла)** Реализуйте функции `get_token_to_index` и `tokenize_sents` из модуля `preprocessing.py`, постройте словари token->index для обоих языков и постройте список из `TokenizedSentencePair` по выборке. Реализации функций также отправьте в Яндекс.Контест."
   ]
  },
  {
   "cell_type": "code",
   "execution_count": 13,
   "metadata": {
    "pycharm": {
     "name": "#%%\n"
    }
   },
   "outputs": [],
   "source": [
    "from preprocessing import get_token_to_index, tokenize_sents\n",
    "\n",
    "t_idx_src, t_idx_tgt = get_token_to_index(all_sentences)\n",
    "tokenized_sentences = tokenize_sents(all_sentences, t_idx_src, t_idx_tgt)"
   ]
  },
  {
   "cell_type": "markdown",
   "metadata": {
    "pycharm": {
     "name": "#%% md\n"
    }
   },
   "source": [
    "В качестве бейзлайна для этой задачи мы возьмём способ выравнивания слов по коэффициенту Дайса: слово в исходном языке является переводом слова на целевом языке, если они часто встречаются в одних и тех же предложениях и редко встречаются по отдельности. \n",
    "\n",
    "Математически это записывается по аналогии с мерой Жаккара: пусть $c(x,y)$ — число параллельных предложений, в которых есть и $x$ (на исходном языке), и $y$ (на целевом языке), а $c(x)$ и $c(y)$ — суммарное количество предложений, в которых встречается слово $x$ и $y$ соответственно. Тогда $\\textrm{Dice}(x,y)=\\frac{2 \\cdot c(x,y)}{c(x) + c(y)}$ — характеристика «похожести» слов $x$ и $y$. Она равна 1, если слова встречаются только в контексте друг друга (не бывает предложений только со словом $x$ без $y$ в переводе и наоборот), равна 0, если слова никогда не встречаются в параллельных предложениях и находится между пороговыми значениями в остальных случаях.\n",
    "\n",
    "В файле `models.py` описан абстрактный класс `BaseAligner`, наследником которого должны являться все модели в задании, а также приведён пример реализации `DiceAligner` выравнивания слов описанным выше путём. Ниже вы можете увидеть, как применять эту модель."
   ]
  },
  {
   "cell_type": "code",
   "execution_count": 14,
   "metadata": {
    "pycharm": {
     "name": "#%%\n"
    }
   },
   "outputs": [],
   "source": [
    "from models import DiceAligner\n",
    "\n",
    "baseline = DiceAligner(len(t_idx_src), len(t_idx_tgt), threshold=0.01)\n",
    "baseline.fit(tokenized_sentences)"
   ]
  },
  {
   "cell_type": "markdown",
   "metadata": {
    "pycharm": {
     "name": "#%% md\n"
    }
   },
   "source": [
    "Чтобы оценить качество модели выравнивания, пользуясь имеющейся разметкой, существует ряд автоматических метрик. Они подразумевают, что в разметке есть два вида выравниваний — «уверенные» (sure) и «возможные» (possible). Обозначим для конкретного предложения первое множество выравниваний $S$, второе — $P$, а предсказанные выравнивания — $A$; причём, в отличие от разметки в файле, $S\\subseteq P$. Тогда можно предложить три метрики, используя только операции над этими множествами:\n",
    "\n",
    "Precision $=\\frac{|A\\cap P|}{|A|}$. Отражает, какая доля предсказанных нами выравниваний вообще корректна; если мы дадим в качестве ответа все возможные пары слов в предложении, эта метрика сильно просядет.\n",
    "\n",
    "Recall $=\\frac{|A\\cap S|}{|S|}$. Эта метрика показывает, какую долю «уверенных» выравниваний мы обнаружили. Если мы попытаемся сделать слишком консервативную модель, которая выдаёт 0 или 1 предсказание на нетривиальных предложениях, полнота получится крайне низкая. \n",
    "\n",
    "Alignment Error Rate (AER) $=1-\\frac{|A\\cap P|+|A\\cap S|}{|A|+|S|}$. Метрика является комбинацией двух предыдущих и отслеживает общее качество работы системы, штрафуя оба описанных выше вида нежелаемого поведения модели. \n",
    "\n",
    "**Задание 0. (0.5 балла)** Реализуйте функции compute_precision, compute_recall, compute_aer из модуля metrics.py. Оцените качество бейзлайнового метода. Обратите внимание, что нужно использовать микро-усреднение во всех функциях: необходимо просуммировать числитель и знаменатель по всем предложениям и только потом делить."
   ]
  },
  {
   "cell_type": "code",
   "execution_count": 15,
   "metadata": {
    "pycharm": {
     "name": "#%%\n"
    }
   },
   "outputs": [
    {
     "data": {
      "text/plain": [
       "0.8074618330841489"
      ]
     },
     "execution_count": 15,
     "metadata": {},
     "output_type": "execute_result"
    }
   ],
   "source": [
    "from metrics import compute_aer\n",
    "\n",
    "compute_aer(all_targets,baseline.align(tokenized_sentences))"
   ]
  },
  {
   "cell_type": "markdown",
   "metadata": {
    "pycharm": {
     "name": "#%% md\n"
    }
   },
   "source": [
    "Теперь мы можем перейти к базовой вероятностной модели для выравнивания слов. Пусть $S=(s_1,\\ldots,s_n)$ исходное предложение, $T=(t_1,\\ldots,t_m)$ — его перевод. В роли латентных переменных будут выступать выравнивания $A=(a_1,\\ldots,a_m)$ каждого слова в целевом предложении, причём $a_i\\in\\{1,\\ldots,n\\}$ (считаем, что каждое слово в $t$ является переводом какого-то слова из $s$). Параметрами модели является матрица условных вероятностей перевода: каждый её элемент $\\theta(y|x)=p(y|x)$ отражает вероятность того, что переводом слова $x$ с исходного языка на целевой является слово $y$ (нормировка, соответственно, совершается по словарю целевого языка). Правдоподобие латентных переменных и предложения на целевом языке в этой модели записывается так:\n",
    "\n",
    "$$\n",
    "p(A,T|S)=\\prod_{i=1}^m p(a_i)p(t_i|a_i,S)=\\prod_{i=1}^m \\frac{1}{n}\\theta(t_i|s_{a_i}).\n",
    "$$ "
   ]
  },
  {
   "cell_type": "markdown",
   "metadata": {
    "pycharm": {
     "name": "#%% md\n"
    }
   },
   "source": [
    "**Задание 1. (2 балла)** Выведите шаги EM-алгоритма для этой модели, а также получите выражение для подсчёта нижней оценки правдоподобия ($\\mathcal{L}$ в обозначениях лекции и семинара). **Обратите внимание, что на M-шаге нужно найти аналитический максимум по параметрам.**"
   ]
  },
  {
   "cell_type": "markdown",
   "metadata": {
    "pycharm": {
     "name": "#%% md\n"
    }
   },
   "source": [
    "***На E-шаге необходимо найти апостериорные распределения***\n",
    "\n",
    "Введем обозначения:\n",
    "\n",
    "$S_i$ - i-ое предложение на исходном языке\n",
    "\n",
    "$n$ -  длина предложения на исходном языке\n",
    "\n",
    "$T_i$ - i-ое предложение на языке перевода\n",
    "\n",
    "$m$ - длина предложения на языке перевода\n",
    "\n",
    "$A_i$ - выравнивание в i-ом предложении\n",
    "\n",
    "$$q_{ijk} = p(A_{ik} - j | S_i, T_i) = \\frac{p(T_i, A_{ik} = j | S_i)}{p(T_i|S_i)} =\\\n",
    " \\frac{\\sum \\limits_{j_1, \\dots, j_{k-1}, j_{k+1}, \\dots , j_m} p(T_i, A_{i1} = j_1, \\dots , A_{ik} = j, \\dots, A_{im} = j_{m} |S_i)}{\\sum \\limits_{t_1, \\dots, t_m} p(T_i, A_{i1} = t_1, \\dots , A_{ik} = t_k, \\dots, A_{im} = t_{m} |S_i)} = \\\\\n",
    " = \\frac{\\sum \\limits_{j_1, \\dots, j_{k-1}, j_{k+1}, \\dots , j_m} \\frac{1}{n} \\theta (T_{ik} | S_{ij}) \\prod \\limits_{\\alpha = 1, \\alpha \\ne k} ^ m \\frac{1}{n} \\theta(T_{i \\alpha} | S_{ij_{\\alpha}})}{\\sum \\limits_{t_1, \\dots, t_m}  \\prod \\limits_{\\alpha = 1} ^ m \\theta(T_{i \\alpha} | S_{it_{\\alpha}})} = \\\\\n",
    "= \\frac{\\left( \\prod \\limits_{\\alpha = 1, \\alpha \\ne k} ^ m \\sum \\limits_{j_1, \\dots, j_{k-1}, j_{k+1}, \\dots , j_m} \\theta(T_{i \\alpha} | S_{ij_{\\alpha}}) \\right) \\theta(T_{ik} | S_{ij})}{ \\prod \\limits_{\\alpha = 1} ^ m \\sum \\limits_{t_1, \\dots, t_m}  \\theta(T_{i \\alpha} | S_{it_\\alpha})} = \\frac{\\theta(T_{ik} | S_{ij})}{\\sum \\limits_{t = 1}^n \\theta(T_{ik} | S_{it})}$$\n",
    "\n",
    "\n",
    "\n",
    "***На M-шаге будем максимизировать функционал, который будет записан ниже***\n",
    "\n",
    "$$\\mathbb{E} [\\log P(A, T|S)] = \\mathbb{E_q} \\left[ \\log \\left(\\prod \\limits_{i = 1}^L P(A_i, T_i | S_i) \\right)\\right] =\\\n",
    " \\mathbb{E_q} \\left[\\sum \\limits_{i = 1}^L \\log \\left( \\prod \\limits_{k = 1}^ {m_{i}} \\frac{1}{n} \\theta (T_{ik} | S_{i A_{ik}})\\right) \\right] = \\\n",
    "  \\mathbb{E_q} \\left[\\sum \\limits_{i = 1}^L \\sum \\limits_{k = 1}^{m_i}\\log \\frac{1}{n} + \\log \\theta (T_{ik} | S_{i A_{ik}})\\right] = \\\n",
    "  const + \\sum \\limits_{i = 1}^L \\sum \\limits_{j = 1}^{n_i} \\sum \\limits_{k = 1}^{m_i} q_{ijk} \\log \\theta(T_{ik} | S_{i A_{ik}}) \\rightarrow \\max_{\\theta}$$\n",
    "\n",
    "Переформулируем задачу следующим образом\n",
    "$$\n",
    "cnt(\\alpha, \\beta) = \\sum \\limits_{i=1}^{L} \\sum \\limits_{j=1}^{n_i} \\sum_{k=1}^{m_i} [S_{ij} = \\alpha] [T_{ik} = \\beta] q_{ijk} \\\\\n",
    "\\sum_{\\alpha, \\beta} cnt(\\alpha, \\beta) \\log{\\theta(\\beta \\mid \\alpha)} \\rightarrow \\max_{\\theta}\\\\\n",
    "\\sum_{\\beta} \\theta(\\beta \\mid \\alpha) = 1, \\quad \\forall \\alpha\n",
    "$$\n",
    "\n",
    "Запишем лагранжиан, где $\\hat{1}$ - вектор из единиц\n",
    "$$\n",
    "L = \\sum_{\\alpha, \\beta} cnt(\\alpha, \\beta) \\log{\\theta(\\beta \\mid \\alpha)} - \\lambda^T (\\Theta * \\hat{1} - \\hat{1}) \\to \\max_{\\theta, \\lambda}\n",
    "$$\n",
    "\n",
    "$$\n",
    "\\frac{\\partial{L}}{\\partial{\\theta(\\beta \\mid \\alpha)}} = \\frac{cnt(\\alpha, \\beta)}{\\theta(\\beta \\mid \\alpha)} - \\lambda_{\\alpha} = 0\\\\\n",
    "\\theta(\\beta \\mid \\alpha) = \\frac{cnt(\\alpha, \\beta)}{\\lambda_{\\alpha}}\\\\\n",
    "\\sum_{\\beta} \\theta(\\beta \\mid \\alpha) = \\sum_{\\beta} \\frac{cnt(\\alpha, \\beta)}{\\lambda_{\\alpha}} = 1\\\\\n",
    "\\lambda_{\\alpha} = \\sum_{\\beta} cnt(\\alpha, \\beta) \\Rightarrow\\\\\n",
    "\\theta(\\beta \\mid \\alpha) = \\frac{cnt(\\alpha, \\beta)}{\\sum_{\\beta'} cnt(\\alpha, \\beta')}\n",
    "  "
   ]
  },
  {
   "cell_type": "markdown",
   "metadata": {
    "pycharm": {
     "name": "#%% md\n"
    }
   },
   "source": [
    "**Задание 2. (2.5 балла)** Реализуйте все методы класса `WordAligner` в соответствии с полученными вами формулами. Протестируйте вашу реализацию через Яндекс.Контест, а здесь обучите модель и посчитайте её AER на истинной разметке. Чтобы предсказать выравнивание для пары предложений в этой модели, следует выбирать в соответствие для слова в целевом предложении с индексом $i$ позицию, соответствующую максимуму апостериорного распределения $p(a_i|T,S)$."
   ]
  },
  {
   "cell_type": "code",
   "execution_count": 16,
   "metadata": {
    "pycharm": {
     "name": "#%%\n"
    }
   },
   "outputs": [],
   "source": [
    "from models import WordAligner\n",
    "\n",
    "word_aligner = WordAligner(len(t_idx_src), len(t_idx_tgt), 20)\n",
    "word_aligner.fit(tokenized_sentences);"
   ]
  },
  {
   "cell_type": "markdown",
   "metadata": {
    "pycharm": {
     "name": "#%% md\n"
    }
   },
   "source": [
    "Заметим, что таблицу вероятностей перевода можно использовать и саму по себе для построения словарей. Пример работы показан ниже: метод хоть и работает, но мягко говоря, неидально — слишком мало данных."
   ]
  },
  {
   "cell_type": "code",
   "execution_count": 17,
   "metadata": {},
   "outputs": [
    {
     "data": {
      "text/plain": [
       "0.5748613297932553"
      ]
     },
     "execution_count": 17,
     "metadata": {},
     "output_type": "execute_result"
    }
   ],
   "source": [
    "preds = word_aligner.align(tokenized_sentences)\n",
    "compute_aer(all_targets, preds)"
   ]
  },
  {
   "cell_type": "code",
   "execution_count": 18,
   "metadata": {
    "pycharm": {
     "name": "#%%\n"
    }
   },
   "outputs": [],
   "source": [
    "idx_token_tgt = {index:token for token, index in t_idx_tgt.items()}"
   ]
  },
  {
   "cell_type": "code",
   "execution_count": 19,
   "metadata": {
    "pycharm": {
     "name": "#%%\n"
    }
   },
   "outputs": [
    {
     "data": {
      "text/plain": [
       "['Pan', 'řekl', 'pan']"
      ]
     },
     "execution_count": 19,
     "metadata": {},
     "output_type": "execute_result"
    }
   ],
   "source": [
    "[idx_token_tgt[i] for i in word_aligner.translation_probs[t_idx_src['Mr']].argsort()[-3:]]"
   ]
  },
  {
   "cell_type": "code",
   "execution_count": 20,
   "metadata": {
    "pycharm": {
     "name": "#%%\n"
    }
   },
   "outputs": [
    {
     "data": {
      "text/plain": [
       "['-', 'Mannová', 'paní']"
      ]
     },
     "execution_count": 20,
     "metadata": {},
     "output_type": "execute_result"
    }
   ],
   "source": [
    "[idx_token_tgt[i] for i in word_aligner.translation_probs[t_idx_src['Mrs']].argsort()[-3:]]"
   ]
  },
  {
   "cell_type": "code",
   "execution_count": 21,
   "metadata": {
    "pycharm": {
     "name": "#%%\n"
    },
    "scrolled": true
   },
   "outputs": [
    {
     "data": {
      "text/plain": [
       "['z', 'pro', 'vody']"
      ]
     },
     "execution_count": 21,
     "metadata": {},
     "output_type": "execute_result"
    }
   ],
   "source": [
    "[idx_token_tgt[i] for i in word_aligner.translation_probs[t_idx_src['water']].argsort()[-3:]]"
   ]
  },
  {
   "cell_type": "code",
   "execution_count": 22,
   "metadata": {
    "pycharm": {
     "name": "#%%\n"
    }
   },
   "outputs": [
    {
     "data": {
      "text/plain": [
       "['jež', 'překupničením', 'koni']"
      ]
     },
     "execution_count": 22,
     "metadata": {},
     "output_type": "execute_result"
    }
   ],
   "source": [
    "[idx_token_tgt[i] for i in word_aligner.translation_probs[t_idx_src['depended']].argsort()[-3:]]"
   ]
  },
  {
   "cell_type": "code",
   "execution_count": 23,
   "metadata": {
    "pycharm": {
     "name": "#%%\n"
    }
   },
   "outputs": [
    {
     "data": {
      "text/plain": [
       "['.', 'se', 'na']"
      ]
     },
     "execution_count": 23,
     "metadata": {},
     "output_type": "execute_result"
    }
   ],
   "source": [
    "[idx_token_tgt[i] for i in word_aligner.translation_probs[t_idx_src['on']].argsort()[-3:]]"
   ]
  },
  {
   "cell_type": "markdown",
   "metadata": {
    "pycharm": {
     "name": "#%% md\n"
    }
   },
   "source": [
    "**Задание 3. (0.5 балла)** Мы смогли получить матрицу условных вероятностей перевода исходного языка в целевой. Можно ли, пользуясь этой матрицей и ещё какими-то статистиками по параллельному корпусу, получить вероятности перевода целевого языка в исходный? Реализуйте такой метод и приведите ниже пример его работы, показав пару удачных переводов."
   ]
  },
  {
   "cell_type": "markdown",
   "metadata": {},
   "source": [
    "Мы хотим использовать формулу Байеса: \n",
    "$$p(S|T) = \\frac{p(T|S)p(S)}{p(T)}$$\n",
    "\n",
    "В этой формуле $p(T|S)$ - это известная матрица. $p(S)$ - частота встречаемости слова в корпусе"
   ]
  },
  {
   "cell_type": "code",
   "execution_count": 24,
   "metadata": {
    "pycharm": {
     "name": "#%%\n"
    }
   },
   "outputs": [],
   "source": [
    "freq_cnt = {}\n",
    "for sentence in tokenized_sentences:\n",
    "    for word in sentence.source_tokens:\n",
    "        if word in freq_cnt:\n",
    "            freq_cnt[word] += 1\n",
    "        else:\n",
    "            freq_cnt[word] = 1\n"
   ]
  },
  {
   "cell_type": "code",
   "execution_count": 25,
   "metadata": {},
   "outputs": [],
   "source": [
    "freq_cnt = np.array(list(freq_cnt.values()))\n",
    "freq_cnt = freq_cnt / np.sum(freq_cnt)"
   ]
  },
  {
   "cell_type": "code",
   "execution_count": 26,
   "metadata": {},
   "outputs": [],
   "source": [
    "inv_translate = word_aligner.translation_probs.T * freq_cnt\n",
    "inv_translate /= inv_translate.sum(1).reshape(-1, 1)"
   ]
  },
  {
   "cell_type": "code",
   "execution_count": 27,
   "metadata": {},
   "outputs": [],
   "source": [
    "idx_token_src = {index:token for token, index in t_idx_src.items()}"
   ]
  },
  {
   "cell_type": "code",
   "execution_count": 28,
   "metadata": {},
   "outputs": [
    {
     "data": {
      "text/plain": [
       "['cane', 'Mrs', 'Mann']"
      ]
     },
     "execution_count": 28,
     "metadata": {},
     "output_type": "execute_result"
    }
   ],
   "source": [
    "[idx_token_src[i] for i in inv_translate[t_idx_tgt['Mannová']].argsort()[-3:]]"
   ]
  },
  {
   "cell_type": "code",
   "execution_count": 29,
   "metadata": {},
   "outputs": [
    {
     "data": {
      "text/plain": [
       "['volume', 'reimmersion', 'water']"
      ]
     },
     "execution_count": 29,
     "metadata": {},
     "output_type": "execute_result"
    }
   ],
   "source": [
    "[idx_token_src[i] for i in inv_translate[t_idx_tgt['vody']].argsort()[-3:]]"
   ]
  },
  {
   "cell_type": "markdown",
   "metadata": {
    "pycharm": {
     "name": "#%% md\n"
    }
   },
   "source": [
    "**Задание 4. (0.5 балла)** Визуализируйте полученные выравнивания для нескольких предложений в виде heatmap: по одной из осей располагаются токены исходного текста, по другой — токены его перевода, на пересечении позиций $i$ и $j$ — 0 либо 1 в зависимости от того, является ли в обученной модели $a_i$ равным $j$. Можете ли вы их проинтерпретировать? Постройте аналогичный график, но без дискретизации, а визуализируя напрямую апостериорное распределение. Можете ли вы найти ситуации, в которых модель не уверена, переводом какого слова является слово $i$?"
   ]
  },
  {
   "cell_type": "code",
   "execution_count": 30,
   "metadata": {
    "pycharm": {
     "name": "#%%\n"
    }
   },
   "outputs": [],
   "source": [
    "import seaborn as sns\n",
    "P = word_aligner.translation_probs\n",
    "heats = []\n",
    "posts = []\n",
    "for sentence in tokenized_sentences:\n",
    "    src_ind = np.unique(sentence.source_tokens)\n",
    "    trg_ind = np.unique(sentence.target_tokens)\n",
    "    src_len = len(src_ind)\n",
    "    trg_len = len(trg_ind)\n",
    "    H = np.zeros((src_len, trg_len))\n",
    "    H[np.argmax(P[np.ix_(src_ind, trg_ind)], axis=0), np.arange(trg_len)] = 1\n",
    "    heats.append(H)\n",
    "    posts.append(P[np.ix_(src_ind, trg_ind)])"
   ]
  },
  {
   "cell_type": "code",
   "execution_count": 31,
   "metadata": {},
   "outputs": [
    {
     "data": {
      "text/plain": [
       "<Axes: >"
      ]
     },
     "execution_count": 31,
     "metadata": {},
     "output_type": "execute_result"
    },
    {
     "data": {
      "image/png": "[encoded data removed]",
      "text/plain": [
       "<Figure size 640x480 with 2 Axes>"
      ]
     },
     "metadata": {},
     "output_type": "display_data"
    }
   ],
   "source": [
    "sns.heatmap(heats[0])"
   ]
  },
  {
   "cell_type": "code",
   "execution_count": 32,
   "metadata": {},
   "outputs": [
    {
     "data": {
      "text/plain": [
       "<Axes: >"
      ]
     },
     "execution_count": 32,
     "metadata": {},
     "output_type": "execute_result"
    },
    {
     "data": {
      "image/png": "[encoded data removed]",
      "text/plain": [
       "<Figure size 640x480 with 2 Axes>"
      ]
     },
     "metadata": {},
     "output_type": "display_data"
    }
   ],
   "source": [
    "sns.heatmap(heats[36])"
   ]
  },
  {
   "cell_type": "code",
   "execution_count": 33,
   "metadata": {},
   "outputs": [
    {
     "data": {
      "text/plain": [
       "<Axes: >"
      ]
     },
     "execution_count": 33,
     "metadata": {},
     "output_type": "execute_result"
    },
    {
     "data": {
      "image/png": "[encoded data removed]",
      "text/plain": [
       "<Figure size 640x480 with 2 Axes>"
      ]
     },
     "metadata": {},
     "output_type": "display_data"
    }
   ],
   "source": [
    "sns.heatmap(heats[110])"
   ]
  },
  {
   "cell_type": "markdown",
   "metadata": {},
   "source": [
    "Можно проинтерпретировать следующим образом: если есть горизонтальная светлая линия, то модель считает, что сразу несколько слов являются наиболее веротяными как перевод исходного слова. Если же есть отдельные светлые квадратики - то в переводе таких слов модель наиболее уверенна"
   ]
  },
  {
   "cell_type": "code",
   "execution_count": 34,
   "metadata": {},
   "outputs": [
    {
     "data": {
      "text/plain": [
       "<Axes: >"
      ]
     },
     "execution_count": 34,
     "metadata": {},
     "output_type": "execute_result"
    },
    {
     "data": {
      "image/png": "[encoded data removed]",
      "text/plain": [
       "<Figure size 640x480 with 2 Axes>"
      ]
     },
     "metadata": {},
     "output_type": "display_data"
    }
   ],
   "source": [
    "sns.heatmap(posts[0])"
   ]
  },
  {
   "cell_type": "code",
   "execution_count": 35,
   "metadata": {},
   "outputs": [
    {
     "data": {
      "text/plain": [
       "<Axes: >"
      ]
     },
     "execution_count": 35,
     "metadata": {},
     "output_type": "execute_result"
    },
    {
     "data": {
      "image/png": "[encoded data removed]",
      "text/plain": [
       "<Figure size 640x480 with 2 Axes>"
      ]
     },
     "metadata": {},
     "output_type": "display_data"
    }
   ],
   "source": [
    "sns.heatmap(posts[36])"
   ]
  },
  {
   "cell_type": "code",
   "execution_count": 36,
   "metadata": {},
   "outputs": [
    {
     "data": {
      "text/plain": [
       "<Axes: >"
      ]
     },
     "execution_count": 36,
     "metadata": {},
     "output_type": "execute_result"
    },
    {
     "data": {
      "image/png": "[encoded data removed]",
      "text/plain": [
       "<Figure size 640x480 with 2 Axes>"
      ]
     },
     "metadata": {},
     "output_type": "display_data"
    }
   ],
   "source": [
    "sns.heatmap(posts[110])"
   ]
  },
  {
   "cell_type": "markdown",
   "metadata": {},
   "source": [
    "В случае с постериорным распределением модель становится менее уверенной, потому что светлых квадратов становится сильно менеьше"
   ]
  },
  {
   "cell_type": "markdown",
   "metadata": {
    "pycharm": {
     "name": "#%% md\n"
    }
   },
   "source": [
    "Заметим, что при задании модели мы сделали довольно сильное предположение о том, что вероятности выбора слова для выравнивания никак не зависят от позиции слова в целевом предложении. Можно сделать эти вероятности настраиваемыми параметрами, получив прямоугольную матрицу $\\phi_{m,n}(j|i)=p(a_i=j|m,n)$ для каждой пары длин предложений $m,n$: по-прежнему мы получаем распределение над индексами в исходном предложении. Тогда модель приобретает вид\n",
    "$$\n",
    "p(A,T|S)=\\prod_{i=1}^m p(a_i|m,n)p(t_i| a_i, S)=\\prod_{i=1}^m \\phi_{m,n}(a_i|i)\\theta(t_i|s_{a_i}).\n",
    "$$"
   ]
  },
  {
   "cell_type": "markdown",
   "metadata": {
    "pycharm": {
     "name": "#%% md\n"
    }
   },
   "source": [
    "**Задание 5. (1.5 балла)** Выведите шаги EM-алгоритма для этой модели, а также получите выражение для подсчёта нижней оценки правдоподобия."
   ]
  },
  {
   "cell_type": "markdown",
   "metadata": {
    "pycharm": {
     "name": "#%% md\n"
    }
   },
   "source": [
    "***E-шаг найдем апостериорные веротяности***\n",
    "\n",
    "Точно так же как в предыдущей моедли оставим обозначения\n",
    "\n",
    "$S_i$ - i-ое предложение на исходном языке\n",
    "\n",
    "$n$ -  длина предложения на исходном языке\n",
    "\n",
    "$T_i$ - i-ое предложение на языке перевода\n",
    "\n",
    "$m$ - длина предложения на языке перевода\n",
    "\n",
    "$A_i$ - выравнивание в i-ом предложении\n",
    "\n",
    "$$q_{ijk} = p(A_{ik} - j | S_i, T_i) = \\frac{p(T_i, A_{ik} = j | S_i)}{p(T_i|S_i)} =\\\n",
    " \\frac{\\sum \\limits_{j_1, \\dots, j_{k-1}, j_{k+1}, \\dots , j_m} p(T_i, A_{i1} = j_1, \\dots , A_{ik} = j, \\dots, A_{im} = j_{m} |S_i)}{\\sum \\limits_{t_1, \\dots, t_m} p(T_i, A_{i1} = t_1, \\dots , A_{ik} = t_k, \\dots, A_{im} = t_{m} |S_i)} = \\\\\n",
    "\n",
    " = \\frac{\\sum \\limits_{j_1, \\dots, j_{k-1}, j_{k+1}, \\dots , j_m} \\phi_{m_i, n_i}(j |k) \\theta (T_{ik} | S_{ij}) \\prod \\limits_{\\alpha = 1, \\alpha \\ne k} ^ m \\phi_{m_i, n_i}(j_{\\alpha} |\\alpha) \\theta (T_{i \\alpha} | S_{ij_{\\alpha}})}{\\sum \\limits_{t_1, \\dots, t_m}  \\prod \\limits_{\\alpha = 1} ^ m \\phi_{m_i, n_i}(t_{\\alpha} |\\alpha) \\theta (T_{i \\alpha} | S_{it_{\\alpha}})} = \\\\\n",
    "\n",
    "= \\frac{\\left( \\prod \\limits_{\\alpha = 1, \\alpha \\ne k} ^ m \\sum \\limits_{j_1, \\dots, j_{k-1}, j_{k+1}, \\dots , j_m} \\phi_{m_i, n_i}(j_{\\alpha} |\\alpha) \\theta (T_{i \\alpha} | S_{ij_{\\alpha}}) \\right) \\phi_{m_i, n_i}(j |k) \\theta (T_{ik} | S_{ij})}{ \\prod \\limits_{\\alpha = 1} ^ m \\sum \\limits_{t_1, \\dots, t_m}  \\phi_{m_i, n_i}(t_{\\alpha} |\\alpha) \\theta (T_{i \\alpha} | S_{it_{\\alpha}})} =\\\n",
    " \\frac{\\phi_{m_i, n_i}(j | k) \\theta (T_{ik} | S_{i j})}{\\sum \\limits_{t = 1}^n \\phi_{m_i, n_i}(t | k)\\theta (T_{ik} | S_{i t})}$$\n",
    "\n",
    "***M-шаг***\n",
    "\n",
    "$$\n",
    "\\mathbb{E_q} \\left[\\log P(A, T | S)\\right] = \\mathbb{E_q} \\left[\\log{(\\prod \\limits_{i=1}^{L} P(A_i, T_i | S_i))}\\right] = \\mathbb{E_q} \\left[\\sum \\limits_{i=1}^{L} \\log{(P(A_i, T_i | S_i))} \\right] =\\\\= \\mathbb{E_q} \\left[ \\sum_{i=1}^{L} \\log{(\\prod \\limits_{k=1}^{m_i} \\phi_{m_i, n_i} (A_{ik} | k) \\theta(T_{ik} | S_{iA_{ik}}))} \\right] =\\\\\n",
    "= \\mathbb{E_q} \\left[ \\sum \\limits_{i=1}^{L} \\sum \\limits_{k=1}^{m_i} \\log{\\phi_{m_i, n_i} (A_{ik} | k)} + \\log{\\theta(T_{ik} | S_{iA_{ik}})} \\right] =\\\\= \\sum \\limits_{i=1}^{L} \\sum\\limits_{j=1}^{n_i} \\sum \\limits_{k=1}^{m_i} q_{ijk} \\log{\\phi_{m_i, n_i} (A_{ik} | k)} + \\sum \\limits_{i=1}^{L} \\sum \\limits_{j=1}^{n_i} \\sum \\limits_{k=1}^{m_i} q_{ijk} \\log{\\theta(T_{ik} | S_{iA_{ik}})} \\to \\max_{\\phi, \\theta}\n",
    "$$\n",
    "\n",
    "Можно заметить, что оптимизировать функционал можно независимо по $\\phi$ и по $\\theta$, поэтому пересчет $\\theta$ не изменится.\n",
    "\n",
    "Запишем лагранжиан для $\\phi$, аналогично действуем дифференцируя по параметру, приравняя градиент к нулю, выражаем и ищем лямбду исходя из того, что вероятности суммируются в 1.\n",
    "$$\n",
    "L = \\sum \\limits_{i=1}^{L} \\sum \\limits_{j=1}^{n_i} \\sum \\limits_{k=1}^{m_i} q_{ijk} \\log{\\phi_{m_i, n_i} (j \\mid k)} - \\sum \\limits_{i=1}^L \\lambda_i^T (\\Phi_{m_i, n_i} * \\hat{1} - \\hat{1})\n",
    "$$\n",
    "\n",
    "$$\n",
    "\\frac{\\partial{L}}{\\partial{\\phi_{m,n}(j \\mid k)}} = \\sum \\limits_{i : m_i = m, n_i = n} \\left(\\frac{q_{ijk}}{\\phi_{m,n}(j \\mid k)} - \\sum \\limits_{t=1}^{m} \\lambda_{it} \\right) = 0 \\Rightarrow \\\\\n",
    "\n",
    "\\phi_{m,n}(j \\mid k) = \\frac{\\sum \\limits_{i : m_i = m, n_i = n} q_{ijk}}{\\sum \\limits_{t=1}^{m} \\lambda_{it}} = \\frac{\\sum \\limits_{i : m_i = m, n_i = n} q_{ijk}}{\\sum \\limits_{i : m_i = m, n_i = n} \\sum \\limits_{r} \\sum \\limits_{t} q_{irt}}\n",
    "$$\n"
   ]
  },
  {
   "cell_type": "markdown",
   "metadata": {
    "pycharm": {
     "name": "#%% md\n"
    }
   },
   "source": [
    "**Задание 6. (2 балла)** Реализуйте все методы класса `WordPositionAligner`, протестируйте их корректность через Яндекс.Контест. Обучите модель, оцените её качество на истинной разметке и сравните его с качеством предыдущей более простой модели. Проиллюстрируйте влияние стартовых параметров на результат, проинициализировав эту модель параметрами модели из задания 2 (важно, чтобы суммарное число эпох обучения в обоих сценариях оставалось тем же)."
   ]
  },
  {
   "cell_type": "code",
   "execution_count": 37,
   "metadata": {
    "pycharm": {
     "name": "#%%\n"
    }
   },
   "outputs": [],
   "source": [
    "from models import WordPositionAligner\n",
    "\n",
    "word_position_aligner = WordPositionAligner(len(t_idx_src), len(t_idx_tgt), 20)\n",
    "word_position_aligner.fit(tokenized_sentences);"
   ]
  },
  {
   "cell_type": "code",
   "execution_count": 38,
   "metadata": {},
   "outputs": [
    {
     "data": {
      "text/plain": [
       "0.5802537741965361"
      ]
     },
     "execution_count": 38,
     "metadata": {},
     "output_type": "execute_result"
    }
   ],
   "source": [
    "preds = word_position_aligner.align(tokenized_sentences)\n",
    "compute_aer(all_targets, preds)"
   ]
  },
  {
   "cell_type": "markdown",
   "metadata": {
    "pycharm": {
     "name": "#%% md\n"
    }
   },
   "source": [
    "**Задание 7. (1 балл)** В предыдущих пунктах мы никак не заостряли внимание на предобработке текстов, что может негативно влиять на результаты обученной модели. Например, сейчас метод выравнивания учитывает регистр, а слова на чешском языке вдобавок обладают богатой морфологией и большим количеством диакритических знаков. Если сократить количество параметров модели (различных слов), можно ускорить обучение и добиться лучших результатов, потому что статистики по словам будут считаться по большему числу параллельных предложений.\n",
    "\n",
    "Примените к исходным данным [Unicode-нормализацию](https://en.wikipedia.org/wiki/Unicode_equivalence#Normalization), приведите их к нижнему регистру и обучите модель выравнивания заново. Сравните качество и скорость обучения с предыдущими результатами и сделайте выводы. Если вы найдете в данных ещё какие-то проблемы, которые можно исправить более грамотной предобработкой, также продемонстрируйте, как их решение влияет на качество.\n",
    "\n",
    "**Важно:** здесь и далее в процессе обработки данных у вас может получаться, что из тестовых данных будут удалены предложения из-за отсутствия слов в словаре. Если такое всё же произошло, для корректности сравнения считайте AER вашей модели на удалённых предложениях равным 1."
   ]
  },
  {
   "cell_type": "code",
   "execution_count": 39,
   "metadata": {
    "pycharm": {
     "name": "#%%\n"
    }
   },
   "outputs": [],
   "source": [
    "from preprocessing import SentencePair\n",
    "\n",
    "from unicodedata import normalize\n"
   ]
  },
  {
   "cell_type": "code",
   "execution_count": 40,
   "metadata": {},
   "outputs": [],
   "source": [
    "normalized_sentences = []\n",
    "for sentence in all_sentences:\n",
    "    src_words = []\n",
    "    for word in sentence.source:\n",
    "        src_words.append(normalize(\"NFC\", word).lower())\n",
    "    \n",
    "    tgt_words = []\n",
    "    for word in sentence.target:\n",
    "        tgt_words.append(normalize(\"NFC\", word).lower())\n",
    "        \n",
    "    normalized_sentences.append(SentencePair(source=src_words, target=tgt_words))\n",
    "    \n"
   ]
  },
  {
   "cell_type": "code",
   "execution_count": 41,
   "metadata": {},
   "outputs": [],
   "source": [
    "t_idx_src, t_idx_tgt = get_token_to_index(normalized_sentences)\n",
    "tokenized_sentences = tokenize_sents(normalized_sentences, t_idx_src, t_idx_tgt)"
   ]
  },
  {
   "cell_type": "code",
   "execution_count": 42,
   "metadata": {},
   "outputs": [],
   "source": [
    "baseline = DiceAligner(len(t_idx_src), len(t_idx_tgt), threshold=0.01)\n",
    "baseline.fit(tokenized_sentences)"
   ]
  },
  {
   "cell_type": "code",
   "execution_count": 43,
   "metadata": {},
   "outputs": [
    {
     "data": {
      "text/plain": [
       "0.8007361789481136"
      ]
     },
     "execution_count": 43,
     "metadata": {},
     "output_type": "execute_result"
    }
   ],
   "source": [
    "compute_aer(all_targets,baseline.align(tokenized_sentences))"
   ]
  },
  {
   "cell_type": "code",
   "execution_count": 44,
   "metadata": {},
   "outputs": [],
   "source": [
    "word_aligner = WordAligner(len(t_idx_src), len(t_idx_tgt), 20)\n",
    "word_aligner.fit(tokenized_sentences);"
   ]
  },
  {
   "cell_type": "code",
   "execution_count": 45,
   "metadata": {},
   "outputs": [
    {
     "data": {
      "text/plain": [
       "0.5603819991149805"
      ]
     },
     "execution_count": 45,
     "metadata": {},
     "output_type": "execute_result"
    }
   ],
   "source": [
    "preds = word_aligner.align(tokenized_sentences)\n",
    "compute_aer(all_targets, preds)"
   ]
  },
  {
   "cell_type": "code",
   "execution_count": 46,
   "metadata": {},
   "outputs": [],
   "source": [
    "word_position_aligner = WordPositionAligner(len(t_idx_src), len(t_idx_tgt), 20)\n",
    "word_position_aligner.fit(tokenized_sentences);"
   ]
  },
  {
   "cell_type": "code",
   "execution_count": 47,
   "metadata": {},
   "outputs": [
    {
     "data": {
      "text/plain": [
       "0.5678635011783109"
      ]
     },
     "execution_count": 47,
     "metadata": {},
     "output_type": "execute_result"
    }
   ],
   "source": [
    "preds = word_position_aligner.align(tokenized_sentences)\n",
    "compute_aer(all_targets, preds)"
   ]
  },
  {
   "cell_type": "markdown",
   "metadata": {},
   "source": [
    "Метрики действительно улучшились и время работы уменьшилось"
   ]
  },
  {
   "cell_type": "markdown",
   "metadata": {
    "pycharm": {
     "name": "#%% md\n"
    }
   },
   "source": [
    "**Задание 7. (бонус, до 3 баллов)** \n",
    "\n",
    "Улучшите качество получившейся системы настолько, насколько сможете. За каждые 5 процентов, на которые AER на тех же данных получается меньше, чем минимум ошибки всех предыдущих моделей, вы получите по 1 бонусному баллу.\n",
    "\n",
    "Ниже приведены несколько идей, которые могут помочь вам повысить \n",
    "\n",
    "* Модифицировать модель: как вы можете понять, недостатком второго реализованного вами подхода является избыточное число параметров из-за необходимости подерживать отдельную матрицу для каждой различной пары длин предложений в корпусе. В статье https://www.aclweb.org/anthology/N13-1073.pdf приведён способ снижения числа параметров, задающих априорное распределение позиций выравнивания, который позволяет в десять раз быстрее обучать модель и получать лучшее качество.\n",
    "* Агрегация по двум направлениям: в статье https://www.aclweb.org/anthology/J03-1002/ утверждается, что асимметричность выравниваний вредит качеству, потому что из-за выбранной модели одному слову в целевом предложении не может соответствовать два слова в исходном предложении. Для решения этой проблемы (и улучшения метрик, разумеется) авторы предлагают несколько алгоритмов, которые можно попробовать применить в этом задании.\n",
    "* Использовать больше обучающих данных. В корпусе, которым мы пользуемся, только пара тысяч предложений, чего может не хватать для по-настоящему хорошей модели выравнивания. Разумеется, неразмеченных параллельных английско-чешских корпусов гораздо больше, поэтому можно воспользоваться ими. Хорошая точка для старта — данные с соревнования по машинному переводу  [воркшопа WMT](http://www.statmt.org/wmt20/translation-task.html).\n",
    "* В языках часто существуют слова наподобие артиклей или предлогов, которым не соответствует ни одно слово в переводе. Все рассмотренные в рамках задания модели это не учитывают, возможно, добавление возможности перевода в «нулевой» токен улучшит качество модели (при тестировании такие выравнивания имеет смысл выбрасывать)"
   ]
  },
  {
   "cell_type": "code",
   "execution_count": 80,
   "metadata": {
    "pycharm": {
     "name": "#%%\n"
    }
   },
   "outputs": [],
   "source": [
    "# ┐_(ツ)_┌━☆ﾟ.*･｡ﾟ"
   ]
  }
 ],
 "metadata": {
  "kernelspec": {
   "display_name": "Python 3 (ipykernel)",
   "language": "python",
   "name": "python3"
  },
  "language_info": {
   "codemirror_mode": {
    "name": "ipython",
    "version": 3
   },
   "file_extension": ".py",
   "mimetype": "text/x-python",
   "name": "python",
   "nbconvert_exporter": "python",
   "pygments_lexer": "ipython3",
   "version": "3.11.4"
  }
 },
 "nbformat": 4,
 "nbformat_minor": 4
}
