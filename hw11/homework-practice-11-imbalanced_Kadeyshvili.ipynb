{
 "cells": [
  {
   "cell_type": "markdown",
   "metadata": {
    "id": "sCk9bUMos9A-"
   },
   "source": [
    "# Машинное обучение, ФКН ВШЭ\n",
    "\n",
    "# Практическое задание 11. Несбалансированные задачи\n",
    "\n",
    "## Общая информация\n",
    "Дата выдачи: 23.04.2024\n",
    "\n",
    "Мягкий дедлайн: 13.05.2024 23:59 MSK\n",
    "\n",
    "Жесткий дедлайн: 18.05.2024 23:59 MSK\n",
    "\n",
    "## Оценивание и штрафы\n",
    "\n",
    "Каждая из задач имеет определенную «стоимость» (указана в скобках около задачи). Максимально допустимая оценка за работу — 10 баллов.\n",
    "\n",
    "Сдавать задание после указанного срока сдачи нельзя. При выставлении неполного балла за задание в связи с наличием ошибок на усмотрение проверяющего предусмотрена возможность исправить работу на указанных в ответном письме условиях.\n",
    "\n",
    "Задание выполняется самостоятельно. «Похожие» решения считаются плагиатом и все задействованные студенты (в том числе те, у кого списали) не могут получить за него больше 0 баллов (подробнее о плагиате см. на странице курса). Если вы нашли решение какого-то из заданий (или его часть) в открытом источнике, необходимо указать ссылку на этот источник в отдельном блоке в конце вашей работы (скорее всего вы будете не единственным, кто это нашел, поэтому чтобы исключить подозрение в плагиате, необходима ссылка на источник).\n",
    "\n",
    "Неэффективная реализация кода может негативно отразиться на оценке.\n",
    "\n",
    "## Формат сдачи\n",
    "Задания сдаются через систему anytask. Посылка должна содержать:\n",
    "* Ноутбук homework-practice-xx-Username.ipynb\n",
    "\n",
    "Username — ваша фамилия и имя на латинице именно в таком порядке"
   ]
  },
  {
   "cell_type": "markdown",
   "metadata": {
    "id": "MsiB3oacs9BG"
   },
   "source": [
    "## О задании\n",
    "\n",
    "В этом задании мы разберем основные техники работы в задачах, где один из классов занимает существенно меньшую долю выборки, чем остальные. Для простоты мы обойдемся бинарной задачей, тем не менее, во многом данные методы можно перенести и на задачи с б**о**льшим числом классов. Кроме того, вы получите очередной бесценный опыт исследования случайной библиотеки случайных индусов с нуля."
   ]
  },
  {
   "cell_type": "code",
   "execution_count": 1,
   "metadata": {
    "id": "I9SXbBCjs9BH"
   },
   "outputs": [],
   "source": [
    "import numpy as np\n",
    "import pandas as pd\n",
    "pd.set_option('display.max_rows', 100)\n",
    "pd.set_option('display.max_columns', 100)\n",
    "\n",
    "import matplotlib.pyplot as plt\n",
    "import seaborn as sns\n",
    "sns.set(style='whitegrid')\n",
    "\n",
    "from tqdm.auto import tqdm"
   ]
  },
  {
   "cell_type": "markdown",
   "metadata": {
    "id": "5l0VsXHes9BI"
   },
   "source": [
    "**Задание -1 (1 балл)**. EDA"
   ]
  },
  {
   "cell_type": "markdown",
   "metadata": {
    "id": "SIund96us9BI"
   },
   "source": [
    "В качестве данных для нашей работы возьмем выложенный на kaggle датасет транзакций, в котором нужно выискивать мошеннические проводки: [клик](https://www.kaggle.com/mlg-ulb/creditcardfraud). Данная задача по определению подходит под несбалансированную, что можно сказать даже без наличия каких-либо данных (понятно, что среди всех транзакций клиентов очень малая часть будет мошеннической).\n",
    "\n",
    "Загрузим данные, проведем некоторые классические манипуляции."
   ]
  },
  {
   "cell_type": "code",
   "execution_count": 2,
   "metadata": {
    "id": "tY2aKqhCs9BJ"
   },
   "outputs": [],
   "source": [
    "\"\"\"%%bash\n",
    "kaggle datasets download -d mlg-ulb/creditcardfraud\n",
    "unzip creditcardfraud.zip\"\"\";"
   ]
  },
  {
   "cell_type": "code",
   "execution_count": 3,
   "metadata": {
    "id": "5_UPWW51s9BJ"
   },
   "outputs": [],
   "source": [
    "df = pd.read_csv('creditcard.csv')"
   ]
  },
  {
   "cell_type": "code",
   "execution_count": 4,
   "metadata": {
    "id": "HpJMyb0Hs9BJ",
    "outputId": "7f254a74-d248-47c6-9550-3e884e3cce92"
   },
   "outputs": [
    {
     "data": {
      "text/html": [
       "<div>\n",
       "<style scoped>\n",
       "    .dataframe tbody tr th:only-of-type {\n",
       "        vertical-align: middle;\n",
       "    }\n",
       "\n",
       "    .dataframe tbody tr th {\n",
       "        vertical-align: top;\n",
       "    }\n",
       "\n",
       "    .dataframe thead th {\n",
       "        text-align: right;\n",
       "    }\n",
       "</style>\n",
       "<table border=\"1\" class=\"dataframe\">\n",
       "  <thead>\n",
       "    <tr style=\"text-align: right;\">\n",
       "      <th></th>\n",
       "      <th>Time</th>\n",
       "      <th>V1</th>\n",
       "      <th>V2</th>\n",
       "      <th>V3</th>\n",
       "      <th>V4</th>\n",
       "      <th>V5</th>\n",
       "      <th>V6</th>\n",
       "      <th>V7</th>\n",
       "      <th>V8</th>\n",
       "      <th>V9</th>\n",
       "      <th>V10</th>\n",
       "      <th>V11</th>\n",
       "      <th>V12</th>\n",
       "      <th>V13</th>\n",
       "      <th>V14</th>\n",
       "      <th>V15</th>\n",
       "      <th>V16</th>\n",
       "      <th>V17</th>\n",
       "      <th>V18</th>\n",
       "      <th>V19</th>\n",
       "      <th>V20</th>\n",
       "      <th>V21</th>\n",
       "      <th>V22</th>\n",
       "      <th>V23</th>\n",
       "      <th>V24</th>\n",
       "      <th>V25</th>\n",
       "      <th>V26</th>\n",
       "      <th>V27</th>\n",
       "      <th>V28</th>\n",
       "      <th>Amount</th>\n",
       "      <th>Class</th>\n",
       "    </tr>\n",
       "  </thead>\n",
       "  <tbody>\n",
       "    <tr>\n",
       "      <th>0</th>\n",
       "      <td>0.0</td>\n",
       "      <td>-1.359807</td>\n",
       "      <td>-0.072781</td>\n",
       "      <td>2.536347</td>\n",
       "      <td>1.378155</td>\n",
       "      <td>-0.338321</td>\n",
       "      <td>0.462388</td>\n",
       "      <td>0.239599</td>\n",
       "      <td>0.098698</td>\n",
       "      <td>0.363787</td>\n",
       "      <td>0.090794</td>\n",
       "      <td>-0.551600</td>\n",
       "      <td>-0.617801</td>\n",
       "      <td>-0.991390</td>\n",
       "      <td>-0.311169</td>\n",
       "      <td>1.468177</td>\n",
       "      <td>-0.470401</td>\n",
       "      <td>0.207971</td>\n",
       "      <td>0.025791</td>\n",
       "      <td>0.403993</td>\n",
       "      <td>0.251412</td>\n",
       "      <td>-0.018307</td>\n",
       "      <td>0.277838</td>\n",
       "      <td>-0.110474</td>\n",
       "      <td>0.066928</td>\n",
       "      <td>0.128539</td>\n",
       "      <td>-0.189115</td>\n",
       "      <td>0.133558</td>\n",
       "      <td>-0.021053</td>\n",
       "      <td>149.62</td>\n",
       "      <td>0</td>\n",
       "    </tr>\n",
       "    <tr>\n",
       "      <th>1</th>\n",
       "      <td>0.0</td>\n",
       "      <td>1.191857</td>\n",
       "      <td>0.266151</td>\n",
       "      <td>0.166480</td>\n",
       "      <td>0.448154</td>\n",
       "      <td>0.060018</td>\n",
       "      <td>-0.082361</td>\n",
       "      <td>-0.078803</td>\n",
       "      <td>0.085102</td>\n",
       "      <td>-0.255425</td>\n",
       "      <td>-0.166974</td>\n",
       "      <td>1.612727</td>\n",
       "      <td>1.065235</td>\n",
       "      <td>0.489095</td>\n",
       "      <td>-0.143772</td>\n",
       "      <td>0.635558</td>\n",
       "      <td>0.463917</td>\n",
       "      <td>-0.114805</td>\n",
       "      <td>-0.183361</td>\n",
       "      <td>-0.145783</td>\n",
       "      <td>-0.069083</td>\n",
       "      <td>-0.225775</td>\n",
       "      <td>-0.638672</td>\n",
       "      <td>0.101288</td>\n",
       "      <td>-0.339846</td>\n",
       "      <td>0.167170</td>\n",
       "      <td>0.125895</td>\n",
       "      <td>-0.008983</td>\n",
       "      <td>0.014724</td>\n",
       "      <td>2.69</td>\n",
       "      <td>0</td>\n",
       "    </tr>\n",
       "    <tr>\n",
       "      <th>2</th>\n",
       "      <td>1.0</td>\n",
       "      <td>-1.358354</td>\n",
       "      <td>-1.340163</td>\n",
       "      <td>1.773209</td>\n",
       "      <td>0.379780</td>\n",
       "      <td>-0.503198</td>\n",
       "      <td>1.800499</td>\n",
       "      <td>0.791461</td>\n",
       "      <td>0.247676</td>\n",
       "      <td>-1.514654</td>\n",
       "      <td>0.207643</td>\n",
       "      <td>0.624501</td>\n",
       "      <td>0.066084</td>\n",
       "      <td>0.717293</td>\n",
       "      <td>-0.165946</td>\n",
       "      <td>2.345865</td>\n",
       "      <td>-2.890083</td>\n",
       "      <td>1.109969</td>\n",
       "      <td>-0.121359</td>\n",
       "      <td>-2.261857</td>\n",
       "      <td>0.524980</td>\n",
       "      <td>0.247998</td>\n",
       "      <td>0.771679</td>\n",
       "      <td>0.909412</td>\n",
       "      <td>-0.689281</td>\n",
       "      <td>-0.327642</td>\n",
       "      <td>-0.139097</td>\n",
       "      <td>-0.055353</td>\n",
       "      <td>-0.059752</td>\n",
       "      <td>378.66</td>\n",
       "      <td>0</td>\n",
       "    </tr>\n",
       "    <tr>\n",
       "      <th>3</th>\n",
       "      <td>1.0</td>\n",
       "      <td>-0.966272</td>\n",
       "      <td>-0.185226</td>\n",
       "      <td>1.792993</td>\n",
       "      <td>-0.863291</td>\n",
       "      <td>-0.010309</td>\n",
       "      <td>1.247203</td>\n",
       "      <td>0.237609</td>\n",
       "      <td>0.377436</td>\n",
       "      <td>-1.387024</td>\n",
       "      <td>-0.054952</td>\n",
       "      <td>-0.226487</td>\n",
       "      <td>0.178228</td>\n",
       "      <td>0.507757</td>\n",
       "      <td>-0.287924</td>\n",
       "      <td>-0.631418</td>\n",
       "      <td>-1.059647</td>\n",
       "      <td>-0.684093</td>\n",
       "      <td>1.965775</td>\n",
       "      <td>-1.232622</td>\n",
       "      <td>-0.208038</td>\n",
       "      <td>-0.108300</td>\n",
       "      <td>0.005274</td>\n",
       "      <td>-0.190321</td>\n",
       "      <td>-1.175575</td>\n",
       "      <td>0.647376</td>\n",
       "      <td>-0.221929</td>\n",
       "      <td>0.062723</td>\n",
       "      <td>0.061458</td>\n",
       "      <td>123.50</td>\n",
       "      <td>0</td>\n",
       "    </tr>\n",
       "    <tr>\n",
       "      <th>4</th>\n",
       "      <td>2.0</td>\n",
       "      <td>-1.158233</td>\n",
       "      <td>0.877737</td>\n",
       "      <td>1.548718</td>\n",
       "      <td>0.403034</td>\n",
       "      <td>-0.407193</td>\n",
       "      <td>0.095921</td>\n",
       "      <td>0.592941</td>\n",
       "      <td>-0.270533</td>\n",
       "      <td>0.817739</td>\n",
       "      <td>0.753074</td>\n",
       "      <td>-0.822843</td>\n",
       "      <td>0.538196</td>\n",
       "      <td>1.345852</td>\n",
       "      <td>-1.119670</td>\n",
       "      <td>0.175121</td>\n",
       "      <td>-0.451449</td>\n",
       "      <td>-0.237033</td>\n",
       "      <td>-0.038195</td>\n",
       "      <td>0.803487</td>\n",
       "      <td>0.408542</td>\n",
       "      <td>-0.009431</td>\n",
       "      <td>0.798278</td>\n",
       "      <td>-0.137458</td>\n",
       "      <td>0.141267</td>\n",
       "      <td>-0.206010</td>\n",
       "      <td>0.502292</td>\n",
       "      <td>0.219422</td>\n",
       "      <td>0.215153</td>\n",
       "      <td>69.99</td>\n",
       "      <td>0</td>\n",
       "    </tr>\n",
       "    <tr>\n",
       "      <th>...</th>\n",
       "      <td>...</td>\n",
       "      <td>...</td>\n",
       "      <td>...</td>\n",
       "      <td>...</td>\n",
       "      <td>...</td>\n",
       "      <td>...</td>\n",
       "      <td>...</td>\n",
       "      <td>...</td>\n",
       "      <td>...</td>\n",
       "      <td>...</td>\n",
       "      <td>...</td>\n",
       "      <td>...</td>\n",
       "      <td>...</td>\n",
       "      <td>...</td>\n",
       "      <td>...</td>\n",
       "      <td>...</td>\n",
       "      <td>...</td>\n",
       "      <td>...</td>\n",
       "      <td>...</td>\n",
       "      <td>...</td>\n",
       "      <td>...</td>\n",
       "      <td>...</td>\n",
       "      <td>...</td>\n",
       "      <td>...</td>\n",
       "      <td>...</td>\n",
       "      <td>...</td>\n",
       "      <td>...</td>\n",
       "      <td>...</td>\n",
       "      <td>...</td>\n",
       "      <td>...</td>\n",
       "      <td>...</td>\n",
       "    </tr>\n",
       "    <tr>\n",
       "      <th>284802</th>\n",
       "      <td>172786.0</td>\n",
       "      <td>-11.881118</td>\n",
       "      <td>10.071785</td>\n",
       "      <td>-9.834783</td>\n",
       "      <td>-2.066656</td>\n",
       "      <td>-5.364473</td>\n",
       "      <td>-2.606837</td>\n",
       "      <td>-4.918215</td>\n",
       "      <td>7.305334</td>\n",
       "      <td>1.914428</td>\n",
       "      <td>4.356170</td>\n",
       "      <td>-1.593105</td>\n",
       "      <td>2.711941</td>\n",
       "      <td>-0.689256</td>\n",
       "      <td>4.626942</td>\n",
       "      <td>-0.924459</td>\n",
       "      <td>1.107641</td>\n",
       "      <td>1.991691</td>\n",
       "      <td>0.510632</td>\n",
       "      <td>-0.682920</td>\n",
       "      <td>1.475829</td>\n",
       "      <td>0.213454</td>\n",
       "      <td>0.111864</td>\n",
       "      <td>1.014480</td>\n",
       "      <td>-0.509348</td>\n",
       "      <td>1.436807</td>\n",
       "      <td>0.250034</td>\n",
       "      <td>0.943651</td>\n",
       "      <td>0.823731</td>\n",
       "      <td>0.77</td>\n",
       "      <td>0</td>\n",
       "    </tr>\n",
       "    <tr>\n",
       "      <th>284803</th>\n",
       "      <td>172787.0</td>\n",
       "      <td>-0.732789</td>\n",
       "      <td>-0.055080</td>\n",
       "      <td>2.035030</td>\n",
       "      <td>-0.738589</td>\n",
       "      <td>0.868229</td>\n",
       "      <td>1.058415</td>\n",
       "      <td>0.024330</td>\n",
       "      <td>0.294869</td>\n",
       "      <td>0.584800</td>\n",
       "      <td>-0.975926</td>\n",
       "      <td>-0.150189</td>\n",
       "      <td>0.915802</td>\n",
       "      <td>1.214756</td>\n",
       "      <td>-0.675143</td>\n",
       "      <td>1.164931</td>\n",
       "      <td>-0.711757</td>\n",
       "      <td>-0.025693</td>\n",
       "      <td>-1.221179</td>\n",
       "      <td>-1.545556</td>\n",
       "      <td>0.059616</td>\n",
       "      <td>0.214205</td>\n",
       "      <td>0.924384</td>\n",
       "      <td>0.012463</td>\n",
       "      <td>-1.016226</td>\n",
       "      <td>-0.606624</td>\n",
       "      <td>-0.395255</td>\n",
       "      <td>0.068472</td>\n",
       "      <td>-0.053527</td>\n",
       "      <td>24.79</td>\n",
       "      <td>0</td>\n",
       "    </tr>\n",
       "    <tr>\n",
       "      <th>284804</th>\n",
       "      <td>172788.0</td>\n",
       "      <td>1.919565</td>\n",
       "      <td>-0.301254</td>\n",
       "      <td>-3.249640</td>\n",
       "      <td>-0.557828</td>\n",
       "      <td>2.630515</td>\n",
       "      <td>3.031260</td>\n",
       "      <td>-0.296827</td>\n",
       "      <td>0.708417</td>\n",
       "      <td>0.432454</td>\n",
       "      <td>-0.484782</td>\n",
       "      <td>0.411614</td>\n",
       "      <td>0.063119</td>\n",
       "      <td>-0.183699</td>\n",
       "      <td>-0.510602</td>\n",
       "      <td>1.329284</td>\n",
       "      <td>0.140716</td>\n",
       "      <td>0.313502</td>\n",
       "      <td>0.395652</td>\n",
       "      <td>-0.577252</td>\n",
       "      <td>0.001396</td>\n",
       "      <td>0.232045</td>\n",
       "      <td>0.578229</td>\n",
       "      <td>-0.037501</td>\n",
       "      <td>0.640134</td>\n",
       "      <td>0.265745</td>\n",
       "      <td>-0.087371</td>\n",
       "      <td>0.004455</td>\n",
       "      <td>-0.026561</td>\n",
       "      <td>67.88</td>\n",
       "      <td>0</td>\n",
       "    </tr>\n",
       "    <tr>\n",
       "      <th>284805</th>\n",
       "      <td>172788.0</td>\n",
       "      <td>-0.240440</td>\n",
       "      <td>0.530483</td>\n",
       "      <td>0.702510</td>\n",
       "      <td>0.689799</td>\n",
       "      <td>-0.377961</td>\n",
       "      <td>0.623708</td>\n",
       "      <td>-0.686180</td>\n",
       "      <td>0.679145</td>\n",
       "      <td>0.392087</td>\n",
       "      <td>-0.399126</td>\n",
       "      <td>-1.933849</td>\n",
       "      <td>-0.962886</td>\n",
       "      <td>-1.042082</td>\n",
       "      <td>0.449624</td>\n",
       "      <td>1.962563</td>\n",
       "      <td>-0.608577</td>\n",
       "      <td>0.509928</td>\n",
       "      <td>1.113981</td>\n",
       "      <td>2.897849</td>\n",
       "      <td>0.127434</td>\n",
       "      <td>0.265245</td>\n",
       "      <td>0.800049</td>\n",
       "      <td>-0.163298</td>\n",
       "      <td>0.123205</td>\n",
       "      <td>-0.569159</td>\n",
       "      <td>0.546668</td>\n",
       "      <td>0.108821</td>\n",
       "      <td>0.104533</td>\n",
       "      <td>10.00</td>\n",
       "      <td>0</td>\n",
       "    </tr>\n",
       "    <tr>\n",
       "      <th>284806</th>\n",
       "      <td>172792.0</td>\n",
       "      <td>-0.533413</td>\n",
       "      <td>-0.189733</td>\n",
       "      <td>0.703337</td>\n",
       "      <td>-0.506271</td>\n",
       "      <td>-0.012546</td>\n",
       "      <td>-0.649617</td>\n",
       "      <td>1.577006</td>\n",
       "      <td>-0.414650</td>\n",
       "      <td>0.486180</td>\n",
       "      <td>-0.915427</td>\n",
       "      <td>-1.040458</td>\n",
       "      <td>-0.031513</td>\n",
       "      <td>-0.188093</td>\n",
       "      <td>-0.084316</td>\n",
       "      <td>0.041333</td>\n",
       "      <td>-0.302620</td>\n",
       "      <td>-0.660377</td>\n",
       "      <td>0.167430</td>\n",
       "      <td>-0.256117</td>\n",
       "      <td>0.382948</td>\n",
       "      <td>0.261057</td>\n",
       "      <td>0.643078</td>\n",
       "      <td>0.376777</td>\n",
       "      <td>0.008797</td>\n",
       "      <td>-0.473649</td>\n",
       "      <td>-0.818267</td>\n",
       "      <td>-0.002415</td>\n",
       "      <td>0.013649</td>\n",
       "      <td>217.00</td>\n",
       "      <td>0</td>\n",
       "    </tr>\n",
       "  </tbody>\n",
       "</table>\n",
       "<p>284807 rows × 31 columns</p>\n",
       "</div>"
      ],
      "text/plain": [
       "            Time         V1         V2        V3        V4        V5  \\\n",
       "0            0.0  -1.359807  -0.072781  2.536347  1.378155 -0.338321   \n",
       "1            0.0   1.191857   0.266151  0.166480  0.448154  0.060018   \n",
       "2            1.0  -1.358354  -1.340163  1.773209  0.379780 -0.503198   \n",
       "3            1.0  -0.966272  -0.185226  1.792993 -0.863291 -0.010309   \n",
       "4            2.0  -1.158233   0.877737  1.548718  0.403034 -0.407193   \n",
       "...          ...        ...        ...       ...       ...       ...   \n",
       "284802  172786.0 -11.881118  10.071785 -9.834783 -2.066656 -5.364473   \n",
       "284803  172787.0  -0.732789  -0.055080  2.035030 -0.738589  0.868229   \n",
       "284804  172788.0   1.919565  -0.301254 -3.249640 -0.557828  2.630515   \n",
       "284805  172788.0  -0.240440   0.530483  0.702510  0.689799 -0.377961   \n",
       "284806  172792.0  -0.533413  -0.189733  0.703337 -0.506271 -0.012546   \n",
       "\n",
       "              V6        V7        V8        V9       V10       V11       V12  \\\n",
       "0       0.462388  0.239599  0.098698  0.363787  0.090794 -0.551600 -0.617801   \n",
       "1      -0.082361 -0.078803  0.085102 -0.255425 -0.166974  1.612727  1.065235   \n",
       "2       1.800499  0.791461  0.247676 -1.514654  0.207643  0.624501  0.066084   \n",
       "3       1.247203  0.237609  0.377436 -1.387024 -0.054952 -0.226487  0.178228   \n",
       "4       0.095921  0.592941 -0.270533  0.817739  0.753074 -0.822843  0.538196   \n",
       "...          ...       ...       ...       ...       ...       ...       ...   \n",
       "284802 -2.606837 -4.918215  7.305334  1.914428  4.356170 -1.593105  2.711941   \n",
       "284803  1.058415  0.024330  0.294869  0.584800 -0.975926 -0.150189  0.915802   \n",
       "284804  3.031260 -0.296827  0.708417  0.432454 -0.484782  0.411614  0.063119   \n",
       "284805  0.623708 -0.686180  0.679145  0.392087 -0.399126 -1.933849 -0.962886   \n",
       "284806 -0.649617  1.577006 -0.414650  0.486180 -0.915427 -1.040458 -0.031513   \n",
       "\n",
       "             V13       V14       V15       V16       V17       V18       V19  \\\n",
       "0      -0.991390 -0.311169  1.468177 -0.470401  0.207971  0.025791  0.403993   \n",
       "1       0.489095 -0.143772  0.635558  0.463917 -0.114805 -0.183361 -0.145783   \n",
       "2       0.717293 -0.165946  2.345865 -2.890083  1.109969 -0.121359 -2.261857   \n",
       "3       0.507757 -0.287924 -0.631418 -1.059647 -0.684093  1.965775 -1.232622   \n",
       "4       1.345852 -1.119670  0.175121 -0.451449 -0.237033 -0.038195  0.803487   \n",
       "...          ...       ...       ...       ...       ...       ...       ...   \n",
       "284802 -0.689256  4.626942 -0.924459  1.107641  1.991691  0.510632 -0.682920   \n",
       "284803  1.214756 -0.675143  1.164931 -0.711757 -0.025693 -1.221179 -1.545556   \n",
       "284804 -0.183699 -0.510602  1.329284  0.140716  0.313502  0.395652 -0.577252   \n",
       "284805 -1.042082  0.449624  1.962563 -0.608577  0.509928  1.113981  2.897849   \n",
       "284806 -0.188093 -0.084316  0.041333 -0.302620 -0.660377  0.167430 -0.256117   \n",
       "\n",
       "             V20       V21       V22       V23       V24       V25       V26  \\\n",
       "0       0.251412 -0.018307  0.277838 -0.110474  0.066928  0.128539 -0.189115   \n",
       "1      -0.069083 -0.225775 -0.638672  0.101288 -0.339846  0.167170  0.125895   \n",
       "2       0.524980  0.247998  0.771679  0.909412 -0.689281 -0.327642 -0.139097   \n",
       "3      -0.208038 -0.108300  0.005274 -0.190321 -1.175575  0.647376 -0.221929   \n",
       "4       0.408542 -0.009431  0.798278 -0.137458  0.141267 -0.206010  0.502292   \n",
       "...          ...       ...       ...       ...       ...       ...       ...   \n",
       "284802  1.475829  0.213454  0.111864  1.014480 -0.509348  1.436807  0.250034   \n",
       "284803  0.059616  0.214205  0.924384  0.012463 -1.016226 -0.606624 -0.395255   \n",
       "284804  0.001396  0.232045  0.578229 -0.037501  0.640134  0.265745 -0.087371   \n",
       "284805  0.127434  0.265245  0.800049 -0.163298  0.123205 -0.569159  0.546668   \n",
       "284806  0.382948  0.261057  0.643078  0.376777  0.008797 -0.473649 -0.818267   \n",
       "\n",
       "             V27       V28  Amount  Class  \n",
       "0       0.133558 -0.021053  149.62      0  \n",
       "1      -0.008983  0.014724    2.69      0  \n",
       "2      -0.055353 -0.059752  378.66      0  \n",
       "3       0.062723  0.061458  123.50      0  \n",
       "4       0.219422  0.215153   69.99      0  \n",
       "...          ...       ...     ...    ...  \n",
       "284802  0.943651  0.823731    0.77      0  \n",
       "284803  0.068472 -0.053527   24.79      0  \n",
       "284804  0.004455 -0.026561   67.88      0  \n",
       "284805  0.108821  0.104533   10.00      0  \n",
       "284806 -0.002415  0.013649  217.00      0  \n",
       "\n",
       "[284807 rows x 31 columns]"
      ]
     },
     "execution_count": 4,
     "metadata": {},
     "output_type": "execute_result"
    }
   ],
   "source": [
    "df"
   ]
  },
  {
   "cell_type": "markdown",
   "metadata": {
    "id": "St9c_rxKs9BK"
   },
   "source": [
    "Наши данные были анонимизированы. Мы имеем 30 признаков, из которых 28 - это результаты PCA-преобразования на исходном датасете. Еще 2 признака представляют собой время в секундах, прошедшее с момента первой транзакции в датасете, и размер транзакции. Скажите, какова доля положительных объектов в выборке?"
   ]
  },
  {
   "cell_type": "code",
   "execution_count": 6,
   "metadata": {
    "id": "w5P1I6lgs9BL"
   },
   "outputs": [
    {
     "name": "stdout",
     "output_type": "stream",
     "text": [
      "Доля положительных:0.1727485630620034 %\n"
     ]
    }
   ],
   "source": [
    "print(f'Доля положительных:{(df[\"Class\"] == 1).sum() / df.shape[0] * 100} %')"
   ]
  },
  {
   "cell_type": "markdown",
   "metadata": {
    "id": "eu2TTGCws9BL"
   },
   "source": [
    "Начнем с обработки времени. Секунды сами по себе не несут большой информации о зависимостях в данных, попробуйте по ним создать признаки \"час\" (от 0 до 23) и \"день\" (от 0 до ...) в аналогичной манере (принимая первый объект выборки за начальную точку). Сколько дней покрывают данные?"
   ]
  },
  {
   "cell_type": "code",
   "execution_count": 7,
   "metadata": {
    "id": "FW414k0js9BL"
   },
   "outputs": [
    {
     "name": "stdout",
     "output_type": "stream",
     "text": [
      "Данные покрывают 2 дня\n"
     ]
    }
   ],
   "source": [
    "df['Hour'] =  df['Time'] // 3600 % 24\n",
    "df['Day'] = df['Time'] // 3600 // 24\n",
    "print(\"Данные покрывают\",df['Day'].nunique(), 'дня')"
   ]
  },
  {
   "cell_type": "markdown",
   "metadata": {
    "id": "QU5oagixs9BL"
   },
   "source": [
    "Постройте следующие графики:\n",
    "\n",
    "1. Распределение числа транзакций по каждому часу (line-plot).\n",
    "2. Распределение доли мошеннических транзакций по каждому часу (line-plot)\n",
    "3. То же самое для дней (здесь можно использовать bar-plot, так как дней должно быть немного).\n",
    "\n",
    "Какие выводы можно сделать из графиков? На ваш взгляд, как можно связать полученные нами часы с реальными часами в сутках?"
   ]
  },
  {
   "cell_type": "code",
   "execution_count": 8,
   "metadata": {
    "id": "DGozHHXxs9BM"
   },
   "outputs": [
    {
     "data": {
      "image/png": "[encoded data removed]",
      "text/plain": [
       "<Figure size 640x480 with 1 Axes>"
      ]
     },
     "metadata": {},
     "output_type": "display_data"
    }
   ],
   "source": [
    "cnt_for_hour = df.groupby(\"Hour\").agg('count')['Class']\n",
    "for_x = len(cnt_for_hour)\n",
    "fig, ax = plt.subplots(1, 1)\n",
    "ax.plot(np.arange(0,for_x), cnt_for_hour)\n",
    "ax.set_xlabel('Час')\n",
    "ax.set_ylabel('Число транзакций')\n",
    "ax.set_title('Распределение числа транзакций по каждому часу')\n",
    "plt.show()"
   ]
  },
  {
   "cell_type": "code",
   "execution_count": 9,
   "metadata": {},
   "outputs": [
    {
     "data": {
      "image/png": "[encoded data removed]",
      "text/plain": [
       "<Figure size 640x480 with 1 Axes>"
      ]
     },
     "metadata": {},
     "output_type": "display_data"
    }
   ],
   "source": [
    "cnt_fraud_for_hour = df.groupby(\"Hour\").agg('mean')['Class']\n",
    "for_x = len(cnt_fraud_for_hour)\n",
    "fig, ax = plt.subplots(1, 1)\n",
    "ax.plot(np.arange(0,for_x), cnt_fraud_for_hour)\n",
    "ax.set_xlabel('Час')\n",
    "ax.set_ylabel('Доля мошеннических транзакций')\n",
    "ax.set_title('Распределение доли мошеннических транзакций по каждому часу')\n",
    "plt.show()"
   ]
  },
  {
   "cell_type": "markdown",
   "metadata": {},
   "source": [
    "По графикам видно, что больше всего транзакций происходит в вечернее время, а меньше всего под утро в 3 - 4 часа. Мошеннические транзацкии происходят в основном ночью где то в 2-4 часа, в остальное время их количество мало"
   ]
  },
  {
   "cell_type": "code",
   "execution_count": 10,
   "metadata": {},
   "outputs": [
    {
     "data": {
      "image/png": "[encoded data removed]",
      "text/plain": [
       "<Figure size 640x480 with 1 Axes>"
      ]
     },
     "metadata": {},
     "output_type": "display_data"
    }
   ],
   "source": [
    "cnt_for_day = df.groupby(\"Day\").agg('count')['Class']\n",
    "for_x = len(cnt_for_day)\n",
    "fig, ax = plt.subplots(1, 1)\n",
    "ax.bar(np.arange(for_x),  cnt_for_day)\n",
    "ax.set_xlabel('День')\n",
    "ax.set_ylabel('Число транзакций')\n",
    "ax.set_title('Распределение числа транзакций по каждому дню')\n",
    "plt.show()"
   ]
  },
  {
   "cell_type": "code",
   "execution_count": 11,
   "metadata": {},
   "outputs": [
    {
     "data": {
      "image/png": "[encoded data removed]",
      "text/plain": [
       "<Figure size 640x480 with 1 Axes>"
      ]
     },
     "metadata": {},
     "output_type": "display_data"
    }
   ],
   "source": [
    "cnt_fraud_for_day = df.groupby(\"Day\").agg('mean')['Class']\n",
    "for_x = len(cnt_fraud_for_day)\n",
    "fig, ax = plt.subplots(1, 1)\n",
    "ax.bar(np.arange(for_x), cnt_fraud_for_day)\n",
    "ax.set_xlabel('День')\n",
    "ax.set_ylabel('Доля мошеннических транзакций')\n",
    "ax.set_title('Распределение доли мошеннических транзакций по каждому дню')\n",
    "plt.show()"
   ]
  },
  {
   "cell_type": "markdown",
   "metadata": {},
   "source": [
    "Количество транзакций, как обычных, так и мошеннических, в первый день больше"
   ]
  },
  {
   "cell_type": "markdown",
   "metadata": {
    "id": "kl7hLlhBs9BM"
   },
   "source": [
    "С анонимизированными признаками вряд ли можно придумать что-то интересное. Попробуйте (например, с помощью корреляции?) выбрать несколько наиболее важных признаков и поглядеть на различия в их распределении для разных классов."
   ]
  },
  {
   "cell_type": "code",
   "execution_count": 12,
   "metadata": {
    "id": "UfFy6Qhys9BM"
   },
   "outputs": [
    {
     "data": {
      "text/plain": [
       "V17       0.326481\n",
       "V14       0.302544\n",
       "V12       0.260593\n",
       "V10       0.216883\n",
       "V16       0.196539\n",
       "V3        0.192961\n",
       "V7        0.187257\n",
       "V11       0.154876\n",
       "V4        0.133447\n",
       "V18       0.111485\n",
       "V1        0.101347\n",
       "V9        0.097733\n",
       "V5        0.094974\n",
       "V2        0.091289\n",
       "V6        0.043643\n",
       "V21       0.040413\n",
       "V19       0.034783\n",
       "V20       0.020090\n",
       "V8        0.019875\n",
       "V27       0.017580\n",
       "Hour      0.017109\n",
       "Time      0.012323\n",
       "V28       0.009536\n",
       "V24       0.007221\n",
       "Amount    0.005632\n",
       "Day       0.005223\n",
       "V13       0.004570\n",
       "V26       0.004455\n",
       "V15       0.004223\n",
       "V25       0.003308\n",
       "V23       0.002685\n",
       "V22       0.000805\n",
       "dtype: float64"
      ]
     },
     "execution_count": 12,
     "metadata": {},
     "output_type": "execute_result"
    }
   ],
   "source": [
    "import seaborn as sns\n",
    "\n",
    "correlation = df.drop(columns = ['Class']).corrwith(df['Class']).abs()\n",
    "correlation.sort_values(ascending=False)"
   ]
  },
  {
   "cell_type": "markdown",
   "metadata": {},
   "source": [
    "Наибольшую корреляцию имеют V17 - 0.326481, V14 - 0.302544, V12 - 0.260593, V10 - 0.216883, V16 - 0.196539, V3  - 0.192961\n",
    "\n",
    "Посмотрим на их распределения для разных классов"
   ]
  },
  {
   "cell_type": "code",
   "execution_count": 13,
   "metadata": {},
   "outputs": [
    {
     "data": {
      "image/png": "[encoded data removed]",
      "text/plain": [
       "<Figure size 800x500 with 2 Axes>"
      ]
     },
     "metadata": {},
     "output_type": "display_data"
    }
   ],
   "source": [
    "fig, ax = plt.subplots(1, 2, figsize = (8, 5))\n",
    "\n",
    "\n",
    "ax[0].hist(data=df[df[\"Class\"] == 0], x=\"V17\", bins=20)\n",
    "ax[0].set_title(\"Class 0\")\n",
    "\n",
    "ax[1].hist(data=df[df[\"Class\"] == 1], x=\"V17\", bins=20)\n",
    "ax[1].set_title(\"Class 1\")\n",
    "\n",
    "plt.show()\n"
   ]
  },
  {
   "cell_type": "code",
   "execution_count": 14,
   "metadata": {},
   "outputs": [
    {
     "data": {
      "image/png": "[encoded data removed]",
      "text/plain": [
       "<Figure size 800x500 with 2 Axes>"
      ]
     },
     "metadata": {},
     "output_type": "display_data"
    }
   ],
   "source": [
    "fig, ax = plt.subplots(1, 2, figsize = (8, 5))\n",
    "\n",
    "\n",
    "ax[0].hist(data=df[df[\"Class\"] == 0], x=\"V14\", bins=20)\n",
    "ax[0].set_title(\"Class 0\")\n",
    "\n",
    "ax[1].hist(data=df[df[\"Class\"] == 1], x=\"V14\", bins=20)\n",
    "ax[1].set_title(\"Class 1\")\n",
    "\n",
    "plt.show()\n"
   ]
  },
  {
   "cell_type": "code",
   "execution_count": 15,
   "metadata": {},
   "outputs": [
    {
     "data": {
      "image/png": "[encoded data removed]",
      "text/plain": [
       "<Figure size 800x500 with 2 Axes>"
      ]
     },
     "metadata": {},
     "output_type": "display_data"
    }
   ],
   "source": [
    "fig, ax = plt.subplots(1, 2, figsize = (8, 5))\n",
    "\n",
    "\n",
    "ax[0].hist(data=df[df[\"Class\"] == 0], x=\"V12\", bins=20)\n",
    "ax[0].set_title(\"Class 0\")\n",
    "\n",
    "ax[1].hist(data=df[df[\"Class\"] == 1], x=\"V12\", bins=20)\n",
    "ax[1].set_title(\"Class 1\")\n",
    "\n",
    "plt.show()"
   ]
  },
  {
   "cell_type": "code",
   "execution_count": 16,
   "metadata": {},
   "outputs": [
    {
     "data": {
      "image/png": "[encoded data removed]",
      "text/plain": [
       "<Figure size 800x500 with 2 Axes>"
      ]
     },
     "metadata": {},
     "output_type": "display_data"
    }
   ],
   "source": [
    "fig, ax = plt.subplots(1, 2, figsize = (8, 5))\n",
    "\n",
    "\n",
    "ax[0].hist(data=df[df[\"Class\"] == 0], x=\"V10\", bins=20)\n",
    "ax[0].set_title(\"Class 0\")\n",
    "\n",
    "ax[1].hist(data=df[df[\"Class\"] == 1], x=\"V10\", bins=20)\n",
    "ax[1].set_title(\"Class 1\")\n",
    "\n",
    "plt.show()"
   ]
  },
  {
   "cell_type": "code",
   "execution_count": 17,
   "metadata": {},
   "outputs": [
    {
     "data": {
      "image/png": "[encoded data removed]",
      "text/plain": [
       "<Figure size 800x500 with 2 Axes>"
      ]
     },
     "metadata": {},
     "output_type": "display_data"
    }
   ],
   "source": [
    "fig, ax = plt.subplots(1, 2, figsize = (8, 5))\n",
    "ax[0].hist(data=df[df[\"Class\"] == 0], x=\"V16\", bins=20)\n",
    "ax[0].set_title(\"Class 0\")\n",
    "ax[1].hist(data=df[df[\"Class\"] == 1], x=\"V16\", bins=20)\n",
    "ax[1].set_title(\"Class 1\")\n",
    "plt.show()"
   ]
  },
  {
   "cell_type": "markdown",
   "metadata": {},
   "source": [
    "У мошеннических транзакций дисперсия признаков гораздо больше, чем у обычных транзакций"
   ]
  },
  {
   "cell_type": "markdown",
   "metadata": {
    "id": "CxCb9nars9BM"
   },
   "source": [
    "Теперь давайте разделим данные. Отделите хронологически последние 20% транзакций и поделите их пополам (также хронологически, т.е. без перемешивания) на валидационные и тестовые. Это разбиение не совсем корректно (как можно было заметить, мошеннические транзакции имеют разное распределение во времени - по-хорошему, нам стоило бы выделить целые сутки записей как под валидацию, так и под тест), тем не менее, мы не сможем получить больше данных для адекватного контроля, поэтому обойдемся этим. "
   ]
  },
  {
   "cell_type": "code",
   "execution_count": 18,
   "metadata": {
    "id": "9XXA9XDjs9BN"
   },
   "outputs": [],
   "source": [
    "size_val_test = int(0.2 * len(df))\n",
    "df_train = df.iloc[:-size_val_test]\n",
    "df_val_test = df.iloc[-size_val_test:]\n",
    "df_val = df_val_test.iloc[:len(df_val_test) // 2]\n",
    "df_test = df_val_test[len(df_val_test) // 2:]"
   ]
  },
  {
   "cell_type": "code",
   "execution_count": 19,
   "metadata": {},
   "outputs": [],
   "source": [
    "X_train, y_train = df_train.drop(columns=[\"Class\"]), df_train['Class']\n",
    "X_val, y_val = df_val.drop(columns=[\"Class\"]), df_val['Class']\n",
    "X_test, y_test = df_test.drop(columns=[\"Class\"]), df_test['Class']"
   ]
  },
  {
   "cell_type": "markdown",
   "metadata": {
    "id": "a06ZUN0Ms9BN"
   },
   "source": [
    "# Часть 1. Несбалансированная классификация."
   ]
  },
  {
   "cell_type": "markdown",
   "metadata": {
    "id": "h6Gaot3Fs9BN"
   },
   "source": [
    "**Задание 0. (1 балл)**: перед началом работы давайте поговорим о том, как мы будем оценивать качество. Классические метрики для качества классификации чаще всего \"ломаются\" на задачах с сильным перекосом. Чему будет равно значение accuracy для наивного предсказания (= мажорный класс для каждого объекта)? (можете не отвечать, просто подумайте)\n",
    "\n",
    "Из курса МО-1 вам уже известно, что мы можем использовать в таких задачах `AUC-PR` и получать адекватные показатели. Можно сказать, что `AUC-PR` представляет собой матожидание `precision` по распределению, заданному выигрышем в `recall` при смене порога. "
   ]
  },
  {
   "cell_type": "markdown",
   "metadata": {
    "id": "haRPLskDs9BO"
   },
   "source": [
    "Тем не менее, существуют и другие, не менее интересные метрики. Одной из таких метрик является коэффициент Каппа Коэна, представляющий собой нормализованную `accuracy`:\n",
    "\n",
    "$$\\kappa = \\frac{p_o - p_e}{1 - p_e}$$\n",
    "\n",
    "Данная метрика служит в качестве меры согласованности между двумя независимыми предсказателями, но ничего не знает про \"верные\" и \"предсказанные\" метки (в отличие от многих других метрик машинного обучения). Здесь $p_o$ - доля согласованных предсказаний, а $p_e$ - доля согласованных предсказаний, которая могла бы получиться при случайных ответах предсказателей. В нашем случае это работает так:\n",
    "\n",
    "• В качестве $p_o$ берем accuracy\n",
    "\n",
    "• В качестве $p_e$ примем следующую величину - вероятность случайного соглашения позитивных ответов (произведение долей позитивных ответов в обоих предсказаниях) плюс вероятность случайного соглашения негативных ответов (произведение долей негативных ответов в обоих предсказаниях)\n",
    "\n",
    "Метрика принимает значения от -1 до 1, где 1 - полная согласованность, 0 - согласованность на уровне рандома, -1 - совсем плохо. Как уже говорилось, метрика не различает \"верные\" и \"предсказанные\" метки, поэтому является симметричной (можете использовать это для отладки):"
   ]
  },
  {
   "cell_type": "markdown",
   "metadata": {
    "id": "vldIZwrMs9BP"
   },
   "source": [
    "Еще одной метрикой в такой задаче служит коэффициент корреляции Мэтьюза, выражающийся в терминах матрицы ошибок следующим образом:\n",
    "\n",
    "$$\\text{MCC} = \\frac{TP\\times TN - FP \\times FN}{\\sqrt{(TP+FP)(TP+FN)(TN+FP)(TN+FN)}}$$ \n",
    "\n",
    "Метрика принимает значения от -1 до 1, интерпретируемые аналогичным образом. "
   ]
  },
  {
   "cell_type": "markdown",
   "metadata": {
    "id": "GaOHYiZPs9BP"
   },
   "source": [
    "Обратите внимание, что эти метрики вычисляются на бинаризованных предсказаниях, поэтому может иметь смысл дополнительная настройка порога бинаризации."
   ]
  },
  {
   "cell_type": "markdown",
   "metadata": {
    "id": "TBsLuK2ds9BQ"
   },
   "source": [
    "Давайте проверим, что наши метрики действительно подходят под задачу. Вычислите их значения для наивного предсказания (aka мажорный класс для всех объектов):"
   ]
  },
  {
   "cell_type": "code",
   "execution_count": 20,
   "metadata": {
    "id": "LM_Q37gAs9BQ"
   },
   "outputs": [],
   "source": [
    "from sklearn.metrics import cohen_kappa_score, matthews_corrcoef"
   ]
  },
  {
   "cell_type": "code",
   "execution_count": 21,
   "metadata": {},
   "outputs": [
    {
     "name": "stdout",
     "output_type": "stream",
     "text": [
      "Коэффициент Каппа Коэна 0.0\n"
     ]
    }
   ],
   "source": [
    "y_pred = np.zeros_like(df['Class'])\n",
    "print(\"Коэффициент Каппа Коэна\", cohen_kappa_score(df['Class'], y_pred))"
   ]
  },
  {
   "cell_type": "code",
   "execution_count": 22,
   "metadata": {},
   "outputs": [
    {
     "name": "stdout",
     "output_type": "stream",
     "text": [
      "Коэффициент корреляции Мэтьюза 0.0\n"
     ]
    }
   ],
   "source": [
    "y_pred = np.zeros_like(df['Class'])\n",
    "print(\"Коэффициент корреляции Мэтьюза\", matthews_corrcoef(df['Class'], y_pred))\n"
   ]
  },
  {
   "cell_type": "markdown",
   "metadata": {
    "id": "nwryyw3ts9BQ"
   },
   "source": [
    "Давайте запустим бейзлайн-решение для нашей задачи. С чего же начнем? Возьмите `catboost` и обучите его классификатор на наших данных (используйте все признаки). Вычислите значения всех метрик на тестовой части, для контроля переобучения используйте валидационную (здесь и далее везде, где фигурирует `catboost`). "
   ]
  },
  {
   "cell_type": "code",
   "execution_count": 25,
   "metadata": {
    "id": "C3R-MRd7s9BQ"
   },
   "outputs": [],
   "source": [
    "from catboost import CatBoostClassifier\n",
    "import optuna\n",
    "from sklearn.metrics import average_precision_score as auc_pr\n"
   ]
  },
  {
   "cell_type": "code",
   "execution_count": 23,
   "metadata": {
    "id": "ZFFhboVQs9BR"
   },
   "outputs": [
    {
     "name": "stderr",
     "output_type": "stream",
     "text": [
      "[I 2024-04-27 13:07:49,599] A new study created in memory with name: no-name-52bd1c69-dc48-429d-ae91-eb3cba9b199b\n"
     ]
    },
    {
     "name": "stderr",
     "output_type": "stream",
     "text": [
      "[I 2024-04-27 13:07:53,987] Trial 0 finished with value: 0.6991236858770513 and parameters: {'num_trees': 290, 'depth': 5}. Best is trial 0 with value: 0.6991236858770513.\n",
      "[I 2024-04-27 13:08:10,238] Trial 1 finished with value: 0.7179444032223871 and parameters: {'num_trees': 350, 'depth': 10}. Best is trial 1 with value: 0.7179444032223871.\n",
      "[I 2024-04-27 13:08:36,184] Trial 2 finished with value: 0.6991236858770513 and parameters: {'num_trees': 250, 'depth': 12}. Best is trial 1 with value: 0.7179444032223871.\n",
      "[I 2024-04-27 13:08:39,447] Trial 3 finished with value: 0.6991236858770513 and parameters: {'num_trees': 110, 'depth': 9}. Best is trial 1 with value: 0.7179444032223871.\n",
      "[I 2024-04-27 13:08:43,139] Trial 4 finished with value: 0.7212618285890493 and parameters: {'num_trees': 290, 'depth': 2}. Best is trial 4 with value: 0.7212618285890493.\n",
      "[I 2024-04-27 13:09:11,259] Trial 5 finished with value: 0.7363406296374814 and parameters: {'num_trees': 270, 'depth': 12}. Best is trial 5 with value: 0.7363406296374814.\n",
      "[I 2024-04-27 13:09:14,890] Trial 6 finished with value: 0.6991236858770513 and parameters: {'num_trees': 230, 'depth': 5}. Best is trial 5 with value: 0.7363406296374814.\n",
      "[I 2024-04-27 13:09:23,377] Trial 7 finished with value: 0.7179444032223871 and parameters: {'num_trees': 50, 'depth': 13}. Best is trial 5 with value: 0.7363406296374814.\n",
      "[I 2024-04-27 13:09:41,608] Trial 8 finished with value: 0.71750781746873 and parameters: {'num_trees': 290, 'depth': 11}. Best is trial 5 with value: 0.7363406296374814.\n",
      "[I 2024-04-27 13:10:00,454] Trial 9 finished with value: 0.7363406296374814 and parameters: {'num_trees': 190, 'depth': 12}. Best is trial 5 with value: 0.7363406296374814.\n",
      "[I 2024-04-27 13:12:10,985] Trial 10 finished with value: 0.6991236858770513 and parameters: {'num_trees': 170, 'depth': 15}. Best is trial 5 with value: 0.7363406296374814.\n",
      "[I 2024-04-27 13:13:11,794] Trial 11 finished with value: 0.6991236858770513 and parameters: {'num_trees': 170, 'depth': 14}. Best is trial 5 with value: 0.7363406296374814.\n",
      "[I 2024-04-27 13:13:15,408] Trial 12 finished with value: 0.680303605101369 and parameters: {'num_trees': 190, 'depth': 8}. Best is trial 5 with value: 0.7363406296374814.\n",
      "[I 2024-04-27 13:13:27,691] Trial 13 finished with value: 0.6986750052999787 and parameters: {'num_trees': 130, 'depth': 12}. Best is trial 5 with value: 0.7363406296374814.\n",
      "[I 2024-04-27 13:13:32,173] Trial 14 finished with value: 0.6986750052999787 and parameters: {'num_trees': 250, 'depth': 7}. Best is trial 5 with value: 0.7363406296374814.\n",
      "[I 2024-04-27 13:17:41,209] Trial 15 finished with value: 0.6991236858770513 and parameters: {'num_trees': 350, 'depth': 15}. Best is trial 5 with value: 0.7363406296374814.\n",
      "[I 2024-04-27 13:17:49,475] Trial 16 finished with value: 0.7179444032223871 and parameters: {'num_trees': 210, 'depth': 10}. Best is trial 5 with value: 0.7363406296374814.\n",
      "[I 2024-04-27 13:18:07,117] Trial 17 finished with value: 0.7004455537055899 and parameters: {'num_trees': 110, 'depth': 13}. Best is trial 5 with value: 0.7363406296374814.\n",
      "[I 2024-04-27 13:18:24,556] Trial 18 finished with value: 0.7363406296374814 and parameters: {'num_trees': 310, 'depth': 11}. Best is trial 5 with value: 0.7363406296374814.\n",
      "[I 2024-04-27 13:18:25,523] Trial 19 finished with value: 0.7179444032223871 and parameters: {'num_trees': 50, 'depth': 7}. Best is trial 5 with value: 0.7363406296374814.\n",
      "[I 2024-04-27 13:19:16,613] Trial 20 finished with value: 0.7179444032223871 and parameters: {'num_trees': 150, 'depth': 14}. Best is trial 5 with value: 0.7363406296374814.\n",
      "[I 2024-04-27 13:19:32,119] Trial 21 finished with value: 0.7551734418062328 and parameters: {'num_trees': 270, 'depth': 11}. Best is trial 21 with value: 0.7551734418062328.\n",
      "[I 2024-04-27 13:19:55,537] Trial 22 finished with value: 0.6991236858770513 and parameters: {'num_trees': 250, 'depth': 12}. Best is trial 21 with value: 0.7551734418062328.\n",
      "[I 2024-04-27 13:20:03,863] Trial 23 finished with value: 0.7179444032223871 and parameters: {'num_trees': 210, 'depth': 10}. Best is trial 21 with value: 0.7551734418062328.\n",
      "[I 2024-04-27 13:20:53,376] Trial 24 finished with value: 0.6614842125090958 and parameters: {'num_trees': 310, 'depth': 13}. Best is trial 21 with value: 0.7551734418062328.\n"
     ]
    },
    {
     "data": {
      "text/plain": [
       "{'num_trees': 270, 'depth': 11}"
      ]
     },
     "execution_count": 23,
     "metadata": {},
     "output_type": "execute_result"
    }
   ],
   "source": [
    "def objective(trial):\n",
    "    num_trees = trial.suggest_int(\"num_trees\", 50, 350, step=20)\n",
    "    depth = trial.suggest_int(\"depth\", 2, 15)\n",
    "\n",
    "    clf = CatBoostClassifier(num_trees=num_trees, depth=depth, verbose=False)\n",
    "    clf.fit(X_train, y_train)\n",
    "    y_pred = clf.predict(X_val)\n",
    "    \n",
    "    return auc_pr(y_val, y_pred)\n",
    "\n",
    "study = optuna.create_study(direction=\"maximize\")   \n",
    "study.optimize(objective, n_trials=25)\n",
    "study.best_params"
   ]
  },
  {
   "cell_type": "code",
   "execution_count": 24,
   "metadata": {},
   "outputs": [
    {
     "name": "stdout",
     "output_type": "stream",
     "text": [
      "Коэффициент Каппа Коэна для валидации 0.8599909242172137\n",
      "Коэффициент Каппа Коэна для теста 0.7998608632102652\n",
      "Коэффициент корреляции Мэтьюза для валидации 0.8685459101182709\n",
      "Коэффициент корреляции Мэтьюза для теста 0.8038960655235946\n",
      "AUC-PR для валидации 0.7551734418062328\n",
      "AUC-PR для теста 0.6466753132249428\n"
     ]
    }
   ],
   "source": [
    "clf = CatBoostClassifier(num_trees=study.best_params['num_trees'], depth=study.best_params['depth'], verbose=False)\n",
    "clf.fit(X_train, y_train)\n",
    "y_pred_val = clf.predict(X_val)\n",
    "y_pred_test = clf.predict(X_test)\n",
    "print(\"Коэффициент Каппа Коэна для валидации\", cohen_kappa_score(y_val, y_pred_val))\n",
    "print(\"Коэффициент Каппа Коэна для теста\", cohen_kappa_score(y_test, y_pred_test))\n",
    "print(\"Коэффициент корреляции Мэтьюза для валидации\", matthews_corrcoef(y_val, y_pred_val))\n",
    "print(\"Коэффициент корреляции Мэтьюза для теста\", matthews_corrcoef(y_test, y_pred_test))\n",
    "print(\"AUC-PR для валидации\", auc_pr(y_val, y_pred_val))\n",
    "print(\"AUC-PR для теста\", auc_pr(y_test, y_pred_test))\n"
   ]
  },
  {
   "cell_type": "markdown",
   "metadata": {
    "id": "zs-ZjQDLs9BR"
   },
   "source": [
    "Если вы все сделали правильно, у вас должны были получиться значения в районе 0.7."
   ]
  },
  {
   "cell_type": "markdown",
   "metadata": {
    "id": "slOmV65fs9BR"
   },
   "source": [
    "**Задание 1. (1 балл)**. Многие реализации методов предлагают встроенные способы для борьбы с нашей проблемой. Самое часто встречающееся решение - просто добавить вес в функции потерь для минорного класса (таким образом, ошибка на объекте минорного класса будет весить больше, чем для мажорного). В `catboost` это также реализовано, причем для бинарной задачи это можно сделать целыми двумя способами (можете выбрать любой, на свой вкус, автор задания предпочитает отдельный скейлинг для минорного класса). Чаще всего в качестве веса берется отношение числа объектов мажорного класса к числу минорного. Попробуйте обучить модель с таким скалированием и сравните метрики на тестовой части с бейзлайном."
   ]
  },
  {
   "cell_type": "code",
   "execution_count": 25,
   "metadata": {
    "id": "WLVjSc0As9BR"
   },
   "outputs": [
    {
     "name": "stdout",
     "output_type": "stream",
     "text": [
      "Коэффициент Каппа Коэна для валидации 0.799670362379255\n",
      "Коэффициент Каппа Коэна для теста 0.6380003992502469\n",
      "Коэффициент корреляции Мэтьюза для валидации 0.8051035942874769\n",
      "Коэффициент корреляции Мэтьюза для теста 0.6393062199436622\n",
      "AUC-PR для валидации 0.649223900128209\n",
      "AUC-PR для теста 0.40933668697792147\n"
     ]
    }
   ],
   "source": [
    "coeff = np.sum(y_train == 0) / np.sum(y_train == 1)\n",
    "clf = CatBoostClassifier(num_trees=study.best_params['num_trees'], depth=study.best_params['depth'],\\\n",
    "                          scale_pos_weight = coeff,\n",
    "                         verbose=False)\n",
    "clf.fit(X_train, y_train)\n",
    "y_pred_val = clf.predict(X_val)\n",
    "y_pred_test = clf.predict(X_test)\n",
    "print(\"Коэффициент Каппа Коэна для валидации\", cohen_kappa_score(y_val, y_pred_val))\n",
    "print(\"Коэффициент Каппа Коэна для теста\", cohen_kappa_score(y_test, y_pred_test))\n",
    "print(\"Коэффициент корреляции Мэтьюза для валидации\", matthews_corrcoef(y_val, y_pred_val))\n",
    "print(\"Коэффициент корреляции Мэтьюза для теста\", matthews_corrcoef(y_test, y_pred_test))\n",
    "print(\"AUC-PR для валидации\", auc_pr(y_val, y_pred_val))\n",
    "print(\"AUC-PR для теста\", auc_pr(y_test, y_pred_test))"
   ]
  },
  {
   "cell_type": "markdown",
   "metadata": {},
   "source": [
    "стало как-то хуже"
   ]
  },
  {
   "cell_type": "markdown",
   "metadata": {
    "id": "qwhhGSVVs9BR"
   },
   "source": [
    "Поскольку данный вес будет являться гиперпараметром метода, было бы опрометчиво остановиться на одном значении (тем более, с большой вероятностью у вас все сломалось). Запустите перебор для этого гиперпараметра на валидационной выборке (используйте `PR-AUC`), подберите оптимальный порог бинаризации для $\\kappa$ или $\\text{MCC}$. Для лучшего найденного веса и порога вычислите все метрики на тестовой части. \n",
    "\n",
    "При этом можете также проверить отдельное скалирование в большую сторону для мажорного класса (т.е. веса минорного сделать меньше 1) и экстремальные скалирования (т.е. веса минорного больше, чем в начале этого задания). Какой вес получился оптимальным?"
   ]
  },
  {
   "cell_type": "code",
   "execution_count": 26,
   "metadata": {
    "id": "LluYkXus8OWt"
   },
   "outputs": [
    {
     "name": "stderr",
     "output_type": "stream",
     "text": [
      "[I 2024-04-27 13:21:24,505] A new study created in memory with name: no-name-b26f214b-76d9-4aea-81e3-d7d117967a6b\n"
     ]
    },
    {
     "name": "stderr",
     "output_type": "stream",
     "text": [
      "[I 2024-04-27 13:21:25,503] Trial 0 finished with value: 0.71750781746873 and parameters: {'num_trees': 55, 'depth': 3, 'scale_pos_weight': 0.10105790133761239}. Best is trial 0 with value: 0.71750781746873.\n",
      "[I 2024-04-27 13:21:28,241] Trial 1 finished with value: 0.6798421931312274 and parameters: {'num_trees': 115, 'depth': 8, 'scale_pos_weight': 0.2110424109124323}. Best is trial 0 with value: 0.71750781746873.\n",
      "[I 2024-04-27 13:21:30,331] Trial 2 finished with value: 0.6614842125090958 and parameters: {'num_trees': 135, 'depth': 4, 'scale_pos_weight': 0.7648398722283567}. Best is trial 0 with value: 0.71750781746873.\n",
      "[I 2024-04-27 13:21:32,084] Trial 3 finished with value: 0.7192345379428006 and parameters: {'num_trees': 115, 'depth': 4, 'scale_pos_weight': 0.5650750909667485}. Best is trial 3 with value: 0.7192345379428006.\n",
      "[I 2024-04-27 13:23:00,850] Trial 4 finished with value: 0.6986750052999787 and parameters: {'num_trees': 115, 'depth': 15, 'scale_pos_weight': 0.6417599531511822}. Best is trial 3 with value: 0.7192345379428006.\n",
      "[I 2024-04-27 13:23:54,842] Trial 5 finished with value: 0.6628743279898675 and parameters: {'num_trees': 155, 'depth': 14, 'scale_pos_weight': 0.8041448423416653}. Best is trial 3 with value: 0.7192345379428006.\n",
      "[I 2024-04-27 13:24:04,752] Trial 6 finished with value: 0.6798421931312274 and parameters: {'num_trees': 95, 'depth': 12, 'scale_pos_weight': 0.22101440468411954}. Best is trial 3 with value: 0.7192345379428006.\n",
      "[I 2024-04-27 13:24:10,309] Trial 7 finished with value: 0.6440924413933922 and parameters: {'num_trees': 15, 'depth': 14, 'scale_pos_weight': 0.9595757574060492}. Best is trial 3 with value: 0.7192345379428006.\n",
      "[I 2024-04-27 13:24:10,859] Trial 8 finished with value: 0.6426655654488492 and parameters: {'num_trees': 15, 'depth': 9, 'scale_pos_weight': 0.8486143935878884}. Best is trial 3 with value: 0.7192345379428006.\n",
      "[I 2024-04-27 13:24:12,414] Trial 9 finished with value: 0.6991236858770513 and parameters: {'num_trees': 35, 'depth': 10, 'scale_pos_weight': 0.9144673579495811}. Best is trial 3 with value: 0.7192345379428006.\n",
      "[I 2024-04-27 13:24:15,764] Trial 10 finished with value: 0.7551734418062328 and parameters: {'num_trees': 195, 'depth': 6, 'scale_pos_weight': 0.43857316610063035}. Best is trial 10 with value: 0.7551734418062328.\n",
      "[I 2024-04-27 13:24:18,979] Trial 11 finished with value: 0.6986750052999787 and parameters: {'num_trees': 195, 'depth': 6, 'scale_pos_weight': 0.44989676721129346}. Best is trial 10 with value: 0.7551734418062328.\n",
      "[I 2024-04-27 13:24:22,096] Trial 12 finished with value: 0.6991236858770513 and parameters: {'num_trees': 195, 'depth': 6, 'scale_pos_weight': 0.4754327213726456}. Best is trial 10 with value: 0.7551734418062328.\n",
      "[I 2024-04-27 13:24:23,062] Trial 13 finished with value: 0.6991236858770513 and parameters: {'num_trees': 75, 'depth': 2, 'scale_pos_weight': 0.5787872643748958}. Best is trial 10 with value: 0.7551734418062328.\n",
      "[I 2024-04-27 13:24:25,522] Trial 14 finished with value: 0.7363406296374814 and parameters: {'num_trees': 155, 'depth': 5, 'scale_pos_weight': 0.3612209992128994}. Best is trial 10 with value: 0.7551734418062328.\n",
      "[I 2024-04-27 13:24:28,303] Trial 15 finished with value: 0.6816587608649565 and parameters: {'num_trees': 175, 'depth': 6, 'scale_pos_weight': 0.38110336282164226}. Best is trial 10 with value: 0.7551734418062328.\n",
      "[I 2024-04-27 13:24:31,040] Trial 16 finished with value: 0.680303605101369 and parameters: {'num_trees': 155, 'depth': 7, 'scale_pos_weight': 0.33563834093056655}. Best is trial 10 with value: 0.7551734418062328.\n",
      "[I 2024-04-27 13:24:33,789] Trial 17 finished with value: 0.7363406296374814 and parameters: {'num_trees': 175, 'depth': 5, 'scale_pos_weight': 0.30172540963869143}. Best is trial 10 with value: 0.7551734418062328.\n",
      "[I 2024-04-27 13:24:40,092] Trial 18 finished with value: 0.6798421931312274 and parameters: {'num_trees': 155, 'depth': 10, 'scale_pos_weight': 0.6425770366173962}. Best is trial 10 with value: 0.7551734418062328.\n",
      "[I 2024-04-27 13:24:42,655] Trial 19 finished with value: 0.6991236858770513 and parameters: {'num_trees': 195, 'depth': 2, 'scale_pos_weight': 0.4559857709935353}. Best is trial 10 with value: 0.7551734418062328.\n",
      "[I 2024-04-27 13:24:46,131] Trial 20 finished with value: 0.6614842125090958 and parameters: {'num_trees': 175, 'depth': 8, 'scale_pos_weight': 0.23359942621833776}. Best is trial 10 with value: 0.7551734418062328.\n",
      "[I 2024-04-27 13:24:48,852] Trial 21 finished with value: 0.7192345379428006 and parameters: {'num_trees': 175, 'depth': 5, 'scale_pos_weight': 0.35706439209085505}. Best is trial 10 with value: 0.7551734418062328.\n",
      "[I 2024-04-27 13:24:50,753] Trial 22 finished with value: 0.6628743279898675 and parameters: {'num_trees': 135, 'depth': 4, 'scale_pos_weight': 0.3065226595366024}. Best is trial 10 with value: 0.7551734418062328.\n",
      "[I 2024-04-27 13:24:53,617] Trial 23 finished with value: 0.680303605101369 and parameters: {'num_trees': 175, 'depth': 5, 'scale_pos_weight': 0.15315212050111182}. Best is trial 10 with value: 0.7551734418062328.\n",
      "[I 2024-04-27 13:24:55,979] Trial 24 finished with value: 0.680303605101369 and parameters: {'num_trees': 135, 'depth': 7, 'scale_pos_weight': 0.28806863135830346}. Best is trial 10 with value: 0.7551734418062328.\n"
     ]
    },
    {
     "data": {
      "text/plain": [
       "{'num_trees': 195, 'depth': 6, 'scale_pos_weight': 0.43857316610063035}"
      ]
     },
     "execution_count": 26,
     "metadata": {},
     "output_type": "execute_result"
    }
   ],
   "source": [
    "def objective(trial):\n",
    "    num_trees = trial.suggest_int(\"num_trees\", 15, 195, step=20)\n",
    "    depth = trial.suggest_int(\"depth\", 2, 15)\n",
    "    scale_pos_weight = trial.suggest_float(\"scale_pos_weight\", 0.1, 1.0)\n",
    "    \n",
    "    clf = CatBoostClassifier(num_trees=num_trees, depth=depth, scale_pos_weight = scale_pos_weight, verbose=False)\n",
    "    clf.fit(X_train, y_train)\n",
    "    y_pred = clf.predict(X_val)\n",
    "    \n",
    "    return auc_pr(y_val, y_pred)\n",
    "\n",
    "study = optuna.create_study(direction=\"maximize\")   \n",
    "study.optimize(objective, n_trials=25)\n",
    "study.best_params"
   ]
  },
  {
   "cell_type": "code",
   "execution_count": 27,
   "metadata": {},
   "outputs": [
    {
     "name": "stdout",
     "output_type": "stream",
     "text": [
      "Коэффициент Каппа Коэна для валидации 0.8599909242172137\n",
      "Коэффициент Каппа Коэна для теста 0.7177586528421791\n",
      "Коэффициент корреляции Мэтьюза для валидации 0.8685459101182709\n",
      "Коэффициент корреляции Мэтьюза для теста 0.7237392722838328\n",
      "AUC-PR для валидации 0.7551734418062328\n",
      "AUC-PR для теста 0.5243450601367231\n"
     ]
    }
   ],
   "source": [
    "clf = CatBoostClassifier(num_trees=study.best_params['num_trees'], depth=study.best_params['depth'],\\\n",
    "                        scale_pos_weight = study.best_params['scale_pos_weight'],\n",
    "                        verbose=False)\n",
    "clf.fit(X_train, y_train)\n",
    "y_pred_val = clf.predict(X_val)\n",
    "y_pred_test = clf.predict(X_test)\n",
    "print(\"Коэффициент Каппа Коэна для валидации\", cohen_kappa_score(y_val, y_pred_val))\n",
    "print(\"Коэффициент Каппа Коэна для теста\", cohen_kappa_score(y_test, y_pred_test))\n",
    "print(\"Коэффициент корреляции Мэтьюза для валидации\", matthews_corrcoef(y_val, y_pred_val))\n",
    "print(\"Коэффициент корреляции Мэтьюза для теста\", matthews_corrcoef(y_test, y_pred_test))\n",
    "print(\"AUC-PR для валидации\", auc_pr(y_val, y_pred_val))\n",
    "print(\"AUC-PR для теста\", auc_pr(y_test, y_pred_test))"
   ]
  },
  {
   "cell_type": "markdown",
   "metadata": {
    "id": "6SaQ-j2Ss9BS"
   },
   "source": [
    "**Задание 2. (1 балл)**. На самом деле, то, что мы сейчас делали, очень схоже с другой распространенной техникой - оверсэмплингом. Фактически, мы можем продублировать все объекты минорного класса и получить тот же эффект, какой был бы при использовании веса, равного 2. Тем не менее, такой подход - это лишь малая часть того, что мы можем проделать с целью повысить число объектов минорного класса. \n",
    "\n",
    "Для продолжения работы установим библиотеку [imbalanced-learn](https://imbalanced-learn.org/stable/):"
   ]
  },
  {
   "cell_type": "code",
   "execution_count": 129,
   "metadata": {
    "id": "oHL5jywds9BS"
   },
   "outputs": [
    {
     "name": "stdout",
     "output_type": "stream",
     "text": [
      "Collecting imbalanced-learn\n",
      "  Downloading imbalanced_learn-0.12.2-py3-none-any.whl.metadata (8.2 kB)\n",
      "Requirement already satisfied: numpy>=1.17.3 in /Library/Frameworks/Python.framework/Versions/3.11/lib/python3.11/site-packages (from imbalanced-learn) (1.26.1)\n",
      "Requirement already satisfied: scipy>=1.5.0 in /Library/Frameworks/Python.framework/Versions/3.11/lib/python3.11/site-packages (from imbalanced-learn) (1.11.3)\n",
      "Requirement already satisfied: scikit-learn>=1.0.2 in /Library/Frameworks/Python.framework/Versions/3.11/lib/python3.11/site-packages (from imbalanced-learn) (1.3.2)\n",
      "Requirement already satisfied: joblib>=1.1.1 in /Library/Frameworks/Python.framework/Versions/3.11/lib/python3.11/site-packages (from imbalanced-learn) (1.3.2)\n",
      "Requirement already satisfied: threadpoolctl>=2.0.0 in /Library/Frameworks/Python.framework/Versions/3.11/lib/python3.11/site-packages (from imbalanced-learn) (3.2.0)\n",
      "Downloading imbalanced_learn-0.12.2-py3-none-any.whl (257 kB)\n",
      "\u001b[2K   \u001b[90m━━━━━━━━━━━━━━━━━━━━━━━━━━━━━━━━━━━━━━━━\u001b[0m \u001b[32m258.0/258.0 kB\u001b[0m \u001b[31m2.4 MB/s\u001b[0m eta \u001b[36m0:00:00\u001b[0ma \u001b[36m0:00:01\u001b[0m\n",
      "\u001b[?25hInstalling collected packages: imbalanced-learn\n",
      "Successfully installed imbalanced-learn-0.12.2\n"
     ]
    }
   ],
   "source": [
    "!pip3.11 install imbalanced-learn"
   ]
  },
  {
   "cell_type": "markdown",
   "metadata": {
    "id": "A-dF_oXps9BS"
   },
   "source": [
    "Первый метод, которым мы воспользуемся, называется SMOTE (его вы уже разбирали на лекции). Кратко напомним суть: мы выбираем случайного кандидата среди $k$ ближайших соседей объекта минорного класса, затем берем точку на отрезке между двумя объектами (т.е. выпуклую комбинацию со случайными коэффициентами) и добавляем в выборку. "
   ]
  },
  {
   "cell_type": "code",
   "execution_count": 26,
   "metadata": {
    "id": "EcWmeujGs9BS"
   },
   "outputs": [],
   "source": [
    "from imblearn.over_sampling import SMOTE"
   ]
  },
  {
   "cell_type": "markdown",
   "metadata": {
    "id": "Pke-fWMGs9BT"
   },
   "source": [
    "Используйте SMOTE для ресэмплинга обучающей выборки, на новой выборке обучите модель (вес положительных объектов скалировать не нужно). Замерьте качество на тестовой выборке (**важно!** не преобразовывайте валидационную и тестовую выборку никак - мы не хотим отслеживать качество на объектах, которых в реальности не существует). Сравните полное выравнивание выборки с частичным (т.е. таким, что баланс классов улучшается, но не достигает равенства - скажем, 1:2 и 1:10)."
   ]
  },
  {
   "cell_type": "markdown",
   "metadata": {},
   "source": [
    "Полное выравнивание:"
   ]
  },
  {
   "cell_type": "code",
   "execution_count": 29,
   "metadata": {
    "id": "xm3HED1ms9BT"
   },
   "outputs": [
    {
     "name": "stdout",
     "output_type": "stream",
     "text": [
      "Коэффициент Каппа Коэна для валидации 0.7743359073408023\n",
      "Коэффициент Каппа Коэна для теста 0.5814301953414787\n",
      "Коэффициент корреляции Мэтьюза для валидации 0.7751257642459805\n",
      "Коэффициент корреляции Мэтьюза для теста 0.5934426606164669\n",
      "AUC-PR для валидации 0.6018475451960261\n",
      "AUC-PR для теста 0.3528277466501035\n"
     ]
    }
   ],
   "source": [
    "sm = SMOTE(random_state=42, sampling_strategy=1)\n",
    "X_train_resampled, y_train_resampled = sm.fit_resample(X_train, y_train)\n",
    "clf = CatBoostClassifier(num_trees=270, depth = 11, verbose=False)\n",
    "clf.fit(X_train_resampled, y_train_resampled)\n",
    "y_pred_val = clf.predict(X_val)\n",
    "y_pred_test = clf.predict(X_test)\n",
    "print(\"Коэффициент Каппа Коэна для валидации\", cohen_kappa_score(y_val, y_pred_val))\n",
    "print(\"Коэффициент Каппа Коэна для теста\", cohen_kappa_score(y_test, y_pred_test))\n",
    "print(\"Коэффициент корреляции Мэтьюза для валидации\", matthews_corrcoef(y_val, y_pred_val))\n",
    "print(\"Коэффициент корреляции Мэтьюза для теста\", matthews_corrcoef(y_test, y_pred_test))\n",
    "print(\"AUC-PR для валидации\", auc_pr(y_val, y_pred_val))\n",
    "print(\"AUC-PR для теста\", auc_pr(y_test, y_pred_test))"
   ]
  },
  {
   "cell_type": "markdown",
   "metadata": {},
   "source": [
    "Выравнивание на 1/2:"
   ]
  },
  {
   "cell_type": "code",
   "execution_count": 30,
   "metadata": {},
   "outputs": [
    {
     "name": "stdout",
     "output_type": "stream",
     "text": [
      "Коэффициент Каппа Коэна для валидации 0.8115478485696136\n",
      "Коэффициент Каппа Коэна для теста 0.6396882805812127\n",
      "Коэффициент корреляции Мэтьюза для валидации 0.8125476669919791\n",
      "Коэффициент корреляции Мэтьюза для теста 0.6443525381406625\n",
      "AUC-PR для валидации 0.6611917885661791\n",
      "AUC-PR для теста 0.4157950823447119\n"
     ]
    }
   ],
   "source": [
    "sm = SMOTE(random_state=42, sampling_strategy=0.5)\n",
    "X_train_resampled, y_train_resampled = sm.fit_resample(X_train, y_train)\n",
    "clf = CatBoostClassifier(num_trees=270, depth = 11, verbose=False)\n",
    "clf.fit(X_train_resampled, y_train_resampled)\n",
    "y_pred_val = clf.predict(X_val)\n",
    "y_pred_test = clf.predict(X_test)\n",
    "print(\"Коэффициент Каппа Коэна для валидации\", cohen_kappa_score(y_val, y_pred_val))\n",
    "print(\"Коэффициент Каппа Коэна для теста\", cohen_kappa_score(y_test, y_pred_test))\n",
    "print(\"Коэффициент корреляции Мэтьюза для валидации\", matthews_corrcoef(y_val, y_pred_val))\n",
    "print(\"Коэффициент корреляции Мэтьюза для теста\", matthews_corrcoef(y_test, y_pred_test))\n",
    "print(\"AUC-PR для валидации\", auc_pr(y_val, y_pred_val))\n",
    "print(\"AUC-PR для теста\", auc_pr(y_test, y_pred_test))"
   ]
  },
  {
   "cell_type": "markdown",
   "metadata": {},
   "source": [
    "Выравнивание на 1/10:"
   ]
  },
  {
   "cell_type": "code",
   "execution_count": 31,
   "metadata": {},
   "outputs": [
    {
     "name": "stdout",
     "output_type": "stream",
     "text": [
      "Коэффициент Каппа Коэна для валидации 0.8196845746316063\n",
      "Коэффициент Каппа Коэна для теста 0.6797229160721892\n",
      "Коэффициент корреляции Мэтьюза для валидации 0.821169206162195\n",
      "Коэффициент корреляции Мэтьюза для теста 0.6846790843276719\n",
      "AUC-PR для валидации 0.6752507341034466\n",
      "AUC-PR для теста 0.4693313997894244\n"
     ]
    }
   ],
   "source": [
    "sm = SMOTE(random_state=42, sampling_strategy=0.1)\n",
    "X_train_resampled, y_train_resampled = sm.fit_resample(X_train, y_train)\n",
    "clf = CatBoostClassifier(num_trees=270, depth = 11, verbose=False)\n",
    "clf.fit(X_train_resampled, y_train_resampled)\n",
    "y_pred_val = clf.predict(X_val)\n",
    "y_pred_test = clf.predict(X_test)\n",
    "print(\"Коэффициент Каппа Коэна для валидации\", cohen_kappa_score(y_val, y_pred_val))\n",
    "print(\"Коэффициент Каппа Коэна для теста\", cohen_kappa_score(y_test, y_pred_test))\n",
    "print(\"Коэффициент корреляции Мэтьюза для валидации\", matthews_corrcoef(y_val, y_pred_val))\n",
    "print(\"Коэффициент корреляции Мэтьюза для теста\", matthews_corrcoef(y_test, y_pred_test))\n",
    "print(\"AUC-PR для валидации\", auc_pr(y_val, y_pred_val))\n",
    "print(\"AUC-PR для теста\", auc_pr(y_test, y_pred_test))"
   ]
  },
  {
   "cell_type": "markdown",
   "metadata": {},
   "source": [
    "Лучшее качество при выравнивании на 1/10"
   ]
  },
  {
   "cell_type": "markdown",
   "metadata": {
    "id": "f_3MA21rs9BT"
   },
   "source": [
    "**Бонус (1.5 балла)**. Для vanilla SMOTE существуют некоторые модификации, часть из которых была реализована в библиотеке imblearn. Во время лекций/семинаров эти модификации не рассматривались, тем не менее, мы все равно их исследуем.\n",
    "\n",
    "Найдите статьи о следующих методах и попробуйте вкратце сформулировать, в чем их основная идея (сделайте так, чтобы человек, знакомый с машинным обучением в целом, но не слышавший конкретно про это смог понять):\n",
    "\n",
    "BorderlineSMOTE - https://sci2s.ugr.es/keel/pdf/specific/congreso/han_borderline_smote.pdf\n",
    "\n",
    "SVM-SMOTE - https://www.researchgate.net/publication/224355120_SVMs_Modeling_for_Highly_Imbalanced_Classification\n",
    "\n",
    "K-Means-SMOTE - https://arxiv.org/pdf/1711.00837\n",
    "\n",
    "ADASYN - https://ieeexplore.ieee.org/document/4633969\n",
    "\n",
    "Теперь попробуйте сравнить качество всех методов на наших данных."
   ]
  },
  {
   "cell_type": "code",
   "execution_count": 28,
   "metadata": {
    "id": "cw5hLd-6s9BT"
   },
   "outputs": [],
   "source": [
    "from imblearn.over_sampling import BorderlineSMOTE, SVMSMOTE, KMeansSMOTE, ADASYN"
   ]
  },
  {
   "cell_type": "code",
   "execution_count": 33,
   "metadata": {},
   "outputs": [
    {
     "name": "stdout",
     "output_type": "stream",
     "text": [
      "Коэффициент Каппа Коэна для валидации 0.8295104636606013\n",
      "Коэффициент Каппа Коэна для теста 0.7439928940257028\n",
      "Коэффициент корреляции Мэтьюза для валидации 0.8363760198607977\n",
      "Коэффициент корреляции Мэтьюза для теста 0.7441944677557768\n",
      "AUC-PR для валидации 0.7004455537055899\n",
      "AUC-PR для теста 0.5543232208728505\n"
     ]
    }
   ],
   "source": [
    "border_line = BorderlineSMOTE(sampling_strategy=0.1)\n",
    "X_train_resampled, y_train_resampled = border_line.fit_resample(X_train, y_train)\n",
    "clf = CatBoostClassifier(num_trees=270, depth = 11, verbose=False)\n",
    "clf.fit(X_train_resampled, y_train_resampled)\n",
    "y_pred_val = clf.predict(X_val)\n",
    "y_pred_test = clf.predict(X_test)\n",
    "print(\"Коэффициент Каппа Коэна для валидации\", cohen_kappa_score(y_val, y_pred_val))\n",
    "print(\"Коэффициент Каппа Коэна для теста\", cohen_kappa_score(y_test, y_pred_test))\n",
    "print(\"Коэффициент корреляции Мэтьюза для валидации\", matthews_corrcoef(y_val, y_pred_val))\n",
    "print(\"Коэффициент корреляции Мэтьюза для теста\", matthews_corrcoef(y_test, y_pred_test))\n",
    "print(\"AUC-PR для валидации\", auc_pr(y_val, y_pred_val))\n",
    "print(\"AUC-PR для теста\", auc_pr(y_test, y_pred_test))"
   ]
  },
  {
   "cell_type": "code",
   "execution_count": 34,
   "metadata": {},
   "outputs": [
    {
     "name": "stdout",
     "output_type": "stream",
     "text": [
      "Коэффициент Каппа Коэна для валидации 0.8384510664044773\n",
      "Коэффициент Каппа Коэна для теста 0.7498260790128315\n",
      "Коэффициент корреляции Мэтьюза для валидации 0.8467917789048397\n",
      "Коэффициент корреляции Мэтьюза для теста 0.7536088618289372\n",
      "AUC-PR для валидации 0.7179444032223871\n",
      "AUC-PR для теста 0.5684275960688305\n"
     ]
    }
   ],
   "source": [
    "svm_smote = SVMSMOTE(sampling_strategy=0.1)\n",
    "X_train_resampled, y_train_resampled = svm_smote.fit_resample(X_train, y_train)\n",
    "clf = CatBoostClassifier(num_trees=270, depth = 11, verbose=False)\n",
    "clf.fit(X_train_resampled, y_train_resampled)\n",
    "y_pred_val = clf.predict(X_val)\n",
    "y_pred_test = clf.predict(X_test)\n",
    "print(\"Коэффициент Каппа Коэна для валидации\", cohen_kappa_score(y_val, y_pred_val))\n",
    "print(\"Коэффициент Каппа Коэна для теста\", cohen_kappa_score(y_test, y_pred_test))\n",
    "print(\"Коэффициент корреляции Мэтьюза для валидации\", matthews_corrcoef(y_val, y_pred_val))\n",
    "print(\"Коэффициент корреляции Мэтьюза для теста\", matthews_corrcoef(y_test, y_pred_test))\n",
    "print(\"AUC-PR для валидации\", auc_pr(y_val, y_pred_val))\n",
    "print(\"AUC-PR для теста\", auc_pr(y_test, y_pred_test))"
   ]
  },
  {
   "cell_type": "code",
   "execution_count": 39,
   "metadata": {},
   "outputs": [
    {
     "name": "stderr",
     "output_type": "stream",
     "text": [
      "/Library/Frameworks/Python.framework/Versions/3.11/lib/python3.11/site-packages/sklearn/cluster/_kmeans.py:1934: FutureWarning: The default value of `n_init` will change from 3 to 'auto' in 1.4. Set the value of `n_init` explicitly to suppress the warning\n",
      "  super()._check_params_vs_input(X, default_n_init=3)\n"
     ]
    },
    {
     "name": "stdout",
     "output_type": "stream",
     "text": [
      "Коэффициент Каппа Коэна для валидации 0.8508216557030261\n",
      "Коэффициент Каппа Коэна для теста 0.6380003992502469\n",
      "Коэффициент корреляции Мэтьюза для валидации 0.8578635968833646\n",
      "Коэффициент корреляции Мэтьюза для теста 0.6393062199436622\n",
      "AUC-PR для валидации 0.736765710559109\n",
      "AUC-PR для теста 0.40933668697792147\n"
     ]
    }
   ],
   "source": [
    "kmeans_smote = KMeansSMOTE(sampling_strategy=0.1, cluster_balance_threshold = 0.001)\n",
    "X_train_resampled, y_train_resampled = kmeans_smote.fit_resample(X_train, y_train)\n",
    "clf = CatBoostClassifier(num_trees=270, depth = 11, verbose=False)\n",
    "clf.fit(X_train_resampled, y_train_resampled)\n",
    "y_pred_val = clf.predict(X_val)\n",
    "y_pred_test = clf.predict(X_test)\n",
    "print(\"Коэффициент Каппа Коэна для валидации\", cohen_kappa_score(y_val, y_pred_val))\n",
    "print(\"Коэффициент Каппа Коэна для теста\", cohen_kappa_score(y_test, y_pred_test))\n",
    "print(\"Коэффициент корреляции Мэтьюза для валидации\", matthews_corrcoef(y_val, y_pred_val))\n",
    "print(\"Коэффициент корреляции Мэтьюза для теста\", matthews_corrcoef(y_test, y_pred_test))\n",
    "print(\"AUC-PR для валидации\", auc_pr(y_val, y_pred_val))\n",
    "print(\"AUC-PR для теста\", auc_pr(y_test, y_pred_test))"
   ]
  },
  {
   "cell_type": "code",
   "execution_count": 40,
   "metadata": {},
   "outputs": [
    {
     "name": "stdout",
     "output_type": "stream",
     "text": [
      "Коэффициент Каппа Коэна для валидации 0.8346527146926035\n",
      "Коэффициент Каппа Коэна для теста 0.6396882805812127\n",
      "Коэффициент корреляции Мэтьюза для валидации 0.8350082576246659\n",
      "Коэффициент корреляции Мэтьюза для теста 0.6443525381406625\n",
      "AUC-PR для валидации 0.6980869726521094\n",
      "AUC-PR для теста 0.4157950823447119\n"
     ]
    }
   ],
   "source": [
    "adasyn = ADASYN(sampling_strategy=0.1)\n",
    "X_train_resampled, y_train_resampled = adasyn.fit_resample(X_train, y_train)\n",
    "clf = CatBoostClassifier(num_trees=270, depth = 11, verbose=False)\n",
    "clf.fit(X_train_resampled, y_train_resampled)\n",
    "y_pred_val = clf.predict(X_val)\n",
    "y_pred_test = clf.predict(X_test)\n",
    "print(\"Коэффициент Каппа Коэна для валидации\", cohen_kappa_score(y_val, y_pred_val))\n",
    "print(\"Коэффициент Каппа Коэна для теста\", cohen_kappa_score(y_test, y_pred_test))\n",
    "print(\"Коэффициент корреляции Мэтьюза для валидации\", matthews_corrcoef(y_val, y_pred_val))\n",
    "print(\"Коэффициент корреляции Мэтьюза для теста\", matthews_corrcoef(y_test, y_pred_test))\n",
    "print(\"AUC-PR для валидации\", auc_pr(y_val, y_pred_val))\n",
    "print(\"AUC-PR для теста\", auc_pr(y_test, y_pred_test))"
   ]
  },
  {
   "cell_type": "markdown",
   "metadata": {},
   "source": [
    "Лучшее качество из всех модификаций smote показал SVM-SMOTE"
   ]
  },
  {
   "cell_type": "markdown",
   "metadata": {
    "id": "xvVG5osbs9BU"
   },
   "source": [
    "**Задание 3. (1 балл)**. До этого момента все наши решения концентрировались на работе с минорным классом. Теперь давайте попробуем зайти с другой стороны. Может быть, для восстановления закономерностей нам не нужно столько объектов мажорного класса, и они просто засоряют нам выборку лишней информацией?\n",
    "\n",
    "Для решения этой проблемы существуют методы андерсэмплинга. Самое простое, что можно придумать - удалять точки мажорного класса, пока мы не получим приемлемый баланс. Протестируйте следующий метод и постройте графики достигаемых значений метрик от баланса классов и от отношения размеров исходной и пересэмпленной выборки:"
   ]
  },
  {
   "cell_type": "code",
   "execution_count": 30,
   "metadata": {
    "id": "GZQymG9Rs9BU"
   },
   "outputs": [],
   "source": [
    "from imblearn.under_sampling import RandomUnderSampler"
   ]
  },
  {
   "cell_type": "code",
   "execution_count": 42,
   "metadata": {},
   "outputs": [
    {
     "data": {
      "application/vnd.jupyter.widget-view+json": {
       "model_id": "fe266ef3d7454134b2798d32e5d2cb94",
       "version_major": 2,
       "version_minor": 0
      },
      "text/plain": [
       "  0%|          | 0/70 [00:00<?, ?it/s]"
      ]
     },
     "metadata": {},
     "output_type": "display_data"
    },
    {
     "name": "stdout",
     "output_type": "stream",
     "text": [
      "0.11304347826086958\n"
     ]
    }
   ],
   "source": [
    "best_strategy = 0\n",
    "best_value = 0\n",
    "values = []\n",
    "for sampling_strategy in tqdm(np.linspace(0.1, 1.0, 70)):\n",
    "    under_sampling = RandomUnderSampler(random_state=42, sampling_strategy=sampling_strategy)\n",
    "    X_train_resampled, y_train_resampled = under_sampling.fit_resample(X_train, y_train)\n",
    "    clf = CatBoostClassifier(num_trees=270, depth = 11, verbose=False)\n",
    "    clf.fit(X_train_resampled, y_train_resampled)\n",
    "    y_pred_val = clf.predict(X_val)\n",
    "    metric = auc_pr(y_val, y_pred_val)\n",
    "    if metric > best_value:\n",
    "        best_value = metric\n",
    "        best_strategy = sampling_strategy\n",
    "    values.append(metric)\n",
    "    \n",
    "print(best_strategy)"
   ]
  },
  {
   "cell_type": "code",
   "execution_count": 43,
   "metadata": {},
   "outputs": [
    {
     "name": "stdout",
     "output_type": "stream",
     "text": [
      "Коэффициент Каппа Коэна для валидации 0.42313523134888575\n",
      "Коэффициент Каппа Коэна для теста 0.21690954083035474\n",
      "Коэффициент корреляции Мэтьюза для валидации 0.4999022478978634\n",
      "Коэффициент корреляции Мэтьюза для теста 0.3120503555794489\n",
      "AUC-PR для валидации 0.25145705378161143\n",
      "AUC-PR для теста 0.09820812008405518\n"
     ]
    }
   ],
   "source": [
    "under_sampling = RandomUnderSampler(random_state=42, sampling_strategy = best_value)\n",
    "X_train_resampled, y_train_resampled = under_sampling.fit_resample(X_train, y_train)\n",
    "clf = CatBoostClassifier(num_trees=270, depth = 11, verbose=False)\n",
    "clf.fit(X_train_resampled, y_train_resampled)\n",
    "y_pred_val = clf.predict(X_val)\n",
    "y_pred_test = clf.predict(X_test)\n",
    "print(\"Коэффициент Каппа Коэна для валидации\", cohen_kappa_score(y_val, y_pred_val))\n",
    "print(\"Коэффициент Каппа Коэна для теста\", cohen_kappa_score(y_test, y_pred_test))\n",
    "print(\"Коэффициент корреляции Мэтьюза для валидации\", matthews_corrcoef(y_val, y_pred_val))\n",
    "print(\"Коэффициент корреляции Мэтьюза для теста\", matthews_corrcoef(y_test, y_pred_test))\n",
    "print(\"AUC-PR для валидации\", auc_pr(y_val, y_pred_val))\n",
    "print(\"AUC-PR для теста\", auc_pr(y_test, y_pred_test))"
   ]
  },
  {
   "cell_type": "code",
   "execution_count": 44,
   "metadata": {},
   "outputs": [
    {
     "data": {
      "image/png": "[encoded data removed]",
      "text/plain": [
       "<Figure size 640x480 with 1 Axes>"
      ]
     },
     "metadata": {},
     "output_type": "display_data"
    }
   ],
   "source": [
    "fig, ax = plt.subplots(1, 1)\n",
    "\n",
    "ax.plot(np.linspace(0.1, 1.0, 70), values)\n",
    "ax.set_xlabel('Значение sampling_strategy')\n",
    "ax.set_ylabel('AUC_PR score')\n",
    "ax.set_title('Зависимость AUC_PR от sampling_strategy')\n",
    "plt.show()"
   ]
  },
  {
   "cell_type": "markdown",
   "metadata": {
    "id": "w-onGH2ts9BU"
   },
   "source": [
    "Даже такой наивный подход может дать относительно неплохие результаты и улучшить наши метрики. Тем не менее, сейчас мы никак не используем информацию о распределении объектов в выборке. Оказывается, что даже относительно простые эвристические правила могут заметно поднять нам качество - например, мы можем при отбрасывании использовать близость отдельных объектов мажорного класса к минорному и отбрасывать самые близкие. Протестируйте алгоритм [Near-Miss](https://www.site.uottawa.ca/~nat/Workshop2003/jzhang.pdf) на наших данных и постройте графики, аналогичные предыдущему пункту (также добавьте график с зависимостью качества от числа соседей)."
   ]
  },
  {
   "cell_type": "code",
   "execution_count": 20,
   "metadata": {
    "id": "FXhxPmEUs9BU",
    "scrolled": false
   },
   "outputs": [
    {
     "data": {
      "application/vnd.jupyter.widget-view+json": {
       "model_id": "3f2ecd7a0a1947d085a0510e50dc1e3e",
       "version_major": 2,
       "version_minor": 0
      },
      "text/plain": [
       "  0%|          | 0/70 [00:00<?, ?it/s]"
      ]
     },
     "metadata": {},
     "output_type": "display_data"
    },
    {
     "name": "stdout",
     "output_type": "stream",
     "text": [
      "0.8565217391304348\n"
     ]
    }
   ],
   "source": [
    "from imblearn.under_sampling import NearMiss\n",
    "\n",
    "best_strategy_near_miss = 0\n",
    "best_value_near_miss = 0\n",
    "nearmiss_values = []\n",
    "for sampling_strategy in tqdm(np.linspace(0.1, 1.0, 70)):\n",
    "    nm = NearMiss(sampling_strategy=sampling_strategy)\n",
    "    X_train_resampled, y_train_resampled = nm.fit_resample(X_train, y_train)\n",
    "    clf = CatBoostClassifier(num_trees=270, depth = 11, verbose=False)\n",
    "    clf.fit(X_train_resampled, y_train_resampled)\n",
    "    y_pred_val = clf.predict(X_val)\n",
    "    metric = auc_pr(y_val, y_pred_val)\n",
    "    if metric > best_value_near_miss:\n",
    "        best_value_near_miss = metric\n",
    "        best_strategy_near_miss = sampling_strategy\n",
    "    nearmiss_values.append(metric)\n",
    "    \n",
    "print(best_strategy_near_miss)"
   ]
  },
  {
   "cell_type": "code",
   "execution_count": 21,
   "metadata": {},
   "outputs": [
    {
     "name": "stdout",
     "output_type": "stream",
     "text": [
      "Коэффициент Каппа Коэна для валидации 0.0630745573110163\n",
      "Коэффициент Каппа Коэна для теста 0.0239660672548484\n",
      "Коэффициент корреляции Мэтьюза для валидации 0.1697622622035421\n",
      "Коэффициент корреляции Мэтьюза для теста 0.09630046790335492\n",
      "AUC-PR для валидации 0.030812175833528674\n",
      "AUC-PR для теста 0.010172788233552606\n"
     ]
    }
   ],
   "source": [
    "near_miss = NearMiss(sampling_strategy = best_strategy_near_miss)\n",
    "X_train_resampled, y_train_resampled = near_miss.fit_resample(X_train, y_train)\n",
    "clf = CatBoostClassifier(num_trees=270, depth = 11, verbose=False)\n",
    "clf.fit(X_train_resampled, y_train_resampled)\n",
    "y_pred_val = clf.predict(X_val)\n",
    "y_pred_test = clf.predict(X_test)\n",
    "print(\"Коэффициент Каппа Коэна для валидации\", cohen_kappa_score(y_val, y_pred_val))\n",
    "print(\"Коэффициент Каппа Коэна для теста\", cohen_kappa_score(y_test, y_pred_test))\n",
    "print(\"Коэффициент корреляции Мэтьюза для валидации\", matthews_corrcoef(y_val, y_pred_val))\n",
    "print(\"Коэффициент корреляции Мэтьюза для теста\", matthews_corrcoef(y_test, y_pred_test))\n",
    "print(\"AUC-PR для валидации\", auc_pr(y_val, y_pred_val))\n",
    "print(\"AUC-PR для теста\", auc_pr(y_test, y_pred_test))"
   ]
  },
  {
   "cell_type": "code",
   "execution_count": 22,
   "metadata": {},
   "outputs": [
    {
     "data": {
      "image/png": "[encoded data removed]",
      "text/plain": [
       "<Figure size 640x480 with 1 Axes>"
      ]
     },
     "metadata": {},
     "output_type": "display_data"
    }
   ],
   "source": [
    "fig, ax = plt.subplots(1, 1)\n",
    "\n",
    "ax.plot(np.linspace(0.1, 1.0, 70), nearmiss_values)\n",
    "ax.set_xlabel('Значение sampling_strategy')\n",
    "ax.set_ylabel('AUC_PR score')\n",
    "ax.set_title('Зависимость AUC_PR от sampling_strategy')\n",
    "plt.show()"
   ]
  },
  {
   "cell_type": "markdown",
   "metadata": {},
   "source": [
    "получилось очень плохо(((("
   ]
  },
  {
   "cell_type": "markdown",
   "metadata": {
    "id": "9z_OwXkps9BV"
   },
   "source": [
    "**Бонус (1 балл)**. imblearn также предлагает много различных методов для андерсэмплинга. Выберите что-нибудь еще из предлагаемого на свой вкус, опишите идею метода и протестируйте его.\n"
   ]
  },
  {
   "cell_type": "markdown",
   "metadata": {},
   "source": [
    "Идея CondensedNearestNeighbour:\n",
    "1. Найти все примеры маленького класса в исходных данных и положить их в сет C\n",
    "2. Добавить выборку из целевого класса (класс, подлежащий занижению) в С и все другие выборки этого класса из выборки S\n",
    "3. Обучим 1NN на C\n",
    "4. Все данные из выборки S классифицируем с помощью 1NN\n",
    "5. Если объект был классифицирован неверно, добавляем его в C \n",
    "6. Повторяем пункты 3 - 5, пока не пройдем все объекты в S\n"
   ]
  },
  {
   "cell_type": "code",
   "execution_count": 47,
   "metadata": {
    "id": "RXrq_R_Ks9BV"
   },
   "outputs": [
    {
     "name": "stdout",
     "output_type": "stream",
     "text": [
      "Коэффициент Каппа Коэна для валидации 0.7193984407020895\n",
      "Коэффициент Каппа Коэна для теста 0.4149388049120407\n",
      "Коэффициент корреляции Мэтьюза для валидации 0.7278927912359656\n",
      "Коэффициент корреляции Мэтьюза для теста 0.4593673572667072\n",
      "AUC-PR для валидации 0.5309412762348951\n",
      "AUC-PR для теста 0.21178091469418062\n"
     ]
    }
   ],
   "source": [
    "from imblearn.under_sampling import CondensedNearestNeighbour\n",
    "\n",
    "cnn = CondensedNearestNeighbour(random_state=42)\n",
    "X_train_resampled, y_train_resampled = cnn.fit_resample(X_train, y_train)\n",
    "clf = CatBoostClassifier(num_trees=270, depth = 11, verbose=False)\n",
    "clf.fit(X_train_resampled, y_train_resampled)\n",
    "y_pred_val = clf.predict(X_val)\n",
    "y_pred_test = clf.predict(X_test)\n",
    "print(\"Коэффициент Каппа Коэна для валидации\", cohen_kappa_score(y_val, y_pred_val))\n",
    "print(\"Коэффициент Каппа Коэна для теста\", cohen_kappa_score(y_test, y_pred_test))\n",
    "print(\"Коэффициент корреляции Мэтьюза для валидации\", matthews_corrcoef(y_val, y_pred_val))\n",
    "print(\"Коэффициент корреляции Мэтьюза для теста\", matthews_corrcoef(y_test, y_pred_test))\n",
    "print(\"AUC-PR для валидации\", auc_pr(y_val, y_pred_val))\n",
    "print(\"AUC-PR для теста\", auc_pr(y_test, y_pred_test))\n"
   ]
  },
  {
   "cell_type": "markdown",
   "metadata": {},
   "source": [
    "Этот метод сработал гораздо лучше предыдущих"
   ]
  },
  {
   "cell_type": "markdown",
   "metadata": {},
   "source": [
    "**Бонус (2 балла)**. Сможете ли вы с помощью комбинации любых методов оверсэмплинга, андерсэмплинга и классификации набрать 0.8 на всех трех метриках?"
   ]
  },
  {
   "cell_type": "markdown",
   "metadata": {
    "id": "gBf-rrmcs9BV"
   },
   "source": [
    "# Часть 2. Поиск аномалий. "
   ]
  },
  {
   "cell_type": "markdown",
   "metadata": {
    "id": "3UBhTHszs9BV"
   },
   "source": [
    "Как вы могли заметить, методы балансировки выборок очень часто могут привести к не самым лучшим результатам из-за того, что они по сути искажают информацию о реальном распределении данных - в реальности обычно требуется долгий подбор в принципе работоспособных для задачи методов и их аккуратная настройка. "
   ]
  },
  {
   "cell_type": "markdown",
   "metadata": {
    "id": "HSYVXvmxs9BV"
   },
   "source": [
    "Теперь давайте попробуем слегка сменить постановку задачи и переключиться на задачу \"одноклассовой\" классификации, то есть - поиска *аномалий* в выборке. В общем-то, это вполне согласуется с нашей областью работы - мы действительно можем назвать мошеннические транзакции аномальньми (как интуитивно, так и на основании наблюдаемой балансировки данных). \n",
    "\n",
    "Стоит отметить, что методы обнаружения аномалий чаще всего относятся к классу методов обучения без учителя. Это дает некоторый положительный эффект - нам не обязательно нужно тратить время на разметку данных (тем не менее, для контроля качества какую-то часть разметить все-таки придется). Впрочем, чаще всего перфоманс таких методов оказывается заметно хуже, чем у честного обучения с учителем (если мы можем себе его позволить).\n",
    "\n"
   ]
  },
  {
   "cell_type": "markdown",
   "metadata": {
    "id": "mrRy0uOAs9BW"
   },
   "source": [
    "**Задание 4. (3 балла).** На занятиях вы разбирали схожий с Random Forest подход для детекции аномалий без известной разметки данных, называемый Isolation Forest. Напомним суть: на этапе обучения мы создаем ансамбль из решающих деревьев, в котором признак и порог на каждую вершину подбираются случайно. Затем мы считаем для объектов оценку аномальности через длину пути до соответствующего листа в каждом дереве.\n",
    "\n",
    "В данном задании вам предлагается реализовать модификацию данного алгоритма, известную как Extended Isolation Forest. В ней мы на каждом шаге будем определять не порог для признака, а полноценную случайную гиперплоскость, разбивающую выборку на 2 части. С детальным описанием вы можете ознакомиться [здесь](https://arxiv.org/pdf/1811.02141.pdf).\n",
    "\n",
    "Ниже приведен шаблон кода. Постарайтесь работать в его рамках (минорные изменения вполне допустимы, главное не переворачивайте всю структуру с ног на голову). \n",
    "\n",
    "**NB**: будем считать, что в нашем датасете нет категориальных признаков - можете не заморачиваться с их обработкой (но в общем случае, это будет важно).\n",
    "\n",
    "**Советы**:\n",
    " - Численные признаки лучше предобработать надлежащим образом.\n",
    " - Возможно, вам поможет выбрасывание некоторых признаков.\n",
    " - Внимательно следите за знаками.\n",
    " - Не игнорируйте документирующие строки.\n",
    " - Вероятнее всего, вы не сможете приблизиться по качеству к supervised-решениям. Если у вас не получается это сделать (но вы уверены в своей правоте), не стоит тратить слишком много времени на поиск ошибок.\n",
    "\n",
    "\n",
    "\n",
    "**Бонусы (каждый по 0.5)**:\n",
    "- Сделайте ваш EIF параллельным (`multiprocessing`, `joblib`).\n",
    "- Добавьте возможность откатиться к дефолтному варианту Isolation Forest. (порассуждайте, как можно реализовать это в данной модели?):\n"
   ]
  },
  {
   "cell_type": "code",
   "execution_count": 54,
   "metadata": {
    "id": "HsFj1XR2s9BW"
   },
   "outputs": [],
   "source": [
    "def H(n):\n",
    "    return np.log(n) + 0.5772156649\n",
    "\n",
    "def c_factor(n):\n",
    "    \"\"\"\n",
    "    Computes average path length for an unsuccessful search in a binary search tree.\n",
    "    Params:\n",
    "        n: int - number of data points for BST\n",
    "    \"\"\"\n",
    "    if n <= 1:\n",
    "        return 0\n",
    "    return 2 * H(n - 1) - (2 * (n - 1) / n)\n",
    "\n",
    "def calc_height(X, depth, node):\n",
    "    \"\"\"\n",
    "    Calculates anomaly scores for sample in a recursive manner.\n",
    "    Params:\n",
    "        X: np.array - current sample, available to node\n",
    "        \n",
    "        depth: int - path length up to current node\n",
    "        \n",
    "        node: Node - current tree node\n",
    "        \n",
    "    Returns:\n",
    "        scores: int, float or np.array - anomaly scores for sample\n",
    "    \"\"\"\n",
    "    scores = np.zeros(X.shape[0])\n",
    "\n",
    "    if node.kind == \"external\":\n",
    "        return np.full(X.shape[0], depth + c_factor(X.shape[0]))\n",
    "    \n",
    "    vals = X @ node.w + node.b\n",
    "    mask_left_idx =  vals < 0\n",
    "\n",
    "    left_scores = calc_height(X[mask_left_idx], depth + 1, node.left)\n",
    "    right_scores = calc_height(X[~mask_left_idx], depth + 1, node.right)\n",
    "\n",
    "    scores[mask_left_idx] = left_scores\n",
    "    scores[~mask_left_idx] = right_scores\n",
    "\n",
    "    return scores\n",
    "\n",
    "\n",
    "class Node(object):\n",
    "    \"\"\"\n",
    "    A single node object for each tree. Contains information on height, current data,\n",
    "    splitting hyperplane and children nodes.\n",
    "    \n",
    "    Attributes:\n",
    "        X: np.array - data available to current node\n",
    "        size: int - length of available data\n",
    "        \n",
    "        depth: int - depth of node\n",
    "\n",
    "        left: Node - left child\n",
    "        right: Node - right child\n",
    "\n",
    "        kind: str - either \"internal\" or \"external\", indicates the type of current node\n",
    "\n",
    "        w: np.array - normal vector for the splitting hyperplane\n",
    "        b: float - intercept term for the splitting hyperplane\n",
    "    \"\"\"\n",
    "    def __init__(self, X, depth, left, right, kind, w, b):\n",
    "        \"\"\"\n",
    "        Node(h, left, right, kind, w, b)\n",
    "        Represents the node object.\n",
    "        \n",
    "        Params:\n",
    "            X: np.array - data available to current node\n",
    "            depth: int - depth of node\n",
    "            \n",
    "            left: Node - left child\n",
    "            right: Node - right child\n",
    "            \n",
    "            kind: str - either \"internal\" or \"external\", indicates the type of current node\n",
    "            \n",
    "            w: np.array - normal vector for the splitting hyperplane\n",
    "            b: float - intercept term for the splitting hyperplane\n",
    "            \n",
    "        \"\"\"\n",
    "        self.size = len(X)\n",
    "        \n",
    "        self.depth = depth\n",
    "        \n",
    "        self.left = left\n",
    "        self.right = right\n",
    "        \n",
    "        self.kind = kind\n",
    "    \n",
    "        self.w = w\n",
    "        self.b = b\n",
    "    \n",
    "    def __repr__(self):\n",
    "        \"\"\"\n",
    "        For convenience only.\n",
    "        \"\"\"\n",
    "        return f\"Node(size={self.size}, depth={self.depth}, kind={self.kind})\"\n",
    "\n",
    "class RandomizedTree(object):\n",
    "    \"\"\"\n",
    "    Single randomized tree object. Stores root and its depth (tree is built recursively).\n",
    "    Attributes:\n",
    "        depth: int - current tree depth\n",
    "        \n",
    "        max_depth: int - maximum tree depth\n",
    "        \n",
    "        root: Node - root node \n",
    "\n",
    "        internal_count: int - number of internal nodes\n",
    "\n",
    "        external_count: int - number of external nodes\n",
    "        \n",
    "    \"\"\"\n",
    "    def __init__(self, X, max_depth):\n",
    "        \"\"\"\n",
    "        Single randomized tree object. Stores root and its depth (tree is built recursively).\n",
    "        Params:\n",
    "            X: np.array - train sample\n",
    "            max_depth: int - maximum tree depth\n",
    "\n",
    "        \"\"\"\n",
    "        self.depth = 0\n",
    "        self.max_depth = max_depth\n",
    "        \n",
    "        self.internal_count = 0\n",
    "        self.external_count = 0\n",
    "\n",
    "        self.root = self.grow(X, 0)\n",
    "        \n",
    "    def __repr__(self):\n",
    "        \"\"\"\n",
    "        For convenience only.\n",
    "        \"\"\"\n",
    "        \n",
    "        return f\"RandomizedTree(depth={self.depth}, max_depth={self.max_depth}, n_internal={self.internal_count}, n_external={self.external_count})\"\n",
    "\n",
    "        \n",
    "        \n",
    "    def grow(self, X, depth):\n",
    "        \"\"\"\n",
    "        Grow tree in a recursive manner.\n",
    "        Params:\n",
    "            X: np.array - available train sample\n",
    "            \n",
    "            depth: int - current tree depth\n",
    "            \n",
    "        Returns:\n",
    "            node: Node - a trained node with separating hyperplane data.\n",
    "                         Node provides access to children if necessary (these are built recursively)\n",
    "        \"\"\"\n",
    "        self.depth = max(self.depth, depth)\n",
    "        \n",
    "        if depth >= self.max_depth or X.shape[0] == 1:\n",
    "            self.external_count += 1\n",
    "            return Node(X, depth, None, None, \"external\", None, None)\n",
    "        \n",
    "\n",
    "        w = np.random.randn(X.shape[1])\n",
    "        b = np.random.normal()\n",
    "\n",
    "        vals = X @ w + b\n",
    "        mask_left_idx = vals < 0\n",
    "        left = self.grow(X[mask_left_idx], depth + 1)\n",
    "        right = self.grow(X[~mask_left_idx], depth + 1)\n",
    "        \n",
    "        self.internal_count += 1\n",
    "        return Node(X, depth, left, right, 'internal', w, b)\n",
    "\n",
    "    def score_samples(self, X):\n",
    "        \"\"\"\n",
    "        Calculate anomaly scores for given data. You may utilize outer function `calc_height`.\n",
    "        Params:\n",
    "            X: np.array - data to be evaluated\n",
    "            \n",
    "        Returns:\n",
    "            scores: np.array - estimated anomaly scores\n",
    "        \"\"\"\n",
    "\n",
    "        return calc_height(X, 0, self.root)\n",
    "        \n",
    "    \n",
    "class ExtendedIsolationForest(object):\n",
    "    \"\"\"\n",
    "    Extended Isolation Forest object. Stores training data and trained randomized trees.\n",
    "    Attributes:\n",
    "        n_trees: int - number of Randomized Trees\n",
    "        \n",
    "        max_depth: int - maximum depth of each tree\n",
    "        \n",
    "        subsample_rate: float - draw `subsample_rate * X.shape[0]` samples for each tree\n",
    "        \n",
    "        trees: list - container for trained trees \n",
    "        \n",
    "        contamination: float - estimated fraction of anomaly samples in data. Used for thresholding\n",
    "        \n",
    "    \"\"\"\n",
    "    \n",
    "    def __init__(self, n_trees, subsample_rate, max_depth=None, contamination=0.01):\n",
    "        \"\"\"\n",
    "        Extended Isolation Forest object. Stores training data and trained randomized trees.\n",
    "        Params:\n",
    "            n_trees: int - number of Randomized Trees\n",
    "\n",
    "            subsample_rate: float - draw `subsample_rate * X.shape[0]` samples for each tree\n",
    "\n",
    "            max_depth: int or None - maximum depth of each tree. Defaults to ceil(log_2(subsample_size)) if not provided\n",
    "\n",
    "            contamination: float - estimated fraction of anomaly samples in data. Used for thresholding\n",
    "\n",
    "        \"\"\"\n",
    "        self.n_trees = n_trees\n",
    "        self.max_depth = max_depth\n",
    "        self.subsample_rate = subsample_rate\n",
    "        self.trees = []\n",
    "        self.contamination = contamination\n",
    "        self.is_fit = False\n",
    "        \n",
    "    def __repr__(self):\n",
    "        \"\"\"For convenience only.\"\"\"\n",
    "        \n",
    "        return f\"ExtendedIsolationForest(n_trees={self.n_trees}, max_depth={self.max_depth}, subsample_rate={self.subsample_rate}, contamination={self.contamination}, is_fit={self.is_fit})\"\n",
    "        \n",
    "    def fit(self, X):\n",
    "        \"\"\"\n",
    "        Fit EIF to new data.\n",
    "        Params:\n",
    "            X: np.array - 2d array of samples\n",
    "        \"\"\"\n",
    "        self.subsample_size = int(self.subsample_rate * X.shape[0])\n",
    "        self.is_fit = True\n",
    "        for _ in range(self.n_trees):\n",
    "            if self.max_depth is not None:\n",
    "                max_depth = self.max_depth\n",
    "            else:\n",
    "                max_depth = np.ceil(np.log2(self.subsample_size))\n",
    "\n",
    "            indices = np.random.choice(np.arange(X.shape[0]), size=self.subsample_size)\n",
    "            X_sampled = np.unique(X[indices], axis=0)\n",
    "            self.trees.append(RandomizedTree(X_sampled, max_depth))\n",
    "        \n",
    "        \n",
    "        \n",
    "        return self\n",
    "    \n",
    "    def score_samples(self, X):\n",
    "        \"\"\"\n",
    "        Estimate (normalized) anomaly score for each given sample\n",
    "        Params:\n",
    "            X: np.array - new samples\n",
    "\n",
    "        Returns:\n",
    "            scores: np.array - anomaly scores (larger value means higher probability of a sample being an outlier)\n",
    "        \"\"\"\n",
    "        mean = np.zeros(X.shape[0])\n",
    "        for tree in self.trees:\n",
    "            mean += tree.score_samples(X)\n",
    "\n",
    "        mean /= self.n_trees\n",
    "        scores = 2 ** (-mean / c_factor(self.subsample_size))\n",
    "\n",
    "        return scores\n",
    "\n",
    "\n",
    "    \n",
    "    def predict(self, X):\n",
    "        \"\"\"\n",
    "        Predict if given samples are outliers.\n",
    "        Params:\n",
    "            X: np.array - new samples\n",
    "\n",
    "        Returns:\n",
    "            labels: np.array - anomaly labels (1 for outliers, 0 for inliers)\n",
    "        \"\"\"\n",
    "        scores = self.score_samples(X)\n",
    "        labels = (scores >= np.quantile(scores, 1 - self.contamination))\n",
    "\n",
    "        return scores, labels\n"
   ]
  },
  {
   "cell_type": "markdown",
   "metadata": {
    "id": "s9ikebErs9BX"
   },
   "source": [
    "**Задание 5. (1 балл).** Протестируйте вашу реализацию EIF и подберите оптимальные гиперпараметры (наш метод не использует разметку, поэтому можете попробовать делать это на обучающей выборке). Сравните ее с обычным IF из `sklearn` (желательно делать это на одних и тех же параметрах). Удалось ли сделать лучше?"
   ]
  },
  {
   "cell_type": "code",
   "execution_count": 55,
   "metadata": {},
   "outputs": [],
   "source": [
    "from sklearn.preprocessing import StandardScaler"
   ]
  },
  {
   "cell_type": "code",
   "execution_count": 56,
   "metadata": {
    "id": "7INFCxvKs9BX"
   },
   "outputs": [],
   "source": [
    "scaler = StandardScaler()\n",
    "X_train_scaled = scaler.fit_transform(X_train)\n",
    "X_test_scaled = scaler.transform(X_test)\n",
    "X_val_scaled = scaler.transform(X_val)"
   ]
  },
  {
   "cell_type": "code",
   "execution_count": 58,
   "metadata": {},
   "outputs": [
    {
     "name": "stderr",
     "output_type": "stream",
     "text": [
      "[I 2024-04-27 13:57:54,627] A new study created in memory with name: no-name-6554d43d-0391-4ac0-b495-e44b30f1f39f\n",
      "[I 2024-04-27 13:58:15,623] Trial 0 finished with value: 0.02509319129390149 and parameters: {'n_trees': 60, 'subsample_rate': 0.5659640002749721, 'max_depth': 7}. Best is trial 0 with value: 0.02509319129390149.\n",
      "[I 2024-04-27 13:58:33,084] Trial 1 finished with value: 0.03915132694732379 and parameters: {'n_trees': 40, 'subsample_rate': 0.8531116620758511, 'max_depth': 7}. Best is trial 1 with value: 0.03915132694732379.\n",
      "[I 2024-04-27 13:59:06,240] Trial 2 finished with value: 0.049175086194392065 and parameters: {'n_trees': 70, 'subsample_rate': 0.8109564550093563, 'max_depth': 10}. Best is trial 2 with value: 0.049175086194392065.\n",
      "[I 2024-04-27 13:59:48,730] Trial 3 finished with value: 0.06852948136453069 and parameters: {'n_trees': 100, 'subsample_rate': 0.8943740790054463, 'max_depth': 6}. Best is trial 3 with value: 0.06852948136453069.\n",
      "[I 2024-04-27 14:00:10,582] Trial 4 finished with value: 0.05278115225258397 and parameters: {'n_trees': 100, 'subsample_rate': 0.34009164378559686, 'max_depth': 10}. Best is trial 3 with value: 0.06852948136453069.\n",
      "[I 2024-04-27 14:00:14,844] Trial 5 finished with value: 0.010972873871662408 and parameters: {'n_trees': 10, 'subsample_rate': 0.927949255047809, 'max_depth': 5}. Best is trial 3 with value: 0.06852948136453069.\n",
      "[I 2024-04-27 14:00:26,414] Trial 6 finished with value: 0.06852948136453069 and parameters: {'n_trees': 80, 'subsample_rate': 0.30262201910619835, 'max_depth': 6}. Best is trial 3 with value: 0.06852948136453069.\n",
      "[I 2024-04-27 14:01:02,262] Trial 7 finished with value: 0.02509319129390149 and parameters: {'n_trees': 60, 'subsample_rate': 0.8948931636730261, 'max_depth': 12}. Best is trial 3 with value: 0.06852948136453069.\n",
      "[I 2024-04-27 14:01:23,277] Trial 8 finished with value: 0.03607488684080352 and parameters: {'n_trees': 50, 'subsample_rate': 0.7892543227158136, 'max_depth': 8}. Best is trial 3 with value: 0.06852948136453069.\n",
      "[I 2024-04-27 14:01:28,918] Trial 9 finished with value: 0.009485311620157028 and parameters: {'n_trees': 10, 'subsample_rate': 0.3815380205305442, 'max_depth': 14}. Best is trial 3 with value: 0.06852948136453069.\n",
      "[I 2024-04-27 14:01:31,920] Trial 10 finished with value: 0.0023514471731586758 and parameters: {'n_trees': 100, 'subsample_rate': 0.0714230700954811, 'max_depth': 2}. Best is trial 3 with value: 0.06852948136453069.\n",
      "[I 2024-04-27 14:01:37,239] Trial 11 finished with value: 0.009485311620157028 and parameters: {'n_trees': 80, 'subsample_rate': 0.1437637272913122, 'max_depth': 4}. Best is trial 3 with value: 0.06852948136453069.\n",
      "[I 2024-04-27 14:02:02,736] Trial 12 finished with value: 0.016229999553685995 and parameters: {'n_trees': 90, 'subsample_rate': 0.6146459259599208, 'max_depth': 5}. Best is trial 3 with value: 0.06852948136453069.\n",
      "[I 2024-04-27 14:02:12,884] Trial 13 finished with value: 0.03313085322220115 and parameters: {'n_trees': 80, 'subsample_rate': 0.30197965408398936, 'max_depth': 3}. Best is trial 3 with value: 0.06852948136453069.\n",
      "[I 2024-04-27 14:02:37,612] Trial 14 finished with value: 0.06039050383272151 and parameters: {'n_trees': 80, 'subsample_rate': 0.6370497904492902, 'max_depth': 6}. Best is trial 3 with value: 0.06852948136453069.\n",
      "[I 2024-04-27 14:02:52,361] Trial 15 finished with value: 0.04570142662411807 and parameters: {'n_trees': 100, 'subsample_rate': 0.23600403591531494, 'max_depth': 9}. Best is trial 3 with value: 0.06852948136453069.\n",
      "[I 2024-04-27 14:03:04,095] Trial 16 finished with value: 0.014345217838426893 and parameters: {'n_trees': 30, 'subsample_rate': 0.48940059378534323, 'max_depth': 12}. Best is trial 3 with value: 0.06852948136453069.\n",
      "[I 2024-04-27 14:03:22,335] Trial 17 finished with value: 0.020396782447957926 and parameters: {'n_trees': 90, 'subsample_rate': 0.45844987413938115, 'max_depth': 4}. Best is trial 3 with value: 0.06852948136453069.\n",
      "[I 2024-04-27 14:03:47,077] Trial 18 finished with value: 0.018247187756863008 and parameters: {'n_trees': 70, 'subsample_rate': 0.7092618158543099, 'max_depth': 6}. Best is trial 3 with value: 0.06852948136453069.\n",
      "[I 2024-04-27 14:03:57,290] Trial 19 finished with value: 0.05651962479869379 and parameters: {'n_trees': 90, 'subsample_rate': 0.18722176249830225, 'max_depth': 8}. Best is trial 3 with value: 0.06852948136453069.\n",
      "[I 2024-04-27 14:04:25,184] Trial 20 finished with value: 0.0018920459405881677 and parameters: {'n_trees': 70, 'subsample_rate': 0.9952337574236171, 'max_depth': 2}. Best is trial 3 with value: 0.06852948136453069.\n",
      "[I 2024-04-27 14:04:51,386] Trial 21 finished with value: 0.07279757986231213 and parameters: {'n_trees': 80, 'subsample_rate': 0.6747193736295047, 'max_depth': 6}. Best is trial 21 with value: 0.07279757986231213.\n",
      "[I 2024-04-27 14:05:23,620] Trial 22 finished with value: 0.016229999553685995 and parameters: {'n_trees': 90, 'subsample_rate': 0.745001542559126, 'max_depth': 6}. Best is trial 21 with value: 0.07279757986231213.\n",
      "[I 2024-04-27 14:05:24,819] Trial 23 finished with value: 0.049175086194392065 and parameters: {'n_trees': 80, 'subsample_rate': 0.007471783561597223, 'max_depth': 4}. Best is trial 21 with value: 0.07279757986231213.\n",
      "[I 2024-04-27 14:05:58,601] Trial 24 finished with value: 0.05651962479869379 and parameters: {'n_trees': 100, 'subsample_rate': 0.6763521801292908, 'max_depth': 7}. Best is trial 21 with value: 0.07279757986231213.\n"
     ]
    },
    {
     "data": {
      "text/plain": [
       "{'n_trees': 80, 'subsample_rate': 0.6747193736295047, 'max_depth': 6}"
      ]
     },
     "execution_count": 58,
     "metadata": {},
     "output_type": "execute_result"
    }
   ],
   "source": [
    "def objective_eif(trial):\n",
    "    n_trees = trial.suggest_int(\"n_trees\", 10, 100, step=10)\n",
    "    subsample_rate = trial.suggest_float(\"subsample_rate\", 0.0, 1.0)\n",
    "    max_depth = trial.suggest_int(\"max_depth\", 2, 15)\n",
    "    \n",
    "    eif = ExtendedIsolationForest(n_trees=n_trees, subsample_rate=subsample_rate, max_depth=max_depth)\n",
    "    eif.fit(X_train_scaled)\n",
    "    _, y_pred = eif.predict(X_val_scaled)\n",
    "    return auc_pr(y_val, y_pred)\n",
    "study_eif = optuna.create_study(direction=\"maximize\")   \n",
    "study_eif.optimize(objective_eif, n_trials=25)\n",
    "study_eif.best_params"
   ]
  },
  {
   "cell_type": "code",
   "execution_count": 59,
   "metadata": {},
   "outputs": [
    {
     "name": "stdout",
     "output_type": "stream",
     "text": [
      "Коэффициент Каппа Коэна для валидации 0.15118231185188047\n",
      "Коэффициент Каппа Коэна для теста 0.08989996365875808\n",
      "Коэффициент корреляции Мэтьюза для валидации 0.20847340248307758\n",
      "Коэффициент корреляции Мэтьюза для теста 0.1749695547582677\n",
      "AUC-PR для валидации 0.04570142662411807\n",
      "AUC-PR для теста 0.03154085711580181\n"
     ]
    }
   ],
   "source": [
    "model = ExtendedIsolationForest(n_trees = study_eif.best_params['n_trees'],\\\n",
    "                                subsample_rate = study_eif.best_params['subsample_rate'],\\\n",
    "                                max_depth = study_eif.best_params['max_depth'] ,contamination = 0.01)\n",
    "model.fit(X_train_scaled)\n",
    "\n",
    "scores_val, y_pred_val = model.predict(X_val_scaled)\n",
    "scores_test, y_pred_test = model.predict(X_test_scaled)\n",
    "\n",
    "print(\"Коэффициент Каппа Коэна для валидации\", cohen_kappa_score(y_val, y_pred_val))\n",
    "print(\"Коэффициент Каппа Коэна для теста\", cohen_kappa_score(y_test, y_pred_test))\n",
    "print(\"Коэффициент корреляции Мэтьюза для валидации\", matthews_corrcoef(y_val, y_pred_val))\n",
    "print(\"Коэффициент корреляции Мэтьюза для теста\", matthews_corrcoef(y_test, y_pred_test))\n",
    "print(\"AUC-PR для валидации\", auc_pr(y_val, y_pred_val))\n",
    "print(\"AUC-PR для теста\", auc_pr(y_test, y_pred_test))"
   ]
  },
  {
   "cell_type": "code",
   "execution_count": 65,
   "metadata": {},
   "outputs": [
    {
     "name": "stdout",
     "output_type": "stream",
     "text": [
      "Коэффициент Каппа Коэна для валидации 0.1832947292863547\n",
      "Коэффициент Каппа Коэна для теста 0.07600735180272056\n",
      "Коэффициент корреляции Мэтьюза для валидации 0.27077163110997554\n",
      "Коэффициент корреляции Мэтьюза для теста 0.15985580459498158\n",
      "AUC-PR для валидации 0.07543190986656342\n",
      "AUC-PR для теста 0.026484097569878184\n"
     ]
    }
   ],
   "source": [
    "from sklearn.ensemble import IsolationForest\n",
    "\n",
    "sklearn_if = IsolationForest(n_estimators=study_eif.best_params['n_trees'], max_samples=study_eif.best_params['subsample_rate'],\\\n",
    "                               contamination=0.01, random_state=42)\n",
    "sklearn_if.fit(X_train_scaled, y_train)\n",
    "\n",
    "y_pred_val = (sklearn_if.predict(X_val_scaled) == -1)\n",
    "y_pred_test = (sklearn_if.predict(X_test_scaled) == -1)\n",
    "\n",
    "print(\"Коэффициент Каппа Коэна для валидации\", cohen_kappa_score(y_val, y_pred_val))\n",
    "print(\"Коэффициент Каппа Коэна для теста\", cohen_kappa_score(y_test, y_pred_test))\n",
    "print(\"Коэффициент корреляции Мэтьюза для валидации\", matthews_corrcoef(y_val, y_pred_val))\n",
    "print(\"Коэффициент корреляции Мэтьюза для теста\", matthews_corrcoef(y_test, y_pred_test))\n",
    "print(\"AUC-PR для валидации\", auc_pr(y_val, y_pred_val))\n",
    "print(\"AUC-PR для теста\", auc_pr(y_test, y_pred_test))"
   ]
  },
  {
   "cell_type": "markdown",
   "metadata": {},
   "source": [
    "Результаты получились очень похожими, но улучшить метрики не получилось"
   ]
  },
  {
   "cell_type": "markdown",
   "metadata": {
    "id": "G00BCRJj4Sz3"
   },
   "source": [
    "Возможно, ваш алгоритм выдал большие оценки объектам с негативной разметкой. Постарайтесь выбрать несколько таких объектов и доступно объяснить (= с кодом и графиками), почему так вышло:"
   ]
  },
  {
   "cell_type": "code",
   "execution_count": 102,
   "metadata": {},
   "outputs": [
    {
     "data": {
      "text/html": [
       "<div>\n",
       "<style scoped>\n",
       "    .dataframe tbody tr th:only-of-type {\n",
       "        vertical-align: middle;\n",
       "    }\n",
       "\n",
       "    .dataframe tbody tr th {\n",
       "        vertical-align: top;\n",
       "    }\n",
       "\n",
       "    .dataframe thead th {\n",
       "        text-align: right;\n",
       "    }\n",
       "</style>\n",
       "<table border=\"1\" class=\"dataframe\">\n",
       "  <thead>\n",
       "    <tr style=\"text-align: right;\">\n",
       "      <th></th>\n",
       "      <th>Time</th>\n",
       "      <th>V1</th>\n",
       "      <th>V2</th>\n",
       "      <th>V3</th>\n",
       "      <th>V4</th>\n",
       "      <th>V5</th>\n",
       "      <th>V6</th>\n",
       "      <th>V7</th>\n",
       "      <th>V8</th>\n",
       "      <th>V9</th>\n",
       "      <th>V10</th>\n",
       "      <th>V11</th>\n",
       "      <th>V12</th>\n",
       "      <th>V13</th>\n",
       "      <th>V14</th>\n",
       "      <th>V15</th>\n",
       "      <th>V16</th>\n",
       "      <th>V17</th>\n",
       "      <th>V18</th>\n",
       "      <th>V19</th>\n",
       "      <th>V20</th>\n",
       "      <th>V21</th>\n",
       "      <th>V22</th>\n",
       "      <th>V23</th>\n",
       "      <th>V24</th>\n",
       "      <th>V25</th>\n",
       "      <th>V26</th>\n",
       "      <th>V27</th>\n",
       "      <th>V28</th>\n",
       "      <th>Amount</th>\n",
       "      <th>Class</th>\n",
       "      <th>Hour</th>\n",
       "      <th>Day</th>\n",
       "    </tr>\n",
       "  </thead>\n",
       "  <tbody>\n",
       "    <tr>\n",
       "      <th>268364</th>\n",
       "      <td>163174.0</td>\n",
       "      <td>-11.406053</td>\n",
       "      <td>-15.161015</td>\n",
       "      <td>-2.171858</td>\n",
       "      <td>3.100981</td>\n",
       "      <td>8.671023</td>\n",
       "      <td>-5.834923</td>\n",
       "      <td>-4.104816</td>\n",
       "      <td>1.026568</td>\n",
       "      <td>-1.884571</td>\n",
       "      <td>0.035929</td>\n",
       "      <td>-0.908545</td>\n",
       "      <td>-0.059401</td>\n",
       "      <td>-0.366514</td>\n",
       "      <td>2.147868</td>\n",
       "      <td>1.557445</td>\n",
       "      <td>-3.356302</td>\n",
       "      <td>1.924122</td>\n",
       "      <td>0.261161</td>\n",
       "      <td>-0.953686</td>\n",
       "      <td>4.589868</td>\n",
       "      <td>1.567968</td>\n",
       "      <td>-0.779841</td>\n",
       "      <td>0.634224</td>\n",
       "      <td>-0.998243</td>\n",
       "      <td>0.993940</td>\n",
       "      <td>1.273555</td>\n",
       "      <td>-0.087849</td>\n",
       "      <td>-2.150797</td>\n",
       "      <td>563.59</td>\n",
       "      <td>0</td>\n",
       "      <td>21.0</td>\n",
       "      <td>1.0</td>\n",
       "    </tr>\n",
       "    <tr>\n",
       "      <th>284249</th>\n",
       "      <td>172273.0</td>\n",
       "      <td>-9.030538</td>\n",
       "      <td>-11.112584</td>\n",
       "      <td>-16.233798</td>\n",
       "      <td>3.592021</td>\n",
       "      <td>-40.427726</td>\n",
       "      <td>23.917837</td>\n",
       "      <td>44.054461</td>\n",
       "      <td>-7.277778</td>\n",
       "      <td>-4.210637</td>\n",
       "      <td>-7.776435</td>\n",
       "      <td>0.214173</td>\n",
       "      <td>-4.499851</td>\n",
       "      <td>0.241005</td>\n",
       "      <td>0.537895</td>\n",
       "      <td>2.901938</td>\n",
       "      <td>2.326099</td>\n",
       "      <td>-0.402142</td>\n",
       "      <td>1.257379</td>\n",
       "      <td>2.008145</td>\n",
       "      <td>2.454553</td>\n",
       "      <td>-0.269048</td>\n",
       "      <td>0.988144</td>\n",
       "      <td>7.040028</td>\n",
       "      <td>0.347693</td>\n",
       "      <td>2.520869</td>\n",
       "      <td>2.342495</td>\n",
       "      <td>3.478175</td>\n",
       "      <td>-2.713136</td>\n",
       "      <td>10199.44</td>\n",
       "      <td>0</td>\n",
       "      <td>23.0</td>\n",
       "      <td>1.0</td>\n",
       "    </tr>\n",
       "    <tr>\n",
       "      <th>265400</th>\n",
       "      <td>161870.0</td>\n",
       "      <td>-1.360265</td>\n",
       "      <td>0.591017</td>\n",
       "      <td>0.736333</td>\n",
       "      <td>3.669747</td>\n",
       "      <td>7.476492</td>\n",
       "      <td>-1.754978</td>\n",
       "      <td>-6.245428</td>\n",
       "      <td>-0.857016</td>\n",
       "      <td>-1.218540</td>\n",
       "      <td>1.015745</td>\n",
       "      <td>1.407222</td>\n",
       "      <td>0.459651</td>\n",
       "      <td>-0.926403</td>\n",
       "      <td>-1.658686</td>\n",
       "      <td>-0.108729</td>\n",
       "      <td>0.860097</td>\n",
       "      <td>2.398616</td>\n",
       "      <td>-0.675158</td>\n",
       "      <td>-2.249268</td>\n",
       "      <td>-0.893612</td>\n",
       "      <td>1.138853</td>\n",
       "      <td>-3.196808</td>\n",
       "      <td>-9.897976</td>\n",
       "      <td>-1.456335</td>\n",
       "      <td>-0.962997</td>\n",
       "      <td>-0.120436</td>\n",
       "      <td>0.622279</td>\n",
       "      <td>0.478855</td>\n",
       "      <td>15.16</td>\n",
       "      <td>0</td>\n",
       "      <td>20.0</td>\n",
       "      <td>1.0</td>\n",
       "    </tr>\n",
       "    <tr>\n",
       "      <th>264356</th>\n",
       "      <td>161387.0</td>\n",
       "      <td>-7.019052</td>\n",
       "      <td>4.269540</td>\n",
       "      <td>1.563942</td>\n",
       "      <td>-1.571722</td>\n",
       "      <td>-1.028064</td>\n",
       "      <td>1.845536</td>\n",
       "      <td>0.740147</td>\n",
       "      <td>-2.257753</td>\n",
       "      <td>7.404126</td>\n",
       "      <td>12.153414</td>\n",
       "      <td>1.158606</td>\n",
       "      <td>0.422951</td>\n",
       "      <td>0.864540</td>\n",
       "      <td>-6.017857</td>\n",
       "      <td>-1.265434</td>\n",
       "      <td>-3.548272</td>\n",
       "      <td>-1.168983</td>\n",
       "      <td>1.410607</td>\n",
       "      <td>-0.287696</td>\n",
       "      <td>4.089605</td>\n",
       "      <td>-1.105360</td>\n",
       "      <td>-0.146616</td>\n",
       "      <td>-0.474601</td>\n",
       "      <td>-0.564067</td>\n",
       "      <td>1.798423</td>\n",
       "      <td>-0.365865</td>\n",
       "      <td>1.282535</td>\n",
       "      <td>-0.546384</td>\n",
       "      <td>20.00</td>\n",
       "      <td>0</td>\n",
       "      <td>20.0</td>\n",
       "      <td>1.0</td>\n",
       "    </tr>\n",
       "    <tr>\n",
       "      <th>280205</th>\n",
       "      <td>169384.0</td>\n",
       "      <td>-14.507512</td>\n",
       "      <td>-18.324137</td>\n",
       "      <td>-0.991375</td>\n",
       "      <td>4.252741</td>\n",
       "      <td>13.028001</td>\n",
       "      <td>-10.580776</td>\n",
       "      <td>-7.822209</td>\n",
       "      <td>1.234624</td>\n",
       "      <td>0.261412</td>\n",
       "      <td>-1.283913</td>\n",
       "      <td>-0.766411</td>\n",
       "      <td>1.412741</td>\n",
       "      <td>1.250059</td>\n",
       "      <td>0.463597</td>\n",
       "      <td>1.044119</td>\n",
       "      <td>0.527365</td>\n",
       "      <td>0.691475</td>\n",
       "      <td>1.125641</td>\n",
       "      <td>-1.269996</td>\n",
       "      <td>5.453226</td>\n",
       "      <td>1.970716</td>\n",
       "      <td>-1.148050</td>\n",
       "      <td>-0.556900</td>\n",
       "      <td>0.153433</td>\n",
       "      <td>0.987871</td>\n",
       "      <td>-0.260791</td>\n",
       "      <td>0.185033</td>\n",
       "      <td>-2.887229</td>\n",
       "      <td>104.25</td>\n",
       "      <td>0</td>\n",
       "      <td>23.0</td>\n",
       "      <td>1.0</td>\n",
       "    </tr>\n",
       "    <tr>\n",
       "      <th>264509</th>\n",
       "      <td>161465.0</td>\n",
       "      <td>-10.362593</td>\n",
       "      <td>-9.235096</td>\n",
       "      <td>-2.074512</td>\n",
       "      <td>5.243058</td>\n",
       "      <td>1.004688</td>\n",
       "      <td>1.613001</td>\n",
       "      <td>1.850280</td>\n",
       "      <td>0.448277</td>\n",
       "      <td>-0.712417</td>\n",
       "      <td>0.801080</td>\n",
       "      <td>0.369792</td>\n",
       "      <td>-0.213287</td>\n",
       "      <td>0.058863</td>\n",
       "      <td>0.232016</td>\n",
       "      <td>0.680755</td>\n",
       "      <td>2.253566</td>\n",
       "      <td>-0.995285</td>\n",
       "      <td>-0.224307</td>\n",
       "      <td>-1.840301</td>\n",
       "      <td>-4.106449</td>\n",
       "      <td>-1.032585</td>\n",
       "      <td>1.443410</td>\n",
       "      <td>4.042665</td>\n",
       "      <td>-1.552727</td>\n",
       "      <td>0.755319</td>\n",
       "      <td>0.254726</td>\n",
       "      <td>0.139469</td>\n",
       "      <td>1.791346</td>\n",
       "      <td>752.20</td>\n",
       "      <td>0</td>\n",
       "      <td>20.0</td>\n",
       "      <td>1.0</td>\n",
       "    </tr>\n",
       "    <tr>\n",
       "      <th>269532</th>\n",
       "      <td>163677.0</td>\n",
       "      <td>-7.025000</td>\n",
       "      <td>6.482562</td>\n",
       "      <td>-2.986522</td>\n",
       "      <td>-1.239608</td>\n",
       "      <td>-0.629018</td>\n",
       "      <td>2.484863</td>\n",
       "      <td>-4.713088</td>\n",
       "      <td>-15.487784</td>\n",
       "      <td>2.402216</td>\n",
       "      <td>2.842180</td>\n",
       "      <td>-0.581929</td>\n",
       "      <td>1.464823</td>\n",
       "      <td>0.148315</td>\n",
       "      <td>-0.956363</td>\n",
       "      <td>-0.143520</td>\n",
       "      <td>0.039083</td>\n",
       "      <td>1.865077</td>\n",
       "      <td>-0.111400</td>\n",
       "      <td>-0.245879</td>\n",
       "      <td>-2.293179</td>\n",
       "      <td>14.718388</td>\n",
       "      <td>-6.152177</td>\n",
       "      <td>2.458753</td>\n",
       "      <td>0.201598</td>\n",
       "      <td>0.557728</td>\n",
       "      <td>0.371794</td>\n",
       "      <td>1.242422</td>\n",
       "      <td>0.453724</td>\n",
       "      <td>8.99</td>\n",
       "      <td>0</td>\n",
       "      <td>21.0</td>\n",
       "      <td>1.0</td>\n",
       "    </tr>\n",
       "    <tr>\n",
       "      <th>282503</th>\n",
       "      <td>170943.0</td>\n",
       "      <td>-11.025028</td>\n",
       "      <td>-12.369532</td>\n",
       "      <td>-1.716078</td>\n",
       "      <td>2.506561</td>\n",
       "      <td>9.021776</td>\n",
       "      <td>-5.882446</td>\n",
       "      <td>-5.559536</td>\n",
       "      <td>-0.288564</td>\n",
       "      <td>0.213490</td>\n",
       "      <td>-0.063428</td>\n",
       "      <td>-0.200818</td>\n",
       "      <td>0.499905</td>\n",
       "      <td>-0.721622</td>\n",
       "      <td>1.847857</td>\n",
       "      <td>2.258174</td>\n",
       "      <td>-0.701520</td>\n",
       "      <td>1.280618</td>\n",
       "      <td>-2.090390</td>\n",
       "      <td>-0.304674</td>\n",
       "      <td>-0.953131</td>\n",
       "      <td>0.667626</td>\n",
       "      <td>-1.215515</td>\n",
       "      <td>-4.854515</td>\n",
       "      <td>-0.418007</td>\n",
       "      <td>-0.303512</td>\n",
       "      <td>1.624997</td>\n",
       "      <td>2.218141</td>\n",
       "      <td>-3.598140</td>\n",
       "      <td>39.99</td>\n",
       "      <td>0</td>\n",
       "      <td>23.0</td>\n",
       "      <td>1.0</td>\n",
       "    </tr>\n",
       "    <tr>\n",
       "      <th>258362</th>\n",
       "      <td>158616.0</td>\n",
       "      <td>-9.326717</td>\n",
       "      <td>-11.283392</td>\n",
       "      <td>1.401007</td>\n",
       "      <td>-0.023112</td>\n",
       "      <td>6.529104</td>\n",
       "      <td>-4.894877</td>\n",
       "      <td>-3.291586</td>\n",
       "      <td>0.380540</td>\n",
       "      <td>-0.209074</td>\n",
       "      <td>0.345245</td>\n",
       "      <td>0.444650</td>\n",
       "      <td>-0.291726</td>\n",
       "      <td>0.252064</td>\n",
       "      <td>-0.589125</td>\n",
       "      <td>-0.364519</td>\n",
       "      <td>2.403896</td>\n",
       "      <td>-1.023128</td>\n",
       "      <td>-0.002882</td>\n",
       "      <td>0.265840</td>\n",
       "      <td>-0.822877</td>\n",
       "      <td>-0.038125</td>\n",
       "      <td>1.559860</td>\n",
       "      <td>6.667102</td>\n",
       "      <td>-0.448968</td>\n",
       "      <td>2.609676</td>\n",
       "      <td>0.165168</td>\n",
       "      <td>0.686945</td>\n",
       "      <td>-0.291362</td>\n",
       "      <td>10.00</td>\n",
       "      <td>0</td>\n",
       "      <td>20.0</td>\n",
       "      <td>1.0</td>\n",
       "    </tr>\n",
       "    <tr>\n",
       "      <th>274771</th>\n",
       "      <td>166198.0</td>\n",
       "      <td>-35.548539</td>\n",
       "      <td>-31.850484</td>\n",
       "      <td>-48.325589</td>\n",
       "      <td>15.304184</td>\n",
       "      <td>-113.743307</td>\n",
       "      <td>73.301626</td>\n",
       "      <td>120.589494</td>\n",
       "      <td>-27.347360</td>\n",
       "      <td>-3.872425</td>\n",
       "      <td>-12.005487</td>\n",
       "      <td>6.853897</td>\n",
       "      <td>-9.189418</td>\n",
       "      <td>7.126883</td>\n",
       "      <td>-6.795942</td>\n",
       "      <td>8.877742</td>\n",
       "      <td>17.315112</td>\n",
       "      <td>-7.173805</td>\n",
       "      <td>-1.968044</td>\n",
       "      <td>5.501747</td>\n",
       "      <td>-54.497720</td>\n",
       "      <td>-21.620120</td>\n",
       "      <td>5.712303</td>\n",
       "      <td>-1.581098</td>\n",
       "      <td>4.584549</td>\n",
       "      <td>4.554683</td>\n",
       "      <td>3.415636</td>\n",
       "      <td>31.612198</td>\n",
       "      <td>-15.430084</td>\n",
       "      <td>25691.16</td>\n",
       "      <td>0</td>\n",
       "      <td>22.0</td>\n",
       "      <td>1.0</td>\n",
       "    </tr>\n",
       "    <tr>\n",
       "      <th>263658</th>\n",
       "      <td>161057.0</td>\n",
       "      <td>-15.207586</td>\n",
       "      <td>-20.984898</td>\n",
       "      <td>2.232215</td>\n",
       "      <td>4.724288</td>\n",
       "      <td>20.277728</td>\n",
       "      <td>-14.425011</td>\n",
       "      <td>-13.154608</td>\n",
       "      <td>1.427081</td>\n",
       "      <td>1.318193</td>\n",
       "      <td>1.193774</td>\n",
       "      <td>-1.137219</td>\n",
       "      <td>1.290190</td>\n",
       "      <td>0.210044</td>\n",
       "      <td>0.956958</td>\n",
       "      <td>0.616365</td>\n",
       "      <td>-0.691259</td>\n",
       "      <td>-0.014592</td>\n",
       "      <td>-0.063760</td>\n",
       "      <td>0.328665</td>\n",
       "      <td>5.487377</td>\n",
       "      <td>1.382095</td>\n",
       "      <td>-2.119395</td>\n",
       "      <td>3.696036</td>\n",
       "      <td>-0.110174</td>\n",
       "      <td>1.393085</td>\n",
       "      <td>0.299794</td>\n",
       "      <td>-0.968814</td>\n",
       "      <td>0.238503</td>\n",
       "      <td>1.98</td>\n",
       "      <td>0</td>\n",
       "      <td>20.0</td>\n",
       "      <td>1.0</td>\n",
       "    </tr>\n",
       "    <tr>\n",
       "      <th>265657</th>\n",
       "      <td>161985.0</td>\n",
       "      <td>-24.717179</td>\n",
       "      <td>-29.700604</td>\n",
       "      <td>-2.017586</td>\n",
       "      <td>7.015138</td>\n",
       "      <td>15.700555</td>\n",
       "      <td>-10.819584</td>\n",
       "      <td>-3.586669</td>\n",
       "      <td>-1.336900</td>\n",
       "      <td>3.279434</td>\n",
       "      <td>1.437047</td>\n",
       "      <td>-0.626104</td>\n",
       "      <td>-0.005154</td>\n",
       "      <td>1.211044</td>\n",
       "      <td>-1.657643</td>\n",
       "      <td>1.605334</td>\n",
       "      <td>1.356467</td>\n",
       "      <td>-1.484121</td>\n",
       "      <td>-0.056169</td>\n",
       "      <td>3.477968</td>\n",
       "      <td>-11.753658</td>\n",
       "      <td>-4.410023</td>\n",
       "      <td>3.820005</td>\n",
       "      <td>22.083545</td>\n",
       "      <td>-0.098109</td>\n",
       "      <td>6.070850</td>\n",
       "      <td>1.461475</td>\n",
       "      <td>6.578849</td>\n",
       "      <td>-4.398798</td>\n",
       "      <td>35.95</td>\n",
       "      <td>0</td>\n",
       "      <td>20.0</td>\n",
       "      <td>1.0</td>\n",
       "    </tr>\n",
       "    <tr>\n",
       "      <th>257924</th>\n",
       "      <td>158412.0</td>\n",
       "      <td>-10.841476</td>\n",
       "      <td>-13.357772</td>\n",
       "      <td>0.781386</td>\n",
       "      <td>7.636304</td>\n",
       "      <td>8.243797</td>\n",
       "      <td>-3.193150</td>\n",
       "      <td>-2.263034</td>\n",
       "      <td>0.125763</td>\n",
       "      <td>-0.541144</td>\n",
       "      <td>2.729971</td>\n",
       "      <td>0.361039</td>\n",
       "      <td>-0.731400</td>\n",
       "      <td>0.147582</td>\n",
       "      <td>-0.384274</td>\n",
       "      <td>1.575180</td>\n",
       "      <td>1.130990</td>\n",
       "      <td>-1.079506</td>\n",
       "      <td>1.378373</td>\n",
       "      <td>2.575810</td>\n",
       "      <td>-1.561260</td>\n",
       "      <td>-1.028149</td>\n",
       "      <td>1.053976</td>\n",
       "      <td>11.417157</td>\n",
       "      <td>-0.162332</td>\n",
       "      <td>1.459861</td>\n",
       "      <td>0.401226</td>\n",
       "      <td>1.552543</td>\n",
       "      <td>-1.552210</td>\n",
       "      <td>113.46</td>\n",
       "      <td>0</td>\n",
       "      <td>20.0</td>\n",
       "      <td>1.0</td>\n",
       "    </tr>\n",
       "    <tr>\n",
       "      <th>266105</th>\n",
       "      <td>162190.0</td>\n",
       "      <td>-13.603553</td>\n",
       "      <td>-19.337125</td>\n",
       "      <td>-0.483215</td>\n",
       "      <td>9.074932</td>\n",
       "      <td>3.980815</td>\n",
       "      <td>-1.381985</td>\n",
       "      <td>0.094838</td>\n",
       "      <td>0.948402</td>\n",
       "      <td>-1.555340</td>\n",
       "      <td>0.071043</td>\n",
       "      <td>-0.318240</td>\n",
       "      <td>-0.607916</td>\n",
       "      <td>0.268347</td>\n",
       "      <td>0.765498</td>\n",
       "      <td>1.516408</td>\n",
       "      <td>1.247797</td>\n",
       "      <td>-0.502231</td>\n",
       "      <td>3.175909</td>\n",
       "      <td>0.804698</td>\n",
       "      <td>9.476444</td>\n",
       "      <td>2.870794</td>\n",
       "      <td>-0.272079</td>\n",
       "      <td>8.462485</td>\n",
       "      <td>-0.207108</td>\n",
       "      <td>1.615177</td>\n",
       "      <td>0.444293</td>\n",
       "      <td>-1.253111</td>\n",
       "      <td>0.549336</td>\n",
       "      <td>2723.04</td>\n",
       "      <td>0</td>\n",
       "      <td>21.0</td>\n",
       "      <td>1.0</td>\n",
       "    </tr>\n",
       "    <tr>\n",
       "      <th>279610</th>\n",
       "      <td>168987.0</td>\n",
       "      <td>-25.672101</td>\n",
       "      <td>-30.913347</td>\n",
       "      <td>-2.943712</td>\n",
       "      <td>5.330375</td>\n",
       "      <td>11.886791</td>\n",
       "      <td>-8.036176</td>\n",
       "      <td>-1.273707</td>\n",
       "      <td>-1.444300</td>\n",
       "      <td>2.047691</td>\n",
       "      <td>1.271063</td>\n",
       "      <td>-0.630691</td>\n",
       "      <td>-0.755941</td>\n",
       "      <td>1.965513</td>\n",
       "      <td>-2.259398</td>\n",
       "      <td>1.194688</td>\n",
       "      <td>3.806672</td>\n",
       "      <td>-1.539355</td>\n",
       "      <td>-1.588081</td>\n",
       "      <td>2.841875</td>\n",
       "      <td>-11.312828</td>\n",
       "      <td>-4.777701</td>\n",
       "      <td>2.097348</td>\n",
       "      <td>20.803344</td>\n",
       "      <td>0.290511</td>\n",
       "      <td>5.826159</td>\n",
       "      <td>0.578662</td>\n",
       "      <td>6.987314</td>\n",
       "      <td>-3.666456</td>\n",
       "      <td>998.19</td>\n",
       "      <td>0</td>\n",
       "      <td>22.0</td>\n",
       "      <td>1.0</td>\n",
       "    </tr>\n",
       "    <tr>\n",
       "      <th>262378</th>\n",
       "      <td>160444.0</td>\n",
       "      <td>-28.623353</td>\n",
       "      <td>-19.262983</td>\n",
       "      <td>-13.042666</td>\n",
       "      <td>11.027770</td>\n",
       "      <td>-14.710239</td>\n",
       "      <td>9.042659</td>\n",
       "      <td>12.143391</td>\n",
       "      <td>-2.818318</td>\n",
       "      <td>5.376427</td>\n",
       "      <td>6.556983</td>\n",
       "      <td>0.838451</td>\n",
       "      <td>0.162703</td>\n",
       "      <td>2.226394</td>\n",
       "      <td>-2.967565</td>\n",
       "      <td>2.413155</td>\n",
       "      <td>4.622756</td>\n",
       "      <td>-0.921336</td>\n",
       "      <td>-0.567711</td>\n",
       "      <td>3.076979</td>\n",
       "      <td>-15.251547</td>\n",
       "      <td>-6.511789</td>\n",
       "      <td>-0.416771</td>\n",
       "      <td>-10.288551</td>\n",
       "      <td>1.315177</td>\n",
       "      <td>0.274091</td>\n",
       "      <td>0.189539</td>\n",
       "      <td>-6.007981</td>\n",
       "      <td>14.929133</td>\n",
       "      <td>2074.69</td>\n",
       "      <td>0</td>\n",
       "      <td>20.0</td>\n",
       "      <td>1.0</td>\n",
       "    </tr>\n",
       "    <tr>\n",
       "      <th>262843</th>\n",
       "      <td>160672.0</td>\n",
       "      <td>-34.092032</td>\n",
       "      <td>-24.237418</td>\n",
       "      <td>-15.758012</td>\n",
       "      <td>12.672760</td>\n",
       "      <td>-14.913249</td>\n",
       "      <td>7.939152</td>\n",
       "      <td>11.118494</td>\n",
       "      <td>-1.985873</td>\n",
       "      <td>5.693151</td>\n",
       "      <td>6.601719</td>\n",
       "      <td>0.690859</td>\n",
       "      <td>0.868797</td>\n",
       "      <td>2.803243</td>\n",
       "      <td>-2.158797</td>\n",
       "      <td>2.838230</td>\n",
       "      <td>5.286804</td>\n",
       "      <td>-0.566628</td>\n",
       "      <td>-0.572758</td>\n",
       "      <td>2.772667</td>\n",
       "      <td>-14.562079</td>\n",
       "      <td>-6.406856</td>\n",
       "      <td>-1.384773</td>\n",
       "      <td>-13.615143</td>\n",
       "      <td>1.542827</td>\n",
       "      <td>-0.332634</td>\n",
       "      <td>-0.058112</td>\n",
       "      <td>-6.782493</td>\n",
       "      <td>14.974180</td>\n",
       "      <td>1441.06</td>\n",
       "      <td>0</td>\n",
       "      <td>20.0</td>\n",
       "      <td>1.0</td>\n",
       "    </tr>\n",
       "    <tr>\n",
       "      <th>262839</th>\n",
       "      <td>160669.0</td>\n",
       "      <td>-31.972536</td>\n",
       "      <td>-22.709113</td>\n",
       "      <td>-13.942635</td>\n",
       "      <td>12.132323</td>\n",
       "      <td>-12.217243</td>\n",
       "      <td>6.721727</td>\n",
       "      <td>8.956140</td>\n",
       "      <td>-2.100171</td>\n",
       "      <td>5.795877</td>\n",
       "      <td>7.015112</td>\n",
       "      <td>0.726982</td>\n",
       "      <td>0.830798</td>\n",
       "      <td>2.501233</td>\n",
       "      <td>-2.393265</td>\n",
       "      <td>2.653246</td>\n",
       "      <td>4.799802</td>\n",
       "      <td>-0.612517</td>\n",
       "      <td>-0.669213</td>\n",
       "      <td>2.861955</td>\n",
       "      <td>-14.540913</td>\n",
       "      <td>-6.279207</td>\n",
       "      <td>-1.296311</td>\n",
       "      <td>-14.078082</td>\n",
       "      <td>1.519264</td>\n",
       "      <td>-0.562652</td>\n",
       "      <td>-0.018176</td>\n",
       "      <td>-6.617555</td>\n",
       "      <td>15.124103</td>\n",
       "      <td>1441.06</td>\n",
       "      <td>0</td>\n",
       "      <td>20.0</td>\n",
       "      <td>1.0</td>\n",
       "    </tr>\n",
       "    <tr>\n",
       "      <th>261282</th>\n",
       "      <td>159944.0</td>\n",
       "      <td>-23.441978</td>\n",
       "      <td>-14.981971</td>\n",
       "      <td>-9.581877</td>\n",
       "      <td>8.417627</td>\n",
       "      <td>-11.061877</td>\n",
       "      <td>7.758075</td>\n",
       "      <td>10.810261</td>\n",
       "      <td>-2.774280</td>\n",
       "      <td>5.358971</td>\n",
       "      <td>6.335275</td>\n",
       "      <td>0.538991</td>\n",
       "      <td>-0.325198</td>\n",
       "      <td>1.394314</td>\n",
       "      <td>-3.748751</td>\n",
       "      <td>0.671974</td>\n",
       "      <td>4.211133</td>\n",
       "      <td>-1.862392</td>\n",
       "      <td>-0.473282</td>\n",
       "      <td>1.655804</td>\n",
       "      <td>-14.487174</td>\n",
       "      <td>-5.979539</td>\n",
       "      <td>0.914055</td>\n",
       "      <td>-3.089904</td>\n",
       "      <td>0.767810</td>\n",
       "      <td>1.282514</td>\n",
       "      <td>0.050997</td>\n",
       "      <td>-6.426814</td>\n",
       "      <td>15.270650</td>\n",
       "      <td>1673.61</td>\n",
       "      <td>0</td>\n",
       "      <td>20.0</td>\n",
       "      <td>1.0</td>\n",
       "    </tr>\n",
       "    <tr>\n",
       "      <th>261843</th>\n",
       "      <td>160204.0</td>\n",
       "      <td>-26.389030</td>\n",
       "      <td>-17.755687</td>\n",
       "      <td>-10.278766</td>\n",
       "      <td>10.413010</td>\n",
       "      <td>-9.446086</td>\n",
       "      <td>6.220135</td>\n",
       "      <td>7.705953</td>\n",
       "      <td>-2.311311</td>\n",
       "      <td>5.501918</td>\n",
       "      <td>7.223713</td>\n",
       "      <td>0.727981</td>\n",
       "      <td>0.246398</td>\n",
       "      <td>1.819804</td>\n",
       "      <td>-3.104880</td>\n",
       "      <td>2.065221</td>\n",
       "      <td>3.801851</td>\n",
       "      <td>-0.865402</td>\n",
       "      <td>-0.524366</td>\n",
       "      <td>3.189471</td>\n",
       "      <td>-14.141898</td>\n",
       "      <td>-5.979891</td>\n",
       "      <td>-0.215655</td>\n",
       "      <td>-9.002474</td>\n",
       "      <td>1.126551</td>\n",
       "      <td>0.396670</td>\n",
       "      <td>0.220177</td>\n",
       "      <td>-6.592504</td>\n",
       "      <td>15.373170</td>\n",
       "      <td>1441.06</td>\n",
       "      <td>0</td>\n",
       "      <td>20.0</td>\n",
       "      <td>1.0</td>\n",
       "    </tr>\n",
       "  </tbody>\n",
       "</table>\n",
       "</div>"
      ],
      "text/plain": [
       "            Time         V1         V2         V3         V4          V5  \\\n",
       "268364  163174.0 -11.406053 -15.161015  -2.171858   3.100981    8.671023   \n",
       "284249  172273.0  -9.030538 -11.112584 -16.233798   3.592021  -40.427726   \n",
       "265400  161870.0  -1.360265   0.591017   0.736333   3.669747    7.476492   \n",
       "264356  161387.0  -7.019052   4.269540   1.563942  -1.571722   -1.028064   \n",
       "280205  169384.0 -14.507512 -18.324137  -0.991375   4.252741   13.028001   \n",
       "264509  161465.0 -10.362593  -9.235096  -2.074512   5.243058    1.004688   \n",
       "269532  163677.0  -7.025000   6.482562  -2.986522  -1.239608   -0.629018   \n",
       "282503  170943.0 -11.025028 -12.369532  -1.716078   2.506561    9.021776   \n",
       "258362  158616.0  -9.326717 -11.283392   1.401007  -0.023112    6.529104   \n",
       "274771  166198.0 -35.548539 -31.850484 -48.325589  15.304184 -113.743307   \n",
       "263658  161057.0 -15.207586 -20.984898   2.232215   4.724288   20.277728   \n",
       "265657  161985.0 -24.717179 -29.700604  -2.017586   7.015138   15.700555   \n",
       "257924  158412.0 -10.841476 -13.357772   0.781386   7.636304    8.243797   \n",
       "266105  162190.0 -13.603553 -19.337125  -0.483215   9.074932    3.980815   \n",
       "279610  168987.0 -25.672101 -30.913347  -2.943712   5.330375   11.886791   \n",
       "262378  160444.0 -28.623353 -19.262983 -13.042666  11.027770  -14.710239   \n",
       "262843  160672.0 -34.092032 -24.237418 -15.758012  12.672760  -14.913249   \n",
       "262839  160669.0 -31.972536 -22.709113 -13.942635  12.132323  -12.217243   \n",
       "261282  159944.0 -23.441978 -14.981971  -9.581877   8.417627  -11.061877   \n",
       "261843  160204.0 -26.389030 -17.755687 -10.278766  10.413010   -9.446086   \n",
       "\n",
       "               V6          V7         V8        V9        V10       V11  \\\n",
       "268364  -5.834923   -4.104816   1.026568 -1.884571   0.035929 -0.908545   \n",
       "284249  23.917837   44.054461  -7.277778 -4.210637  -7.776435  0.214173   \n",
       "265400  -1.754978   -6.245428  -0.857016 -1.218540   1.015745  1.407222   \n",
       "264356   1.845536    0.740147  -2.257753  7.404126  12.153414  1.158606   \n",
       "280205 -10.580776   -7.822209   1.234624  0.261412  -1.283913 -0.766411   \n",
       "264509   1.613001    1.850280   0.448277 -0.712417   0.801080  0.369792   \n",
       "269532   2.484863   -4.713088 -15.487784  2.402216   2.842180 -0.581929   \n",
       "282503  -5.882446   -5.559536  -0.288564  0.213490  -0.063428 -0.200818   \n",
       "258362  -4.894877   -3.291586   0.380540 -0.209074   0.345245  0.444650   \n",
       "274771  73.301626  120.589494 -27.347360 -3.872425 -12.005487  6.853897   \n",
       "263658 -14.425011  -13.154608   1.427081  1.318193   1.193774 -1.137219   \n",
       "265657 -10.819584   -3.586669  -1.336900  3.279434   1.437047 -0.626104   \n",
       "257924  -3.193150   -2.263034   0.125763 -0.541144   2.729971  0.361039   \n",
       "266105  -1.381985    0.094838   0.948402 -1.555340   0.071043 -0.318240   \n",
       "279610  -8.036176   -1.273707  -1.444300  2.047691   1.271063 -0.630691   \n",
       "262378   9.042659   12.143391  -2.818318  5.376427   6.556983  0.838451   \n",
       "262843   7.939152   11.118494  -1.985873  5.693151   6.601719  0.690859   \n",
       "262839   6.721727    8.956140  -2.100171  5.795877   7.015112  0.726982   \n",
       "261282   7.758075   10.810261  -2.774280  5.358971   6.335275  0.538991   \n",
       "261843   6.220135    7.705953  -2.311311  5.501918   7.223713  0.727981   \n",
       "\n",
       "             V12       V13       V14       V15        V16       V17       V18  \\\n",
       "268364 -0.059401 -0.366514  2.147868  1.557445  -3.356302  1.924122  0.261161   \n",
       "284249 -4.499851  0.241005  0.537895  2.901938   2.326099 -0.402142  1.257379   \n",
       "265400  0.459651 -0.926403 -1.658686 -0.108729   0.860097  2.398616 -0.675158   \n",
       "264356  0.422951  0.864540 -6.017857 -1.265434  -3.548272 -1.168983  1.410607   \n",
       "280205  1.412741  1.250059  0.463597  1.044119   0.527365  0.691475  1.125641   \n",
       "264509 -0.213287  0.058863  0.232016  0.680755   2.253566 -0.995285 -0.224307   \n",
       "269532  1.464823  0.148315 -0.956363 -0.143520   0.039083  1.865077 -0.111400   \n",
       "282503  0.499905 -0.721622  1.847857  2.258174  -0.701520  1.280618 -2.090390   \n",
       "258362 -0.291726  0.252064 -0.589125 -0.364519   2.403896 -1.023128 -0.002882   \n",
       "274771 -9.189418  7.126883 -6.795942  8.877742  17.315112 -7.173805 -1.968044   \n",
       "263658  1.290190  0.210044  0.956958  0.616365  -0.691259 -0.014592 -0.063760   \n",
       "265657 -0.005154  1.211044 -1.657643  1.605334   1.356467 -1.484121 -0.056169   \n",
       "257924 -0.731400  0.147582 -0.384274  1.575180   1.130990 -1.079506  1.378373   \n",
       "266105 -0.607916  0.268347  0.765498  1.516408   1.247797 -0.502231  3.175909   \n",
       "279610 -0.755941  1.965513 -2.259398  1.194688   3.806672 -1.539355 -1.588081   \n",
       "262378  0.162703  2.226394 -2.967565  2.413155   4.622756 -0.921336 -0.567711   \n",
       "262843  0.868797  2.803243 -2.158797  2.838230   5.286804 -0.566628 -0.572758   \n",
       "262839  0.830798  2.501233 -2.393265  2.653246   4.799802 -0.612517 -0.669213   \n",
       "261282 -0.325198  1.394314 -3.748751  0.671974   4.211133 -1.862392 -0.473282   \n",
       "261843  0.246398  1.819804 -3.104880  2.065221   3.801851 -0.865402 -0.524366   \n",
       "\n",
       "             V19        V20        V21       V22        V23       V24  \\\n",
       "268364 -0.953686   4.589868   1.567968 -0.779841   0.634224 -0.998243   \n",
       "284249  2.008145   2.454553  -0.269048  0.988144   7.040028  0.347693   \n",
       "265400 -2.249268  -0.893612   1.138853 -3.196808  -9.897976 -1.456335   \n",
       "264356 -0.287696   4.089605  -1.105360 -0.146616  -0.474601 -0.564067   \n",
       "280205 -1.269996   5.453226   1.970716 -1.148050  -0.556900  0.153433   \n",
       "264509 -1.840301  -4.106449  -1.032585  1.443410   4.042665 -1.552727   \n",
       "269532 -0.245879  -2.293179  14.718388 -6.152177   2.458753  0.201598   \n",
       "282503 -0.304674  -0.953131   0.667626 -1.215515  -4.854515 -0.418007   \n",
       "258362  0.265840  -0.822877  -0.038125  1.559860   6.667102 -0.448968   \n",
       "274771  5.501747 -54.497720 -21.620120  5.712303  -1.581098  4.584549   \n",
       "263658  0.328665   5.487377   1.382095 -2.119395   3.696036 -0.110174   \n",
       "265657  3.477968 -11.753658  -4.410023  3.820005  22.083545 -0.098109   \n",
       "257924  2.575810  -1.561260  -1.028149  1.053976  11.417157 -0.162332   \n",
       "266105  0.804698   9.476444   2.870794 -0.272079   8.462485 -0.207108   \n",
       "279610  2.841875 -11.312828  -4.777701  2.097348  20.803344  0.290511   \n",
       "262378  3.076979 -15.251547  -6.511789 -0.416771 -10.288551  1.315177   \n",
       "262843  2.772667 -14.562079  -6.406856 -1.384773 -13.615143  1.542827   \n",
       "262839  2.861955 -14.540913  -6.279207 -1.296311 -14.078082  1.519264   \n",
       "261282  1.655804 -14.487174  -5.979539  0.914055  -3.089904  0.767810   \n",
       "261843  3.189471 -14.141898  -5.979891 -0.215655  -9.002474  1.126551   \n",
       "\n",
       "             V25       V26        V27        V28    Amount  Class  Hour  Day  \n",
       "268364  0.993940  1.273555  -0.087849  -2.150797    563.59      0  21.0  1.0  \n",
       "284249  2.520869  2.342495   3.478175  -2.713136  10199.44      0  23.0  1.0  \n",
       "265400 -0.962997 -0.120436   0.622279   0.478855     15.16      0  20.0  1.0  \n",
       "264356  1.798423 -0.365865   1.282535  -0.546384     20.00      0  20.0  1.0  \n",
       "280205  0.987871 -0.260791   0.185033  -2.887229    104.25      0  23.0  1.0  \n",
       "264509  0.755319  0.254726   0.139469   1.791346    752.20      0  20.0  1.0  \n",
       "269532  0.557728  0.371794   1.242422   0.453724      8.99      0  21.0  1.0  \n",
       "282503 -0.303512  1.624997   2.218141  -3.598140     39.99      0  23.0  1.0  \n",
       "258362  2.609676  0.165168   0.686945  -0.291362     10.00      0  20.0  1.0  \n",
       "274771  4.554683  3.415636  31.612198 -15.430084  25691.16      0  22.0  1.0  \n",
       "263658  1.393085  0.299794  -0.968814   0.238503      1.98      0  20.0  1.0  \n",
       "265657  6.070850  1.461475   6.578849  -4.398798     35.95      0  20.0  1.0  \n",
       "257924  1.459861  0.401226   1.552543  -1.552210    113.46      0  20.0  1.0  \n",
       "266105  1.615177  0.444293  -1.253111   0.549336   2723.04      0  21.0  1.0  \n",
       "279610  5.826159  0.578662   6.987314  -3.666456    998.19      0  22.0  1.0  \n",
       "262378  0.274091  0.189539  -6.007981  14.929133   2074.69      0  20.0  1.0  \n",
       "262843 -0.332634 -0.058112  -6.782493  14.974180   1441.06      0  20.0  1.0  \n",
       "262839 -0.562652 -0.018176  -6.617555  15.124103   1441.06      0  20.0  1.0  \n",
       "261282  1.282514  0.050997  -6.426814  15.270650   1673.61      0  20.0  1.0  \n",
       "261843  0.396670  0.220177  -6.592504  15.373170   1441.06      0  20.0  1.0  "
      ]
     },
     "execution_count": 102,
     "metadata": {},
     "output_type": "execute_result"
    }
   ],
   "source": [
    "idx = np.argsort(scores_test[df_test['Class'] == 0])\n",
    "res = df_test[df_test['Class'] == 0].iloc[idx[-20:]]\n",
    "res"
   ]
  },
  {
   "cell_type": "markdown",
   "metadata": {},
   "source": [
    "Наш алгоритм дал большие оценки транзакциям, которые происходили в 20 - 23 часа в первый день. При этом мы знаем, что машеннические транзакции в это время не очень активны"
   ]
  },
  {
   "cell_type": "markdown",
   "metadata": {
    "id": "oLpfrhGFs9BX"
   },
   "source": [
    "**Задание 6. (1 балл).** `sklearn` также предлагает нам и другие методы для поиска аномалий. В этом задании мы предлагаем вам сделать следующее:\n",
    "\n",
    "Для начала попробуйте использовать методы Local Outlier Factor и One-Class SVM. Сравните результаты с IF и EIF.  "
   ]
  },
  {
   "cell_type": "code",
   "execution_count": 69,
   "metadata": {
    "id": "vs8q00tXs9BX"
   },
   "outputs": [],
   "source": [
    "from sklearn.neighbors import LocalOutlierFactor\n",
    "from sklearn.svm import OneClassSVM"
   ]
  },
  {
   "cell_type": "code",
   "execution_count": 30,
   "metadata": {},
   "outputs": [
    {
     "name": "stdout",
     "output_type": "stream",
     "text": [
      "Коэффициент Каппа Коэна для валидации 8.77832153522995e-06\n",
      "Коэффициент Каппа Коэна для теста 5.107238207513465e-05\n",
      "Коэффициент корреляции Мэтьюза для валидации 0.00028047603006572524\n",
      "Коэффициент корреляции Мэтьюза для теста 0.001855928992302174\n",
      "AUC-PR для валидации 0.0018697684721882227\n",
      "AUC-PR для теста 0.0008294108034766902\n"
     ]
    }
   ],
   "source": [
    "local_out = LocalOutlierFactor(novelty=True)\n",
    "local_out.fit(X_train_scaled, y_train)\n",
    "\n",
    "y_pred_val = local_out.predict(X_val_scaled) \n",
    "y_pred_test = local_out.predict(X_test_scaled)\n",
    "\n",
    "print(\"Коэффициент Каппа Коэна для валидации\", cohen_kappa_score(y_val, y_pred_val))\n",
    "print(\"Коэффициент Каппа Коэна для теста\", cohen_kappa_score(y_test, y_pred_test))\n",
    "print(\"Коэффициент корреляции Мэтьюза для валидации\", matthews_corrcoef(y_val, y_pred_val))\n",
    "print(\"Коэффициент корреляции Мэтьюза для теста\", matthews_corrcoef(y_test, y_pred_test))\n",
    "print(\"AUC-PR для валидации\", auc_pr(y_val, y_pred_val))\n",
    "print(\"AUC-PR для теста\", auc_pr(y_test, y_pred_test))"
   ]
  },
  {
   "cell_type": "code",
   "execution_count": 31,
   "metadata": {},
   "outputs": [
    {
     "name": "stdout",
     "output_type": "stream",
     "text": [
      "Коэффициент Каппа Коэна для валидации -0.0008961335996373609\n",
      "Коэффициент Каппа Коэна для теста -0.00035120621446727007\n",
      "Коэффициент корреляции Мэтьюза для валидации -0.020773278165214466\n",
      "Коэффициент корреляции Мэтьюза для теста -0.012636550025175858\n",
      "AUC-PR для валидации 0.00182716778438315\n",
      "AUC-PR для теста 0.0007405259178989388\n"
     ]
    }
   ],
   "source": [
    "y_pred_test = OneClassSVM().fit_predict(X_test_scaled)\n",
    "y_pred_val = OneClassSVM().fit_predict(X_val_scaled)\n",
    "\n",
    "\n",
    "print(\"Коэффициент Каппа Коэна для валидации\", cohen_kappa_score(y_val, y_pred_val))\n",
    "print(\"Коэффициент Каппа Коэна для теста\", cohen_kappa_score(y_test, y_pred_test))\n",
    "print(\"Коэффициент корреляции Мэтьюза для валидации\", matthews_corrcoef(y_val, y_pred_val))\n",
    "print(\"Коэффициент корреляции Мэтьюза для теста\", matthews_corrcoef(y_test, y_pred_test))\n",
    "print(\"AUC-PR для валидации\", auc_pr(y_val, y_pred_val))\n",
    "print(\"AUC-PR для теста\", auc_pr(y_test, y_pred_test))"
   ]
  },
  {
   "cell_type": "markdown",
   "metadata": {},
   "source": [
    "IF и EIF дали лучше результаты, но это в том числе связано с тем, что для LocalOutlierFactor и OneClassSVM не было перебора гиперпараметров"
   ]
  },
  {
   "cell_type": "markdown",
   "metadata": {
    "id": "BGY_u8nts9BX"
   },
   "source": [
    "У вас началась депрессия из-за плохих метрик? Не беда! Сейчас давайте сделаем так: все методы, опробованные в этой части, попробуем задействовать для создания дополнительных признаков в данных. Проделайте это (не забудьте, что обучаться здесь нужно на трейне). Теперь возьмите лучшую модель из предыдущей части и обучите на новых данных. Смогли ли unsupervised-методы повысить вам качество?"
   ]
  },
  {
   "cell_type": "code",
   "execution_count": 104,
   "metadata": {
    "id": "Q3QpV-Hgs9BY"
   },
   "outputs": [],
   "source": [
    "cur = OneClassSVM(nu=0.01).fit_predict(X_train_scaled)\n",
    "X_train['one_class'] = cur"
   ]
  },
  {
   "cell_type": "code",
   "execution_count": 110,
   "metadata": {},
   "outputs": [],
   "source": [
    "X_train['lof'] = LocalOutlierFactor().fit_predict(X_train_scaled)"
   ]
  },
  {
   "cell_type": "code",
   "execution_count": 113,
   "metadata": {},
   "outputs": [],
   "source": [
    "sklearn_if = IsolationForest(n_estimators=study_eif.best_params['n_trees'], max_samples=study_eif.best_params['subsample_rate'],\\\n",
    "                               contamination=0.01, random_state=42)\n",
    "sklearn_if.fit(X_train_scaled, y_train)\n",
    "y_pred = (sklearn_if.predict(X_train_scaled) == -1)\n",
    "X_train['if'] = y_pred"
   ]
  },
  {
   "cell_type": "code",
   "execution_count": 123,
   "metadata": {},
   "outputs": [],
   "source": [
    "scaler = StandardScaler()\n",
    "X_train_scaled_new = scaler.fit_transform(X_train[:int(np.ceil(0.9 * X_train.shape[0]))])\n",
    "X_test_scaled_new = scaler.transform(X_train[int(np.ceil(0.9 * X_train.shape[0])):])"
   ]
  },
  {
   "cell_type": "code",
   "execution_count": 124,
   "metadata": {},
   "outputs": [],
   "source": [
    "y_train_new = y_train[:int(np.ceil(0.9 * X_train.shape[0]))]\n",
    "y_test_new = y_train[int(np.ceil(0.9 * X_train.shape[0])):]"
   ]
  },
  {
   "cell_type": "code",
   "execution_count": 125,
   "metadata": {},
   "outputs": [
    {
     "name": "stdout",
     "output_type": "stream",
     "text": [
      "Коэффициент Каппа Коэна для теста 0.08070036411829407\n",
      "Коэффициент корреляции Мэтьюза для теста 0.17350713568181214\n",
      "AUC-PR для теста 0.031342456513765014\n"
     ]
    }
   ],
   "source": [
    "sklearn_if = IsolationForest(n_estimators=study_eif.best_params['n_trees'], max_samples=study_eif.best_params['subsample_rate'],\\\n",
    "                               contamination=0.01, random_state=42)\n",
    "sklearn_if.fit(X_train_scaled_new, y_train_new)\n",
    "\n",
    "y_pred_test = (sklearn_if.predict(X_test_scaled_new) == -1)\n",
    "\n",
    "print(\"Коэффициент Каппа Коэна для теста\", cohen_kappa_score(y_test_new, y_pred_test))\n",
    "print(\"Коэффициент корреляции Мэтьюза для теста\", matthews_corrcoef(y_test_new, y_pred_test))\n",
    "print(\"AUC-PR для теста\", auc_pr(y_test_new, y_pred_test))"
   ]
  },
  {
   "cell_type": "markdown",
   "metadata": {},
   "source": [
    "Метрики немного выросли, но совсем незначительно"
   ]
  },
  {
   "cell_type": "markdown",
   "metadata": {
    "id": "NiGbNcXHs9BY"
   },
   "source": [
    "**Бонус. (0.1 балла).**\n",
    "\n",
    "При сдаче проверяющий запустит следующую клетку один раз. Если она даст положительный результат, вы получите 0.1 бонусных балла. Если она даст отрицательный результат, вы получите -0.1 бонусных балла. \n",
    "\n",
    "Если вы хотите отказаться от сдачи данного задания, допишите \"хочу\" после двоеточия: `your text here`\n",
    "\n",
    "Ниже вы можете попрактиковаться и оценить ваши силы (изменять код ячейки запрещается!)"
   ]
  },
  {
   "cell_type": "code",
   "execution_count": 78,
   "metadata": {
    "id": "mfgJoZ_ns9BY"
   },
   "outputs": [
    {
     "data": {
      "text/plain": [
       "0.33003105680983524"
      ]
     },
     "execution_count": 78,
     "metadata": {},
     "output_type": "execute_result"
    }
   ],
   "source": [
    "import random\n",
    "\n",
    "rng = random.SystemRandom(0)\n",
    "rng.uniform(-1.0, 1.0)"
   ]
  }
 ],
 "metadata": {
  "colab": {
   "collapsed_sections": [],
   "name": "imbalanced-hw-clean.ipynb",
   "provenance": []
  },
  "kernelspec": {
   "display_name": "Python 3 (ipykernel)",
   "language": "python",
   "name": "python3"
  },
  "language_info": {
   "codemirror_mode": {
    "name": "ipython",
    "version": 3
   },
   "file_extension": ".py",
   "mimetype": "text/x-python",
   "name": "python",
   "nbconvert_exporter": "python",
   "pygments_lexer": "ipython3",
   "version": "3.11.4"
  }
 },
 "nbformat": 4,
 "nbformat_minor": 1
}
